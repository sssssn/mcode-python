{
 "cells": [
  {
   "cell_type": "markdown",
   "id": "fc0a59a7",
   "metadata": {},
   "source": [
    "# 제3유형_모집단 3개 이상"
   ]
  },
  {
   "cell_type": "markdown",
   "id": "caa6349d",
   "metadata": {},
   "source": [
    "# ☑️ 검정 방법\n",
    "\n",
    "## 1. 분산분석(ANOVA) : A집단 vs B집단 vs C집단 vs ...\n",
    "- (정규성 O) ANOVA 분석\n",
    "- (정규성 X) 크루스칼-왈리스 검정(kruskal-wallis test)"
   ]
  },
  {
   "cell_type": "markdown",
   "id": "0b9f3fd3",
   "metadata": {},
   "source": [
    "# ☑️ 가설 검정 순서\n",
    "\n",
    "> 1. 가설 설정\n",
    "> 2. 유의수준 확인\n",
    "> 3. 정규성 검정 <span style='background-color:#fff5b1'>❗집단 모두 정규성을 따를 경우</span>\n",
    "> 4. <span style='background-color:#fff5b1'>등분산 검정</span>\n",
    "> 5. 검정 실시 (통계량, p-value 확인) <span style='background-color:#fff5b1'>❗등분산 여부 확인</span>\n",
    "> 6. 귀무가설 기각 여부 결정 (채택/기각)"
   ]
  },
  {
   "cell_type": "markdown",
   "id": "e87e1c11",
   "metadata": {},
   "source": [
    "## 예제 문제"
   ]
  },
  {
   "cell_type": "markdown",
   "id": "e9add332",
   "metadata": {},
   "source": [
    "### 1-1. 다음은 A, B, C 그룹 인원의 성적 데이터이다. 세 그룹의 성적 평균이 같다고 할 수 있는지 ANOVA 분석을 실시하시오. (유의수준 5%)\n",
    "\n",
    "- A, B, C : 각 그룹 인원의 성적\n",
    "- H0(귀무가설) : A(평균) = B(평균) = C(평균)\n",
    "- H1(대립가설) : Not H0 (적어도 하나는 같지 않다.)"
   ]
  },
  {
   "cell_type": "code",
   "execution_count": 42,
   "id": "6ebf7e25",
   "metadata": {},
   "outputs": [],
   "source": [
    "import pandas as pd\n",
    "import numpy as np\n",
    "import scipy.stats as stats\n",
    "from scipy.stats import shapiro"
   ]
  },
  {
   "cell_type": "code",
   "execution_count": 43,
   "id": "ab19873d",
   "metadata": {},
   "outputs": [
    {
     "name": "stdout",
     "output_type": "stream",
     "text": [
      "     A    B    C\n",
      "0  120  110  130\n",
      "1  135  132  120\n",
      "2  122  123  115\n",
      "3  124  119  122\n",
      "4  135  123  133\n"
     ]
    }
   ],
   "source": [
    "# 데이터 만들기\n",
    "df = pd.DataFrame({\n",
    "    'A' : [120, 135, 122, 124, 135, 122, 145, 160, 155, 142, 144, 135, 167], \n",
    "    'B' : [110, 132, 123, 119, 123, 115, 140, 162, 142, 138, 135, 142, 160], \n",
    "    'C' : [130, 120, 115, 122, 133, 144, 122, 120, 110, 134, 125, 122, 122]})\n",
    "\n",
    "print(df.head())"
   ]
  },
  {
   "cell_type": "code",
   "execution_count": 44,
   "id": "de34b732",
   "metadata": {},
   "outputs": [],
   "source": [
    "# 1. 가설 설정\n",
    "# H0 : 세 그룹 성적의 평균값이 같다. A(평균) = B(평균) = C(평균)\n",
    "# H1 : 세 그룹 성적의 평균값이 적어도 하나는 같지 않다."
   ]
  },
  {
   "cell_type": "code",
   "execution_count": 45,
   "id": "2a0ac95c",
   "metadata": {},
   "outputs": [],
   "source": [
    "# 2. 유의수준 확인 : 유의수준 5%로 확인"
   ]
  },
  {
   "cell_type": "code",
   "execution_count": 46,
   "id": "c7cb0868",
   "metadata": {},
   "outputs": [
    {
     "name": "stdout",
     "output_type": "stream",
     "text": [
      "ShapiroResult(statistic=0.9314376711845398, pvalue=0.35585272312164307)\n",
      "ShapiroResult(statistic=0.9498201012611389, pvalue=0.5955665707588196)\n",
      "ShapiroResult(statistic=0.9396706223487854, pvalue=0.45265132188796997)\n"
     ]
    }
   ],
   "source": [
    "# 3. 정규성 검정\n",
    "print(stats.shapiro(df['A']))\n",
    "print(stats.shapiro(df['B']))\n",
    "print(stats.shapiro(df['C']))\n",
    "\n",
    "# statistic, pvalue = stats.shapiro(df['A'])\n",
    "# print(round(statistic, 4), round(pvalue, 4))"
   ]
  },
  {
   "cell_type": "markdown",
   "id": "7658d925",
   "metadata": {},
   "source": [
    "- 세 집단 모두 p-value 값이 유의수준(0.05) 보다 크다.\n",
    "    - 귀무가설(H0) 채택 => 정규분포를 따른다고 할 수 있다.\n",
    "- 만약 하나라도 정규분포를 따르지 않는다면 비모수 검정방법(크루스칼-왈리스 검정) 사용"
   ]
  },
  {
   "cell_type": "code",
   "execution_count": 47,
   "id": "1b90d698",
   "metadata": {},
   "outputs": [
    {
     "name": "stdout",
     "output_type": "stream",
     "text": [
      "BartlettResult(statistic=4.222248448848066, pvalue=0.12110174433684852)\n"
     ]
    }
   ],
   "source": [
    "# 4. 등분산성 검정\n",
    "# H0 : 등분산 한다.\n",
    "# H1 : 등분산 하지 않는다.\n",
    "print(stats.bartlett(df['A'], df['B'], df['C']))"
   ]
  },
  {
   "cell_type": "markdown",
   "id": "9082499f",
   "metadata": {},
   "source": [
    "- p-value 값이 유의수준(0.05) 보다 크다.\n",
    "    - 귀무가설(H0) 채택 => 등분산성을 따른다고 할 수 있다."
   ]
  },
  {
   "cell_type": "code",
   "execution_count": 48,
   "id": "76901d90",
   "metadata": {},
   "outputs": [
    {
     "name": "stdout",
     "output_type": "stream",
     "text": [
      "3.6971 0.0346\n"
     ]
    }
   ],
   "source": [
    "# 5.1 (정규성 O, 등분산성 O) 분산분석(F_oneway)\n",
    "import scipy.stats as stats\n",
    "statistic, pvalue = stats.f_oneway(df['A'], df['B'], df['C']) # (주의) 데이터가 각각 들어가야 함\n",
    "\n",
    "print(round(statistic, 4), round(pvalue, 4))"
   ]
  },
  {
   "cell_type": "code",
   "execution_count": 49,
   "id": "d8b3a449",
   "metadata": {},
   "outputs": [],
   "source": [
    "# 5.2 (정규성 O, 등분산성 X) Welch-ANOVA 분석\n",
    "# import pingouin as pg # pingouin 패키지 미지원\n",
    "# pg.welch_anova(dv = \"그룹변수명\", between = \"성적데이터\", data = 데이터)\n",
    "# pg.welcch_anova(df['A'], df['B'], df['C']) 형태로 분석 불가"
   ]
  },
  {
   "cell_type": "code",
   "execution_count": 50,
   "id": "c1de9231",
   "metadata": {},
   "outputs": [
    {
     "name": "stdout",
     "output_type": "stream",
     "text": [
      "6.897 0.0318\n"
     ]
    }
   ],
   "source": [
    "# 5.3 (정규성 X) 크루스칼-왈리스 검정\n",
    "import scipy.stats as stats\n",
    "statistic, pvalue = stats.kruskal(df['A'], df['B'], df['C'])\n",
    "print(round(statistic, 4), round(pvalue, 4))"
   ]
  },
  {
   "cell_type": "code",
   "execution_count": 51,
   "id": "ddebe860",
   "metadata": {},
   "outputs": [],
   "source": [
    "# 6. 귀무가설 기각 여부 결정 (채택/기각)\n",
    "# p-value 값이 0.05보다 작기 때문에(0.0346) 귀무가설 기각\n",
    "# 즉, 세 그룹의 성적 평균이 같다고 할 수 없다.\n",
    "\n",
    "# 답 : 기각"
   ]
  },
  {
   "cell_type": "markdown",
   "id": "316ab87e",
   "metadata": {},
   "source": [
    "### 1-2. 데이터 형태가 다를 경우"
   ]
  },
  {
   "cell_type": "code",
   "execution_count": 52,
   "id": "1a01101c",
   "metadata": {},
   "outputs": [
    {
     "name": "stdout",
     "output_type": "stream",
     "text": [
      "  항목  value\n",
      "0  A    120\n",
      "1  A    135\n",
      "2  A    122\n",
      "3  A    124\n",
      "4  A    135\n"
     ]
    }
   ],
   "source": [
    "# 데이터 만들기\n",
    "df2 = pd.DataFrame({\n",
    "    '항목' : ['A', 'A', 'A', 'A', 'A', 'A', 'A', 'A', 'A', 'A', 'A', 'A', 'A', \n",
    "            'B', 'B', 'B', 'B', 'B', 'B', 'B', 'B', 'B', 'B', 'B', 'B', 'B', \n",
    "            'C', 'C', 'C', 'C', 'C', 'C', 'C', 'C', 'C', 'C', 'C', 'C', 'C'], \n",
    "    'value' : [120, 135, 122, 124, 135, 122, 145, 160, 155, 142, 144, 135, 167, \n",
    "               110, 132, 123, 119, 123, 115, 140, 162, 142, 138, 135, 142, 160, \n",
    "               130, 120, 115, 122, 133, 144, 122, 120, 110, 134, 125, 122, 122]})\n",
    "\n",
    "print(df2.head())"
   ]
  },
  {
   "cell_type": "code",
   "execution_count": 53,
   "id": "a75c365e",
   "metadata": {},
   "outputs": [],
   "source": [
    "# 각각 필터링해서 변수명에 저장하고 분석 진행\n",
    "a = df2[df2['항목'] == 'A']['value']\n",
    "b = df2[df2['항목'] == 'B']['value']\n",
    "c = df2[df2['항목'] == 'C']['value']"
   ]
  },
  {
   "cell_type": "code",
   "execution_count": 54,
   "id": "2f9f6eea",
   "metadata": {},
   "outputs": [
    {
     "name": "stdout",
     "output_type": "stream",
     "text": [
      "3.6971 0.0346\n"
     ]
    }
   ],
   "source": [
    "# 분산분석(F_oneway)\n",
    "import scipy.stats as stats\n",
    "statistic, pvalue = stats.f_oneway(a, b, c)\n",
    "print(round(statistic, 4), round(pvalue, 4))"
   ]
  }
 ],
 "metadata": {
  "kernelspec": {
   "display_name": "Python 3 (ipykernel)",
   "language": "python",
   "name": "python3"
  },
  "language_info": {
   "codemirror_mode": {
    "name": "ipython",
    "version": 3
   },
   "file_extension": ".py",
   "mimetype": "text/x-python",
   "name": "python",
   "nbconvert_exporter": "python",
   "pygments_lexer": "ipython3",
   "version": "3.11.5"
  }
 },
 "nbformat": 4,
 "nbformat_minor": 5
}
