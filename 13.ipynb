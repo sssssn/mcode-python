{
 "cells": [
  {
   "cell_type": "markdown",
   "id": "ffd256af",
   "metadata": {},
   "source": [
    "# 제3유형_로지스틱 회귀분석"
   ]
  },
  {
   "cell_type": "markdown",
   "id": "8078f814",
   "metadata": {},
   "source": [
    "## 타이타닉 데이터 불러오기 (생존자 예측 데이터)"
   ]
  },
  {
   "cell_type": "code",
   "execution_count": 1,
   "id": "905e7625",
   "metadata": {},
   "outputs": [],
   "source": [
    "############### 실기환경 복사 영역 ###############\n",
    "import pandas as pd\n",
    "import numpy as np\n",
    "\n",
    "# Seaborn의 내장 타이타닉 데이터셋 불러오기\n",
    "import seaborn as sns\n",
    "df = sns.load_dataset('titanic')\n",
    "############### 실기환경 복사 영역 ###############"
   ]
  },
  {
   "cell_type": "code",
   "execution_count": 2,
   "id": "e3bfc9af",
   "metadata": {},
   "outputs": [
    {
     "name": "stdout",
     "output_type": "stream",
     "text": [
      "   survived  pclass     sex   age  sibsp  parch     fare embarked  class  \\\n",
      "0         0       3    male  22.0      1      0   7.2500        S  Third   \n",
      "1         1       1  female  38.0      1      0  71.2833        C  First   \n",
      "2         1       3  female  26.0      0      0   7.9250        S  Third   \n",
      "3         1       1  female  35.0      1      0  53.1000        S  First   \n",
      "4         0       3    male  35.0      0      0   8.0500        S  Third   \n",
      "\n",
      "     who  adult_male deck  embark_town alive  alone  \n",
      "0    man        True  NaN  Southampton    no  False  \n",
      "1  woman       False    C    Cherbourg   yes  False  \n",
      "2  woman       False  NaN  Southampton   yes   True  \n",
      "3  woman       False    C  Southampton   yes  False  \n",
      "4    man        True  NaN  Southampton    no   True  \n"
     ]
    }
   ],
   "source": [
    "print(df.head())"
   ]
  },
  {
   "cell_type": "code",
   "execution_count": 3,
   "id": "833d7813",
   "metadata": {},
   "outputs": [
    {
     "name": "stdout",
     "output_type": "stream",
     "text": [
      "   survived     sex  sibsp     fare\n",
      "0         0    male      1   7.2500\n",
      "1         1  female      1  71.2833\n",
      "2         1  female      0   7.9250\n",
      "3         1  female      1  53.1000\n",
      "4         0    male      0   8.0500\n"
     ]
    }
   ],
   "source": [
    "# 분석 데이터 설정\n",
    "df = df[['survived', 'sex', 'sibsp', 'fare']]\n",
    "# sex: 성별, sibsp: 탑승한 부모 및 자녀 수, fare: 요금\n",
    "\n",
    "print(df.head())"
   ]
  },
  {
   "cell_type": "markdown",
   "id": "e1a42eb3",
   "metadata": {},
   "source": [
    "## ✔️ 회귀식 : P(1일 확률) = 1 / ( 1 + exp (-f(x)) )\n",
    "- f(x) = b0 + b1x1 + b2x2 + b3x3\n",
    "- In(P/1-P) = b0 + b1x1 + b2x2 + b3x3  \n",
    "(P = 생존할 확률, x1 = sex, x2 = sibsp, x3 = fare)"
   ]
  },
  {
   "cell_type": "code",
   "execution_count": 4,
   "id": "4f879f07",
   "metadata": {},
   "outputs": [
    {
     "name": "stdout",
     "output_type": "stream",
     "text": [
      "   survived  sex  sibsp     fare\n",
      "0         0    0      1   7.2500\n",
      "1         1    1      1  71.2833\n",
      "2         1    1      0   7.9250\n",
      "3         1    1      1  53.1000\n",
      "4         0    0      0   8.0500\n"
     ]
    }
   ],
   "source": [
    "# 데이터 전처리\n",
    "# 변수 처리\n",
    "# 문자형 타입의 데이터의 경우 숫자로 변경\n",
    "# *** 실제 시험에서 지시사항을 따를 것 ***\n",
    "\n",
    "# 성별을 map 함수를 활용해서 각각 1과 0에 할당한다. (여성을 1, 남성을 0)\n",
    "# (실제 시험의 지시 조건에 따를 것)\n",
    "df['sex'] = df['sex'].map({'female' : 1, \n",
    "                           'male' : 0})\n",
    "\n",
    "print(df.head())"
   ]
  },
  {
   "cell_type": "code",
   "execution_count": 5,
   "id": "168c0209",
   "metadata": {},
   "outputs": [
    {
     "name": "stdout",
     "output_type": "stream",
     "text": [
      "<class 'pandas.core.frame.DataFrame'>\n",
      "RangeIndex: 891 entries, 0 to 890\n",
      "Data columns (total 4 columns):\n",
      " #   Column    Non-Null Count  Dtype  \n",
      "---  ------    --------------  -----  \n",
      " 0   survived  891 non-null    int64  \n",
      " 1   sex       891 non-null    int64  \n",
      " 2   sibsp     891 non-null    int64  \n",
      " 3   fare      891 non-null    float64\n",
      "dtypes: float64(1), int64(3)\n",
      "memory usage: 28.0 KB\n",
      "None\n"
     ]
    }
   ],
   "source": [
    "print(df.info())"
   ]
  },
  {
   "cell_type": "markdown",
   "id": "95ca6cd7",
   "metadata": {},
   "source": [
    "## 1. sklearn 라이브러리 사용"
   ]
  },
  {
   "cell_type": "code",
   "execution_count": 6,
   "id": "cb33ca1f",
   "metadata": {},
   "outputs": [],
   "source": [
    "# 독립변수와 종속변수 설정\n",
    "x = df.drop(['survived'], axis = 1) # x = df[['sex', 'age', 'fare']]\n",
    "y = df['survived']"
   ]
  },
  {
   "cell_type": "markdown",
   "id": "a5f79ac3",
   "metadata": {},
   "source": [
    "### <span style='background-color:#fff5b1'>❗LogisticRegression() 객체 안에 반드시 penalty = None으로 입력</span>"
   ]
  },
  {
   "cell_type": "code",
   "execution_count": 7,
   "id": "5b7ddb9f",
   "metadata": {
    "scrolled": true
   },
   "outputs": [
    {
     "data": {
      "text/html": [
       "<style>#sk-container-id-1 {color: black;}#sk-container-id-1 pre{padding: 0;}#sk-container-id-1 div.sk-toggleable {background-color: white;}#sk-container-id-1 label.sk-toggleable__label {cursor: pointer;display: block;width: 100%;margin-bottom: 0;padding: 0.3em;box-sizing: border-box;text-align: center;}#sk-container-id-1 label.sk-toggleable__label-arrow:before {content: \"▸\";float: left;margin-right: 0.25em;color: #696969;}#sk-container-id-1 label.sk-toggleable__label-arrow:hover:before {color: black;}#sk-container-id-1 div.sk-estimator:hover label.sk-toggleable__label-arrow:before {color: black;}#sk-container-id-1 div.sk-toggleable__content {max-height: 0;max-width: 0;overflow: hidden;text-align: left;background-color: #f0f8ff;}#sk-container-id-1 div.sk-toggleable__content pre {margin: 0.2em;color: black;border-radius: 0.25em;background-color: #f0f8ff;}#sk-container-id-1 input.sk-toggleable__control:checked~div.sk-toggleable__content {max-height: 200px;max-width: 100%;overflow: auto;}#sk-container-id-1 input.sk-toggleable__control:checked~label.sk-toggleable__label-arrow:before {content: \"▾\";}#sk-container-id-1 div.sk-estimator input.sk-toggleable__control:checked~label.sk-toggleable__label {background-color: #d4ebff;}#sk-container-id-1 div.sk-label input.sk-toggleable__control:checked~label.sk-toggleable__label {background-color: #d4ebff;}#sk-container-id-1 input.sk-hidden--visually {border: 0;clip: rect(1px 1px 1px 1px);clip: rect(1px, 1px, 1px, 1px);height: 1px;margin: -1px;overflow: hidden;padding: 0;position: absolute;width: 1px;}#sk-container-id-1 div.sk-estimator {font-family: monospace;background-color: #f0f8ff;border: 1px dotted black;border-radius: 0.25em;box-sizing: border-box;margin-bottom: 0.5em;}#sk-container-id-1 div.sk-estimator:hover {background-color: #d4ebff;}#sk-container-id-1 div.sk-parallel-item::after {content: \"\";width: 100%;border-bottom: 1px solid gray;flex-grow: 1;}#sk-container-id-1 div.sk-label:hover label.sk-toggleable__label {background-color: #d4ebff;}#sk-container-id-1 div.sk-serial::before {content: \"\";position: absolute;border-left: 1px solid gray;box-sizing: border-box;top: 0;bottom: 0;left: 50%;z-index: 0;}#sk-container-id-1 div.sk-serial {display: flex;flex-direction: column;align-items: center;background-color: white;padding-right: 0.2em;padding-left: 0.2em;position: relative;}#sk-container-id-1 div.sk-item {position: relative;z-index: 1;}#sk-container-id-1 div.sk-parallel {display: flex;align-items: stretch;justify-content: center;background-color: white;position: relative;}#sk-container-id-1 div.sk-item::before, #sk-container-id-1 div.sk-parallel-item::before {content: \"\";position: absolute;border-left: 1px solid gray;box-sizing: border-box;top: 0;bottom: 0;left: 50%;z-index: -1;}#sk-container-id-1 div.sk-parallel-item {display: flex;flex-direction: column;z-index: 1;position: relative;background-color: white;}#sk-container-id-1 div.sk-parallel-item:first-child::after {align-self: flex-end;width: 50%;}#sk-container-id-1 div.sk-parallel-item:last-child::after {align-self: flex-start;width: 50%;}#sk-container-id-1 div.sk-parallel-item:only-child::after {width: 0;}#sk-container-id-1 div.sk-dashed-wrapped {border: 1px dashed gray;margin: 0 0.4em 0.5em 0.4em;box-sizing: border-box;padding-bottom: 0.4em;background-color: white;}#sk-container-id-1 div.sk-label label {font-family: monospace;font-weight: bold;display: inline-block;line-height: 1.2em;}#sk-container-id-1 div.sk-label-container {text-align: center;}#sk-container-id-1 div.sk-container {/* jupyter's `normalize.less` sets `[hidden] { display: none; }` but bootstrap.min.css set `[hidden] { display: none !important; }` so we also need the `!important` here to be able to override the default hidden behavior on the sphinx rendered scikit-learn.org. See: https://github.com/scikit-learn/scikit-learn/issues/21755 */display: inline-block !important;position: relative;}#sk-container-id-1 div.sk-text-repr-fallback {display: none;}</style><div id=\"sk-container-id-1\" class=\"sk-top-container\"><div class=\"sk-text-repr-fallback\"><pre>LogisticRegression(penalty=None)</pre><b>In a Jupyter environment, please rerun this cell to show the HTML representation or trust the notebook. <br />On GitHub, the HTML representation is unable to render, please try loading this page with nbviewer.org.</b></div><div class=\"sk-container\" hidden><div class=\"sk-item\"><div class=\"sk-estimator sk-toggleable\"><input class=\"sk-toggleable__control sk-hidden--visually\" id=\"sk-estimator-id-1\" type=\"checkbox\" checked><label for=\"sk-estimator-id-1\" class=\"sk-toggleable__label sk-toggleable__label-arrow\">LogisticRegression</label><div class=\"sk-toggleable__content\"><pre>LogisticRegression(penalty=None)</pre></div></div></div></div></div>"
      ],
      "text/plain": [
       "LogisticRegression(penalty=None)"
      ]
     },
     "execution_count": 7,
     "metadata": {},
     "output_type": "execute_result"
    }
   ],
   "source": [
    "# 모델링\n",
    "from sklearn.linear_model import LogisticRegression # 회귀는 LinearRegression\n",
    "\n",
    "# 반드시 penalty = None 으로 입력! default = 'l2'\n",
    "model1 = LogisticRegression(penalty = None)\n",
    "# 시험 환경에선 model1 = LogisticRegression(penalty = 'none')\n",
    "model1.fit(x, y)"
   ]
  },
  {
   "cell_type": "code",
   "execution_count": 8,
   "id": "639a3650",
   "metadata": {},
   "outputs": [
    {
     "name": "stdout",
     "output_type": "stream",
     "text": [
      "[[ 2.5668 -0.4017  0.0138]]\n",
      "2.5668\n",
      "-0.4017\n",
      "0.0138\n",
      "[-1.6964]\n"
     ]
    }
   ],
   "source": [
    "# 로지스틱회귀분석 관련 지표 출력\n",
    "\n",
    "# 1. 회귀계수 출력 : model.coef_\n",
    "print(np.round(model1.coef_, 4)) # 전체 회귀계수\n",
    "print(np.round(model1.coef_[0, 0], 4)) # x1의 회귀계수\n",
    "print(np.round(model1.coef_[0, 1], 4)) # x2의 회귀계수\n",
    "print(np.round(model1.coef_[0, 2], 4)) # x3의 회귀계수\n",
    "\n",
    "# 2. 회귀계수(절편) : model.intercept_\n",
    "print(np.round(model1.intercept_, 4))"
   ]
  },
  {
   "cell_type": "markdown",
   "id": "b73cda64",
   "metadata": {},
   "source": [
    "## ✔️ 회귀식 : P(1일 확률) = 1 / ( 1 + exp (-f(x)) )\n",
    "- f(x) = b0 + b1x1 + b2x2 + b3x3\n",
    "- In(P/1-P) = b0 + b1x1 + b2x2 + b3x3  \n",
    "(P = 생존할 확률, x1 = sex, x2 = sibsp, x3 = fare)\n",
    "\n",
    "### 결과 : In(P/1-P) = -1.6964 + 2.5668sex - 0.4017sibsp + 0.0138fare"
   ]
  },
  {
   "cell_type": "code",
   "execution_count": 9,
   "id": "1824d91b",
   "metadata": {},
   "outputs": [
    {
     "name": "stdout",
     "output_type": "stream",
     "text": [
      "0.669\n"
     ]
    }
   ],
   "source": [
    "# 3-1. 로지스틱 회귀모형에서 sibsp 변수가 한 단위 증가할 때 생존할 오즈가 몇 배 증가하는지 반올림하여 소수점 셋째 자리까지 구하시오.\n",
    "\n",
    "# exp(b2)\n",
    "result1 = np.exp(model1.coef_[0][1]) # 인덱싱 주의\n",
    "# result1 = np.exp(model1.coef_[0, 1])\n",
    "print(round(result1, 3))\n",
    "\n",
    "# 해석 : sibsp 변수가 한 단위 증가할 때 생존할 오즈가 0.669배 증가한다.\n",
    "#        생존할 오즈가 약 33% 감소한다. (생존할 확률이 감소한다.)"
   ]
  },
  {
   "cell_type": "code",
   "execution_count": 10,
   "id": "f296abbc",
   "metadata": {},
   "outputs": [
    {
     "name": "stdout",
     "output_type": "stream",
     "text": [
      "13.024\n"
     ]
    }
   ],
   "source": [
    "# 3-2. 로지스틱 회귀모형에서 여성일 경우 남성에 비해 오즈가 몇 배 증가하는지 반올림하여 소수점 셋째 자리까지 구하시오.\n",
    "\n",
    "# exp(b1)\n",
    "result2 = np.exp(model1.coef_[0][0]) # 인덱싱 주의\n",
    "# result2 = np.exp(model1.coef_[0, 0])\n",
    "print(round(result2, 3))\n",
    "\n",
    "# 해석 : 여성일 경우 남성에 비해 생존할 오즈가 13.024배 증가한다.\n",
    "#        생존할 오즈가 약 13배 증가한다. (생존할 확률이 증가한다.)"
   ]
  },
  {
   "cell_type": "markdown",
   "id": "a582f95b",
   "metadata": {},
   "source": [
    "## \t2. statsmodels 라이브러리 사용"
   ]
  },
  {
   "cell_type": "markdown",
   "id": "a5957ba8",
   "metadata": {},
   "source": [
    "### <span style='background-color:#fff5b1'>❗실제 오즈가 몇 배 증가했는지 계산하는 문제가 나온다면 sklearn 라이브러리를 사용하여 회귀계수를 직접 구해서 계산하기 (소수점이 결과값에 영향을 줄 수 있음)</span>"
   ]
  },
  {
   "cell_type": "code",
   "execution_count": 11,
   "id": "a79d1df5",
   "metadata": {},
   "outputs": [
    {
     "name": "stdout",
     "output_type": "stream",
     "text": [
      "Optimization terminated successfully.\n",
      "         Current function value: 0.483846\n",
      "         Iterations 6\n",
      "                           Logit Regression Results                           \n",
      "==============================================================================\n",
      "Dep. Variable:               survived   No. Observations:                  891\n",
      "Model:                          Logit   Df Residuals:                      887\n",
      "Method:                           MLE   Df Model:                            3\n",
      "Date:                Sat, 02 Dec 2023   Pseudo R-squ.:                  0.2734\n",
      "Time:                        02:36:02   Log-Likelihood:                -431.11\n",
      "converged:                       True   LL-Null:                       -593.33\n",
      "Covariance Type:            nonrobust   LLR p-value:                 5.094e-70\n",
      "==============================================================================\n",
      "                 coef    std err          z      P>|z|      [0.025      0.975]\n",
      "------------------------------------------------------------------------------\n",
      "const         -1.6964      0.129    -13.134      0.000      -1.950      -1.443\n",
      "sex            2.5668      0.179     14.321      0.000       2.216       2.918\n",
      "sibsp         -0.4017      0.095     -4.222      0.000      -0.588      -0.215\n",
      "fare           0.0138      0.003      5.367      0.000       0.009       0.019\n",
      "==============================================================================\n"
     ]
    }
   ],
   "source": [
    "# 모델링\n",
    "import statsmodels.api as sm\n",
    "\n",
    "x = sm.add_constant(x) # (주의) 상수항 추가\n",
    "model2 = sm.Logit(y, x).fit() # (주의) 왼쪽이 y\n",
    "summary = model2.summary()\n",
    "print(summary)"
   ]
  },
  {
   "cell_type": "markdown",
   "id": "d0a5cfcb",
   "metadata": {},
   "source": [
    "### (결과 비교) 두 라이브러리 모두 같은 결과값 출력\n",
    "\n",
    "- 회귀식 : P(1일 확률) = 1 / ( 1 + exp (-f(x)) )\n",
    "- f(x) = b0 + b1x1 + b2x2 + b3x3\n",
    "- In(P/1-P) = b0 + b1x1 + b2x2 + b3x3  \n",
    "(P = 생존할 확률, x1 = sex, x2 = sibsp, x3 = fare)\n",
    "\n",
    "### 1. sklearn\n",
    "#### In(P/1-P) = -1.6964 + 2.5668sex - 0.4017sibsp + 0.0138fare\n",
    "\n",
    "### 2. statsmodels\n",
    "#### In(P/1-P) = -1.6964 + 2.5668sex - 0.4017sibsp + 0.0138fare"
   ]
  }
 ],
 "metadata": {
  "kernelspec": {
   "display_name": "Python 3 (ipykernel)",
   "language": "python",
   "name": "python3"
  },
  "language_info": {
   "codemirror_mode": {
    "name": "ipython",
    "version": 3
   },
   "file_extension": ".py",
   "mimetype": "text/x-python",
   "name": "python",
   "nbconvert_exporter": "python",
   "pygments_lexer": "ipython3",
   "version": "3.11.5"
  }
 },
 "nbformat": 4,
 "nbformat_minor": 5
}
