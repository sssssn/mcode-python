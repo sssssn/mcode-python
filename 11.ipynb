{
 "cells": [
  {
   "cell_type": "markdown",
   "id": "674edf17",
   "metadata": {},
   "source": [
    "# 제3유형_카이제곱 검정"
   ]
  },
  {
   "cell_type": "markdown",
   "id": "509ee4d4",
   "metadata": {},
   "source": [
    "# ☑️ 분석 유형\n",
    "\n",
    "## 1️⃣ 적합도 검정 - 각 범주에 속할 확률이 같은지?\n",
    "## 2️⃣ 독립성 검정 - 두 개의 범주형 변수가 서로 독립인지?"
   ]
  },
  {
   "cell_type": "markdown",
   "id": "f467b7bb",
   "metadata": {},
   "source": [
    "# ☑️ 가설 검정 순서\n",
    "\n",
    "> 1. 가설 설정\n",
    "> 2. 유의수준 확인\n",
    "> 5. 검정 실시 (통계량, p-value 확인, <span style='background-color:#fff5b1'>기대빈도 확인</span>)\n",
    "> 6. 귀무가설 기각 여부 결정 (채택/기각)"
   ]
  },
  {
   "cell_type": "markdown",
   "id": "38a4f9ea",
   "metadata": {},
   "source": [
    "## 예제 문제"
   ]
  },
  {
   "cell_type": "markdown",
   "id": "4533558b",
   "metadata": {},
   "source": [
    "## 1️⃣ 적합도 검정 - 각 범주에 속할 확률이 같은지?"
   ]
  },
  {
   "cell_type": "markdown",
   "id": "c8386007",
   "metadata": {},
   "source": [
    "### 1-1. 랜덤 박스에 상품 A, B, C, D가 들어있다. 다음은 랜덤박스에서 100번 상품을 꺼냈을 때의 상품 데이터라고 할 때 상품이 동일한 비율로 들어있다고 할 수 있는지 검정하시오."
   ]
  },
  {
   "cell_type": "code",
   "execution_count": 202,
   "id": "4b71fce5",
   "metadata": {},
   "outputs": [],
   "source": [
    "import pandas as pd\n",
    "import numpy as np"
   ]
  },
  {
   "cell_type": "code",
   "execution_count": 203,
   "id": "e30b9204",
   "metadata": {},
   "outputs": [
    {
     "data": {
      "text/html": [
       "<div>\n",
       "<style scoped>\n",
       "    .dataframe tbody tr th:only-of-type {\n",
       "        vertical-align: middle;\n",
       "    }\n",
       "\n",
       "    .dataframe tbody tr th {\n",
       "        vertical-align: top;\n",
       "    }\n",
       "\n",
       "    .dataframe thead th {\n",
       "        text-align: right;\n",
       "    }\n",
       "</style>\n",
       "<table border=\"1\" class=\"dataframe\">\n",
       "  <thead>\n",
       "    <tr style=\"text-align: right;\">\n",
       "      <th></th>\n",
       "      <th>A</th>\n",
       "      <th>B</th>\n",
       "      <th>C</th>\n",
       "      <th>D</th>\n",
       "    </tr>\n",
       "  </thead>\n",
       "  <tbody>\n",
       "    <tr>\n",
       "      <th>0</th>\n",
       "      <td>30</td>\n",
       "      <td>20</td>\n",
       "      <td>15</td>\n",
       "      <td>35</td>\n",
       "    </tr>\n",
       "  </tbody>\n",
       "</table>\n",
       "</div>"
      ],
      "text/plain": [
       "    A   B   C   D\n",
       "0  30  20  15  35"
      ]
     },
     "execution_count": 203,
     "metadata": {},
     "output_type": "execute_result"
    }
   ],
   "source": [
    "# 데이터 만들기\n",
    "row1 = [30, 20, 15, 35]\n",
    "df = pd.DataFrame([row1], columns = ['A', 'B', 'C', 'D'])\n",
    "df"
   ]
  },
  {
   "cell_type": "code",
   "execution_count": 204,
   "id": "39cd0db4",
   "metadata": {},
   "outputs": [],
   "source": [
    "# 1. 가설 설정\n",
    "# H0 : 랜덤 박스에 상품 A, B, C, D가 동일한 비율로 들어있다.\n",
    "# H1 : 랜덤 박스에 상품 A, B, C, D가 동일한 비율로 들어있지 않다."
   ]
  },
  {
   "cell_type": "code",
   "execution_count": 205,
   "id": "b6ed3d11",
   "metadata": {},
   "outputs": [],
   "source": [
    "# 2. 유의수준 확인 : 유의수준 5%로 확인"
   ]
  },
  {
   "cell_type": "code",
   "execution_count": 206,
   "id": "3cc335e9",
   "metadata": {},
   "outputs": [
    {
     "name": "stdout",
     "output_type": "stream",
     "text": [
      "10.0\n",
      "0.01856613546304325\n"
     ]
    }
   ],
   "source": [
    "# 3. 검정 실시 (통계량, p-value)\n",
    "from scipy.stats import chisquare\n",
    "# chisquare(f_obs = f_obs, f_exp = f_exp) # 관측값, 기대값\n",
    "\n",
    "# 관측값과 기대값 구하기\n",
    "f_obs = [30, 20, 15, 35]\n",
    "# f_obs = df.iloc[0]\n",
    "f_exp = [25, 25, 25, 25]\n",
    "\n",
    "statistic, pvalue = chisquare(f_obs = f_obs, f_exp = f_exp)\n",
    "print(statistic)\n",
    "print(pvalue)"
   ]
  },
  {
   "cell_type": "code",
   "execution_count": 207,
   "id": "cfeaab05",
   "metadata": {},
   "outputs": [],
   "source": [
    "# 4. 귀무가설 기각 여부 결정 (채택/기각)\n",
    "# p-value 값이 0.05보다 작기 때문에(0.0186) 귀무가설 기각\n",
    "# 즉, 랜덤 박스에 상품 A, B, C, D가 동일한 비율로 들어있다고 할 수 없다.\n",
    "\n",
    "# 답 : 기각"
   ]
  },
  {
   "cell_type": "markdown",
   "id": "8353fc01",
   "metadata": {},
   "source": [
    "### 1-2. 랜덤 박스에 상품 A, B, C가 들어있다. 다음은 랜덤박스에서 150번 상품을 꺼냈을 때의 상품 데이터라고 할 때 상품별로 A 30%, B 15%, C 55% 비율로 들어있다고 할 수 있을지 검정하시오."
   ]
  },
  {
   "cell_type": "code",
   "execution_count": 208,
   "id": "450cfda1",
   "metadata": {},
   "outputs": [
    {
     "data": {
      "text/html": [
       "<div>\n",
       "<style scoped>\n",
       "    .dataframe tbody tr th:only-of-type {\n",
       "        vertical-align: middle;\n",
       "    }\n",
       "\n",
       "    .dataframe tbody tr th {\n",
       "        vertical-align: top;\n",
       "    }\n",
       "\n",
       "    .dataframe thead th {\n",
       "        text-align: right;\n",
       "    }\n",
       "</style>\n",
       "<table border=\"1\" class=\"dataframe\">\n",
       "  <thead>\n",
       "    <tr style=\"text-align: right;\">\n",
       "      <th></th>\n",
       "      <th>A</th>\n",
       "      <th>B</th>\n",
       "      <th>C</th>\n",
       "    </tr>\n",
       "  </thead>\n",
       "  <tbody>\n",
       "    <tr>\n",
       "      <th>0</th>\n",
       "      <td>50</td>\n",
       "      <td>25</td>\n",
       "      <td>75</td>\n",
       "    </tr>\n",
       "  </tbody>\n",
       "</table>\n",
       "</div>"
      ],
      "text/plain": [
       "    A   B   C\n",
       "0  50  25  75"
      ]
     },
     "execution_count": 208,
     "metadata": {},
     "output_type": "execute_result"
    }
   ],
   "source": [
    "# 데이터 만들기\n",
    "row1 = [50, 25, 75]\n",
    "df = pd.DataFrame([row1], columns = ['A', 'B', 'C'])\n",
    "df"
   ]
  },
  {
   "cell_type": "code",
   "execution_count": 209,
   "id": "8452b930",
   "metadata": {},
   "outputs": [],
   "source": [
    "# 1. 가설 설정\n",
    "# H0 : 랜덤 박스에 상품 A, B, C가 30%, 15%, 55%의 비율로 들어있다.\n",
    "# H1 : 랜덤 박스에 상품 A, B, C가 30%, 15%, 55%의 비율로 들어있지 않다."
   ]
  },
  {
   "cell_type": "code",
   "execution_count": 210,
   "id": "0f600643",
   "metadata": {},
   "outputs": [],
   "source": [
    "# 2. 유의수준 확인 : 유의수준 5%로 확인"
   ]
  },
  {
   "cell_type": "code",
   "execution_count": 211,
   "id": "50b20e47",
   "metadata": {},
   "outputs": [
    {
     "name": "stdout",
     "output_type": "stream",
     "text": [
      "1.5151515151515151\n",
      "0.46880153914023537\n"
     ]
    }
   ],
   "source": [
    "# 3. 검정 실시 (통계량, p-value 확인)\n",
    "from scipy.stats import chisquare\n",
    "# chisquare(f_obs = f_obs, f_exp = f_exp) # 관측값, 기대값\n",
    "\n",
    "# 관측값과 기대값 구하기\n",
    "f_obs = [50, 25, 75]\n",
    "# f_obs = df.iloc[0]\n",
    "a = 150 * 0.3\n",
    "b = 150 * 0.15\n",
    "c = 150 * 0.55\n",
    "f_exp = [a, b, c]\n",
    "\n",
    "statistic, pvalue = chisquare(f_obs = f_obs, f_exp = f_exp)\n",
    "print(statistic)\n",
    "print(pvalue)"
   ]
  },
  {
   "cell_type": "code",
   "execution_count": 212,
   "id": "c462851b",
   "metadata": {},
   "outputs": [],
   "source": [
    "# 4. 귀무가설 기각 여부 결정 (채택/기각)\n",
    "# p-value 값이 0.05보다 크기 때문에(0.4688) 귀무가설 채택\n",
    "# 즉, 랜덤 박스에 상품 A, B, C가 30%, 15%, 55%의 비율로 들어있다고 할 수 있다.\n",
    "\n",
    "# 답 : 채택"
   ]
  },
  {
   "cell_type": "markdown",
   "id": "11263c5f",
   "metadata": {},
   "source": [
    "## 2️⃣ 독립성 검정 - 두 개의 범주형 변수가 서로 독립인지?"
   ]
  },
  {
   "cell_type": "markdown",
   "id": "e05d6eff",
   "metadata": {},
   "source": [
    "### 2-1. 연령대에 따라 먹는 아이스크림의 차이가 있는지 독립성 검정을 실시하시오."
   ]
  },
  {
   "cell_type": "code",
   "execution_count": 213,
   "id": "27f17779",
   "metadata": {},
   "outputs": [
    {
     "data": {
      "text/html": [
       "<div>\n",
       "<style scoped>\n",
       "    .dataframe tbody tr th:only-of-type {\n",
       "        vertical-align: middle;\n",
       "    }\n",
       "\n",
       "    .dataframe tbody tr th {\n",
       "        vertical-align: top;\n",
       "    }\n",
       "\n",
       "    .dataframe thead th {\n",
       "        text-align: right;\n",
       "    }\n",
       "</style>\n",
       "<table border=\"1\" class=\"dataframe\">\n",
       "  <thead>\n",
       "    <tr style=\"text-align: right;\">\n",
       "      <th></th>\n",
       "      <th>딸기</th>\n",
       "      <th>초코</th>\n",
       "      <th>바닐라</th>\n",
       "    </tr>\n",
       "  </thead>\n",
       "  <tbody>\n",
       "    <tr>\n",
       "      <th>10대</th>\n",
       "      <td>200</td>\n",
       "      <td>190</td>\n",
       "      <td>250</td>\n",
       "    </tr>\n",
       "    <tr>\n",
       "      <th>20대</th>\n",
       "      <td>220</td>\n",
       "      <td>250</td>\n",
       "      <td>300</td>\n",
       "    </tr>\n",
       "  </tbody>\n",
       "</table>\n",
       "</div>"
      ],
      "text/plain": [
       "      딸기   초코  바닐라\n",
       "10대  200  190  250\n",
       "20대  220  250  300"
      ]
     },
     "execution_count": 213,
     "metadata": {},
     "output_type": "execute_result"
    }
   ],
   "source": [
    "# 데이터 만들기\n",
    "row1, row2 = [200, 190, 250], [220, 250, 300]\n",
    "df = pd.DataFrame([row1, row2], columns = ['딸기', '초코', '바닐라'], index = ['10대', '20대'])\n",
    "df"
   ]
  },
  {
   "cell_type": "code",
   "execution_count": 214,
   "id": "afc71ba3",
   "metadata": {},
   "outputs": [],
   "source": [
    "# 1. 가설 설정\n",
    "# H0 : 연령대와 먹는 아이스크림의 종류는 서로 관련이 없다. (두 변수는 서로 독립이다.)\n",
    "# H1 : 연령대와 먹는 아이스크림의 종류는 서로 관련이 있다. (두 변수는 서로 독립이 아니다.)"
   ]
  },
  {
   "cell_type": "code",
   "execution_count": 215,
   "id": "fc6ca680",
   "metadata": {},
   "outputs": [],
   "source": [
    "# 2. 유의수준 확인 : 유의수준 5%로 확인"
   ]
  },
  {
   "cell_type": "code",
   "execution_count": 216,
   "id": "cc3c59e1",
   "metadata": {},
   "outputs": [
    {
     "name": "stdout",
     "output_type": "stream",
     "text": [
      "1.708360126075226\n",
      "0.4256320394874311\n",
      "2\n",
      "[[190.64 199.72 249.65]\n",
      " [229.36 240.28 300.35]]\n"
     ]
    }
   ],
   "source": [
    "# 3. 검정 실시 (통계량, p-value, 기대빈도 확인)\n",
    "from scipy.stats import chi2_contingency\n",
    "\n",
    "statistic, pvalue, dof, expected = chi2_contingency(df)\n",
    "# 공식 문서 : statistic(통계량), pvalue, dof(자유도), expected_freq(기대빈도)\n",
    "\n",
    "# 아래와 같이 입력해도 동일한 결과값\n",
    "# statistic, pvalue, dof, expected = chi2_contingency([row1, row2])\n",
    "# statistic, pvalue, dof, expected = chi2_contingency([df.iloc[0], df.iloc[1]])\n",
    "\n",
    "print(statistic)\n",
    "print(pvalue)\n",
    "print(dof) # 자유도 = (행 - 1) * (열 - 1)\n",
    "print(np.round(expected, 2)) # 반올림하고 싶다면 np.round()\n",
    "\n",
    "# (참고) print(chi2_contingency([row1, row2]))"
   ]
  },
  {
   "cell_type": "code",
   "execution_count": 217,
   "id": "d7898bc8",
   "metadata": {},
   "outputs": [],
   "source": [
    "# 4. 귀무가설 기각 여부 결정 (채택/기각)\n",
    "# p-value 값이 0.05보다 크기 때문에(0.4256) 귀무가설 채택\n",
    "# 즉, 연령대와 먹는 아이스크림의 종류는 서로 관련이 없다고 할 수 있다.\n",
    "\n",
    "# 답 : 채택"
   ]
  },
  {
   "cell_type": "markdown",
   "id": "3d59e6f4",
   "metadata": {},
   "source": [
    "### (추가) 만약 데이터 형태가 다르다면?"
   ]
  },
  {
   "cell_type": "code",
   "execution_count": 218,
   "id": "a0536b06",
   "metadata": {},
   "outputs": [
    {
     "data": {
      "text/html": [
       "<div>\n",
       "<style scoped>\n",
       "    .dataframe tbody tr th:only-of-type {\n",
       "        vertical-align: middle;\n",
       "    }\n",
       "\n",
       "    .dataframe tbody tr th {\n",
       "        vertical-align: top;\n",
       "    }\n",
       "\n",
       "    .dataframe thead th {\n",
       "        text-align: right;\n",
       "    }\n",
       "</style>\n",
       "<table border=\"1\" class=\"dataframe\">\n",
       "  <thead>\n",
       "    <tr style=\"text-align: right;\">\n",
       "      <th></th>\n",
       "      <th>아이스크림</th>\n",
       "      <th>연령</th>\n",
       "      <th>인원</th>\n",
       "    </tr>\n",
       "  </thead>\n",
       "  <tbody>\n",
       "    <tr>\n",
       "      <th>0</th>\n",
       "      <td>딸기</td>\n",
       "      <td>10대</td>\n",
       "      <td>200</td>\n",
       "    </tr>\n",
       "    <tr>\n",
       "      <th>1</th>\n",
       "      <td>초코</td>\n",
       "      <td>10대</td>\n",
       "      <td>190</td>\n",
       "    </tr>\n",
       "    <tr>\n",
       "      <th>2</th>\n",
       "      <td>바닐라</td>\n",
       "      <td>10대</td>\n",
       "      <td>250</td>\n",
       "    </tr>\n",
       "    <tr>\n",
       "      <th>3</th>\n",
       "      <td>딸기</td>\n",
       "      <td>20대</td>\n",
       "      <td>220</td>\n",
       "    </tr>\n",
       "    <tr>\n",
       "      <th>4</th>\n",
       "      <td>초코</td>\n",
       "      <td>20대</td>\n",
       "      <td>250</td>\n",
       "    </tr>\n",
       "    <tr>\n",
       "      <th>5</th>\n",
       "      <td>바닐라</td>\n",
       "      <td>20대</td>\n",
       "      <td>300</td>\n",
       "    </tr>\n",
       "  </tbody>\n",
       "</table>\n",
       "</div>"
      ],
      "text/plain": [
       "  아이스크림   연령   인원\n",
       "0    딸기  10대  200\n",
       "1    초코  10대  190\n",
       "2   바닐라  10대  250\n",
       "3    딸기  20대  220\n",
       "4    초코  20대  250\n",
       "5   바닐라  20대  300"
      ]
     },
     "execution_count": 218,
     "metadata": {},
     "output_type": "execute_result"
    }
   ],
   "source": [
    "# ★ tip : pd.crosstab() 사용 방법\n",
    "# (Case 1) 만약 데이터가 아래와 같이 주어진다면?\n",
    "df = pd.DataFrame({\n",
    "    '아이스크림' : ['딸기', '초코', '바닐라', '딸기', '초코', '바닐라'], \n",
    "    '연령' : ['10대', '10대', '10대', '20대', '20대', '20대'], \n",
    "    '인원' : [200, 190, 250, 220, 250, 300]})\n",
    "df"
   ]
  },
  {
   "cell_type": "code",
   "execution_count": 219,
   "id": "13ccc059",
   "metadata": {},
   "outputs": [
    {
     "data": {
      "text/html": [
       "<div>\n",
       "<style scoped>\n",
       "    .dataframe tbody tr th:only-of-type {\n",
       "        vertical-align: middle;\n",
       "    }\n",
       "\n",
       "    .dataframe tbody tr th {\n",
       "        vertical-align: top;\n",
       "    }\n",
       "\n",
       "    .dataframe thead th {\n",
       "        text-align: right;\n",
       "    }\n",
       "</style>\n",
       "<table border=\"1\" class=\"dataframe\">\n",
       "  <thead>\n",
       "    <tr style=\"text-align: right;\">\n",
       "      <th>아이스크림</th>\n",
       "      <th>딸기</th>\n",
       "      <th>바닐라</th>\n",
       "      <th>초코</th>\n",
       "    </tr>\n",
       "    <tr>\n",
       "      <th>연령</th>\n",
       "      <th></th>\n",
       "      <th></th>\n",
       "      <th></th>\n",
       "    </tr>\n",
       "  </thead>\n",
       "  <tbody>\n",
       "    <tr>\n",
       "      <th>10대</th>\n",
       "      <td>200</td>\n",
       "      <td>250</td>\n",
       "      <td>190</td>\n",
       "    </tr>\n",
       "    <tr>\n",
       "      <th>20대</th>\n",
       "      <td>220</td>\n",
       "      <td>300</td>\n",
       "      <td>250</td>\n",
       "    </tr>\n",
       "  </tbody>\n",
       "</table>\n",
       "</div>"
      ],
      "text/plain": [
       "아이스크림   딸기  바닐라   초코\n",
       "연령                  \n",
       "10대    200  250  190\n",
       "20대    220  300  250"
      ]
     },
     "execution_count": 219,
     "metadata": {},
     "output_type": "execute_result"
    }
   ],
   "source": [
    "# pd.crosstab(index = , columns = , values = , aggfunc = sum)\n",
    "table = pd.crosstab(index = df['연령'], columns = df['아이스크림'], values = df['인원'], aggfunc = sum)\n",
    "table\n",
    "# 주의 : index, columns 순서 확인\n",
    "# print(table)"
   ]
  },
  {
   "cell_type": "code",
   "execution_count": 220,
   "id": "84242e1e",
   "metadata": {},
   "outputs": [
    {
     "name": "stdout",
     "output_type": "stream",
     "text": [
      "1.708360126075226\n",
      "0.4256320394874311\n",
      "2\n",
      "[[190.64 249.65 199.72]\n",
      " [229.36 300.35 240.28]]\n"
     ]
    }
   ],
   "source": [
    "# 3. 검정 실시 (통계량, p-value, 기대빈도 확인)\n",
    "from scipy.stats import chi2_contingency\n",
    "\n",
    "# 위와 같이 교차표 만들어서 입력\n",
    "statistic, pvalue, dof, expected = chi2_contingency(table)\n",
    "# 공식 문서 : statistic(통계량), pvalue, dof(자유도), expected_freq(기대빈도)\n",
    "\n",
    "print(statistic)\n",
    "print(pvalue)\n",
    "print(dof) # 자유도 = (행 - 1) * (열 - 1)\n",
    "print(np.round(expected, 2)) # 반올림하고 싶다면 np.round()"
   ]
  },
  {
   "cell_type": "code",
   "execution_count": 221,
   "id": "bba79ec9",
   "metadata": {},
   "outputs": [
    {
     "data": {
      "text/html": [
       "<div>\n",
       "<style scoped>\n",
       "    .dataframe tbody tr th:only-of-type {\n",
       "        vertical-align: middle;\n",
       "    }\n",
       "\n",
       "    .dataframe tbody tr th {\n",
       "        vertical-align: top;\n",
       "    }\n",
       "\n",
       "    .dataframe thead th {\n",
       "        text-align: right;\n",
       "    }\n",
       "</style>\n",
       "<table border=\"1\" class=\"dataframe\">\n",
       "  <thead>\n",
       "    <tr style=\"text-align: right;\">\n",
       "      <th></th>\n",
       "      <th>아이스크림</th>\n",
       "      <th>연령</th>\n",
       "    </tr>\n",
       "  </thead>\n",
       "  <tbody>\n",
       "    <tr>\n",
       "      <th>0</th>\n",
       "      <td>딸기</td>\n",
       "      <td>10대</td>\n",
       "    </tr>\n",
       "    <tr>\n",
       "      <th>1</th>\n",
       "      <td>초코</td>\n",
       "      <td>10대</td>\n",
       "    </tr>\n",
       "    <tr>\n",
       "      <th>2</th>\n",
       "      <td>바닐라</td>\n",
       "      <td>10대</td>\n",
       "    </tr>\n",
       "    <tr>\n",
       "      <th>3</th>\n",
       "      <td>딸기</td>\n",
       "      <td>20대</td>\n",
       "    </tr>\n",
       "    <tr>\n",
       "      <th>4</th>\n",
       "      <td>초코</td>\n",
       "      <td>20대</td>\n",
       "    </tr>\n",
       "    <tr>\n",
       "      <th>5</th>\n",
       "      <td>바닐라</td>\n",
       "      <td>20대</td>\n",
       "    </tr>\n",
       "  </tbody>\n",
       "</table>\n",
       "</div>"
      ],
      "text/plain": [
       "  아이스크림   연령\n",
       "0    딸기  10대\n",
       "1    초코  10대\n",
       "2   바닐라  10대\n",
       "3    딸기  20대\n",
       "4    초코  20대\n",
       "5   바닐라  20대"
      ]
     },
     "execution_count": 221,
     "metadata": {},
     "output_type": "execute_result"
    }
   ],
   "source": [
    "# (Case 2) 만약 데이터가 아래와 같이 주어진다면?\n",
    "df = pd.DataFrame({\n",
    "    '아이스크림' : ['딸기', '초코', '바닐라', '딸기', '초코', '바닐라'], \n",
    "    '연령' : ['10대', '10대', '10대', '20대', '20대', '20대']})\n",
    "df"
   ]
  },
  {
   "cell_type": "code",
   "execution_count": 222,
   "id": "68696af2",
   "metadata": {},
   "outputs": [
    {
     "data": {
      "text/html": [
       "<div>\n",
       "<style scoped>\n",
       "    .dataframe tbody tr th:only-of-type {\n",
       "        vertical-align: middle;\n",
       "    }\n",
       "\n",
       "    .dataframe tbody tr th {\n",
       "        vertical-align: top;\n",
       "    }\n",
       "\n",
       "    .dataframe thead th {\n",
       "        text-align: right;\n",
       "    }\n",
       "</style>\n",
       "<table border=\"1\" class=\"dataframe\">\n",
       "  <thead>\n",
       "    <tr style=\"text-align: right;\">\n",
       "      <th>아이스크림</th>\n",
       "      <th>딸기</th>\n",
       "      <th>바닐라</th>\n",
       "      <th>초코</th>\n",
       "    </tr>\n",
       "    <tr>\n",
       "      <th>연령</th>\n",
       "      <th></th>\n",
       "      <th></th>\n",
       "      <th></th>\n",
       "    </tr>\n",
       "  </thead>\n",
       "  <tbody>\n",
       "    <tr>\n",
       "      <th>10대</th>\n",
       "      <td>1</td>\n",
       "      <td>1</td>\n",
       "      <td>1</td>\n",
       "    </tr>\n",
       "    <tr>\n",
       "      <th>20대</th>\n",
       "      <td>1</td>\n",
       "      <td>1</td>\n",
       "      <td>1</td>\n",
       "    </tr>\n",
       "  </tbody>\n",
       "</table>\n",
       "</div>"
      ],
      "text/plain": [
       "아이스크림  딸기  바닐라  초코\n",
       "연령                \n",
       "10대     1    1   1\n",
       "20대     1    1   1"
      ]
     },
     "execution_count": 222,
     "metadata": {},
     "output_type": "execute_result"
    }
   ],
   "source": [
    "# pd.crosstab(index, columns)\n",
    "pd.crosstab(df['연령'], df['아이스크림'])"
   ]
  },
  {
   "cell_type": "markdown",
   "id": "931dcd51",
   "metadata": {},
   "source": [
    "### 2-2. 타이타닉 데이터에서 성별(sex)과 생존 여부(survived) 변수간 독립성 검정을 실시하시오."
   ]
  },
  {
   "cell_type": "code",
   "execution_count": 223,
   "id": "fbf2a988",
   "metadata": {},
   "outputs": [
    {
     "name": "stdout",
     "output_type": "stream",
     "text": [
      "<class 'pandas.core.frame.DataFrame'>\n",
      "RangeIndex: 891 entries, 0 to 890\n",
      "Data columns (total 15 columns):\n",
      " #   Column       Non-Null Count  Dtype   \n",
      "---  ------       --------------  -----   \n",
      " 0   survived     891 non-null    int64   \n",
      " 1   pclass       891 non-null    int64   \n",
      " 2   sex          891 non-null    object  \n",
      " 3   age          714 non-null    float64 \n",
      " 4   sibsp        891 non-null    int64   \n",
      " 5   parch        891 non-null    int64   \n",
      " 6   fare         891 non-null    float64 \n",
      " 7   embarked     889 non-null    object  \n",
      " 8   class        891 non-null    category\n",
      " 9   who          891 non-null    object  \n",
      " 10  adult_male   891 non-null    bool    \n",
      " 11  deck         203 non-null    category\n",
      " 12  embark_town  889 non-null    object  \n",
      " 13  alive        891 non-null    object  \n",
      " 14  alone        891 non-null    bool    \n",
      "dtypes: bool(2), category(2), float64(2), int64(4), object(5)\n",
      "memory usage: 80.7+ KB\n"
     ]
    }
   ],
   "source": [
    "import seaborn as sns\n",
    "df = sns.load_dataset('titanic')\n",
    "df.info()"
   ]
  },
  {
   "cell_type": "code",
   "execution_count": 224,
   "id": "649e2252",
   "metadata": {},
   "outputs": [
    {
     "data": {
      "text/html": [
       "<div>\n",
       "<style scoped>\n",
       "    .dataframe tbody tr th:only-of-type {\n",
       "        vertical-align: middle;\n",
       "    }\n",
       "\n",
       "    .dataframe tbody tr th {\n",
       "        vertical-align: top;\n",
       "    }\n",
       "\n",
       "    .dataframe thead th {\n",
       "        text-align: right;\n",
       "    }\n",
       "</style>\n",
       "<table border=\"1\" class=\"dataframe\">\n",
       "  <thead>\n",
       "    <tr style=\"text-align: right;\">\n",
       "      <th></th>\n",
       "      <th>survived</th>\n",
       "      <th>pclass</th>\n",
       "      <th>sex</th>\n",
       "      <th>age</th>\n",
       "      <th>sibsp</th>\n",
       "      <th>parch</th>\n",
       "      <th>fare</th>\n",
       "      <th>embarked</th>\n",
       "      <th>class</th>\n",
       "      <th>who</th>\n",
       "      <th>adult_male</th>\n",
       "      <th>deck</th>\n",
       "      <th>embark_town</th>\n",
       "      <th>alive</th>\n",
       "      <th>alone</th>\n",
       "    </tr>\n",
       "  </thead>\n",
       "  <tbody>\n",
       "    <tr>\n",
       "      <th>0</th>\n",
       "      <td>0</td>\n",
       "      <td>3</td>\n",
       "      <td>male</td>\n",
       "      <td>22.0</td>\n",
       "      <td>1</td>\n",
       "      <td>0</td>\n",
       "      <td>7.2500</td>\n",
       "      <td>S</td>\n",
       "      <td>Third</td>\n",
       "      <td>man</td>\n",
       "      <td>True</td>\n",
       "      <td>NaN</td>\n",
       "      <td>Southampton</td>\n",
       "      <td>no</td>\n",
       "      <td>False</td>\n",
       "    </tr>\n",
       "    <tr>\n",
       "      <th>1</th>\n",
       "      <td>1</td>\n",
       "      <td>1</td>\n",
       "      <td>female</td>\n",
       "      <td>38.0</td>\n",
       "      <td>1</td>\n",
       "      <td>0</td>\n",
       "      <td>71.2833</td>\n",
       "      <td>C</td>\n",
       "      <td>First</td>\n",
       "      <td>woman</td>\n",
       "      <td>False</td>\n",
       "      <td>C</td>\n",
       "      <td>Cherbourg</td>\n",
       "      <td>yes</td>\n",
       "      <td>False</td>\n",
       "    </tr>\n",
       "    <tr>\n",
       "      <th>2</th>\n",
       "      <td>1</td>\n",
       "      <td>3</td>\n",
       "      <td>female</td>\n",
       "      <td>26.0</td>\n",
       "      <td>0</td>\n",
       "      <td>0</td>\n",
       "      <td>7.9250</td>\n",
       "      <td>S</td>\n",
       "      <td>Third</td>\n",
       "      <td>woman</td>\n",
       "      <td>False</td>\n",
       "      <td>NaN</td>\n",
       "      <td>Southampton</td>\n",
       "      <td>yes</td>\n",
       "      <td>True</td>\n",
       "    </tr>\n",
       "    <tr>\n",
       "      <th>3</th>\n",
       "      <td>1</td>\n",
       "      <td>1</td>\n",
       "      <td>female</td>\n",
       "      <td>35.0</td>\n",
       "      <td>1</td>\n",
       "      <td>0</td>\n",
       "      <td>53.1000</td>\n",
       "      <td>S</td>\n",
       "      <td>First</td>\n",
       "      <td>woman</td>\n",
       "      <td>False</td>\n",
       "      <td>C</td>\n",
       "      <td>Southampton</td>\n",
       "      <td>yes</td>\n",
       "      <td>False</td>\n",
       "    </tr>\n",
       "    <tr>\n",
       "      <th>4</th>\n",
       "      <td>0</td>\n",
       "      <td>3</td>\n",
       "      <td>male</td>\n",
       "      <td>35.0</td>\n",
       "      <td>0</td>\n",
       "      <td>0</td>\n",
       "      <td>8.0500</td>\n",
       "      <td>S</td>\n",
       "      <td>Third</td>\n",
       "      <td>man</td>\n",
       "      <td>True</td>\n",
       "      <td>NaN</td>\n",
       "      <td>Southampton</td>\n",
       "      <td>no</td>\n",
       "      <td>True</td>\n",
       "    </tr>\n",
       "  </tbody>\n",
       "</table>\n",
       "</div>"
      ],
      "text/plain": [
       "   survived  pclass     sex   age  sibsp  parch     fare embarked  class  \\\n",
       "0         0       3    male  22.0      1      0   7.2500        S  Third   \n",
       "1         1       1  female  38.0      1      0  71.2833        C  First   \n",
       "2         1       3  female  26.0      0      0   7.9250        S  Third   \n",
       "3         1       1  female  35.0      1      0  53.1000        S  First   \n",
       "4         0       3    male  35.0      0      0   8.0500        S  Third   \n",
       "\n",
       "     who  adult_male deck  embark_town alive  alone  \n",
       "0    man        True  NaN  Southampton    no  False  \n",
       "1  woman       False    C    Cherbourg   yes  False  \n",
       "2  woman       False  NaN  Southampton   yes   True  \n",
       "3  woman       False    C  Southampton   yes  False  \n",
       "4    man        True  NaN  Southampton    no   True  "
      ]
     },
     "execution_count": 224,
     "metadata": {},
     "output_type": "execute_result"
    }
   ],
   "source": [
    "df.head()"
   ]
  },
  {
   "cell_type": "code",
   "execution_count": 225,
   "id": "bd6429d3",
   "metadata": {},
   "outputs": [
    {
     "name": "stdout",
     "output_type": "stream",
     "text": [
      "survived    0    1\n",
      "sex               \n",
      "female     81  233\n",
      "male      468  109\n"
     ]
    }
   ],
   "source": [
    "# pd.crosstab(index, columns)\n",
    "table = pd.crosstab(df['sex'], df['survived'])\n",
    "print(table)"
   ]
  },
  {
   "cell_type": "code",
   "execution_count": 226,
   "id": "c7eacf22",
   "metadata": {},
   "outputs": [],
   "source": [
    "# 1. 가설 설정\n",
    "# H0 : 성별과 생존 여부는 서로 관련이 없다. (두 변수는 서로 독립이다.)\n",
    "# H1 : 성별과 생존 여부는 서로 관련이 있다. (두 변수는 서로 독립이 아니다.)"
   ]
  },
  {
   "cell_type": "code",
   "execution_count": 227,
   "id": "96930dd6",
   "metadata": {},
   "outputs": [],
   "source": [
    "# 2. 유의수준 확인 : 유의수준 5%로 확인"
   ]
  },
  {
   "cell_type": "code",
   "execution_count": 228,
   "id": "f2cd5d56",
   "metadata": {},
   "outputs": [
    {
     "name": "stdout",
     "output_type": "stream",
     "text": [
      "260.71702016732104\n",
      "1.1973570627755645e-58\n",
      "1\n",
      "[[193.47 120.53]\n",
      " [355.53 221.47]]\n"
     ]
    }
   ],
   "source": [
    "# 3. 검정 실시 (통계량, p-value, 기대빈도 확인)\n",
    "from scipy.stats import chi2_contingency\n",
    "\n",
    "# 위와 같이 교차표 만들어서 입력\n",
    "statistic, pvalue, dof, expected = chi2_contingency(table)\n",
    "# 공식 문서 : statistic(통계량), pvalue, dof(자유도), expected_freq(기대빈도)\n",
    "\n",
    "print(statistic)\n",
    "print(pvalue)\n",
    "print(dof) # 자유도 = (행 - 1) * (열 - 1)\n",
    "print(np.round(expected, 2)) # 반올림하고 싶다면 np.round()"
   ]
  },
  {
   "cell_type": "code",
   "execution_count": 229,
   "id": "20de0660",
   "metadata": {},
   "outputs": [],
   "source": [
    "# 4. 귀무가설 기각 여부 결정 (채택/기각)\n",
    "# p-value 값이 0.05보다 작기 때문에(0) 귀무가설 기각\n",
    "# 즉, 성별과 생존 여부는 서로 관련이 없다고 할 수 없다.\n",
    "\n",
    "# 답 : 기각"
   ]
  },
  {
   "cell_type": "markdown",
   "id": "fd03a7e7",
   "metadata": {},
   "source": [
    "### 데이터를 변경하며 이해해보기"
   ]
  },
  {
   "cell_type": "code",
   "execution_count": 230,
   "id": "8ceef067",
   "metadata": {},
   "outputs": [
    {
     "name": "stdout",
     "output_type": "stream",
     "text": [
      "          0    1\n",
      "female  160  160\n",
      "male    250  220\n"
     ]
    }
   ],
   "source": [
    "# 임의 데이터 만들기\n",
    "sex, survived = [160, 160], [250, 220]\n",
    "table = pd.DataFrame([sex, survived], columns = ['0', '1'], index = ['female', 'male'])\n",
    "print(table)"
   ]
  },
  {
   "cell_type": "code",
   "execution_count": 231,
   "id": "e5094081",
   "metadata": {},
   "outputs": [
    {
     "name": "stdout",
     "output_type": "stream",
     "text": [
      "0.6541895872879862\n",
      "0.41861876333789727\n",
      "1\n",
      "[[166.08 153.92]\n",
      " [243.92 226.08]]\n"
     ]
    }
   ],
   "source": [
    "# 3. 검정 실시 (통계량, p-value, 기대빈도 확인)\n",
    "from scipy.stats import chi2_contingency\n",
    "\n",
    "# 위와 같이 교차표 만들어서 입력\n",
    "statistic, pvalue, dof, expected = chi2_contingency(table)\n",
    "# 공식 문서 : statistic(통계량), pvalue, dof(자유도), expected_freq(기대빈도)\n",
    "\n",
    "print(statistic)\n",
    "print(pvalue)\n",
    "print(dof) # 자유도 = (행 - 1) * (열 - 1)\n",
    "print(np.round(expected, 2)) # 반올림하고 싶다면 np.round()"
   ]
  },
  {
   "cell_type": "code",
   "execution_count": 232,
   "id": "89582234",
   "metadata": {},
   "outputs": [],
   "source": [
    "# 4. 귀무가설 기각 여부 결정 (채택/기각)\n",
    "# p-value 값이 0.05보다 크기 때문에(0.4186) 귀무가설 채택\n",
    "# 즉, 성별과 생존 여부는 서로 관련이 없다고 할 수 있다.\n",
    "\n",
    "# 답 : 채택"
   ]
  }
 ],
 "metadata": {
  "kernelspec": {
   "display_name": "Python 3 (ipykernel)",
   "language": "python",
   "name": "python3"
  },
  "language_info": {
   "codemirror_mode": {
    "name": "ipython",
    "version": 3
   },
   "file_extension": ".py",
   "mimetype": "text/x-python",
   "name": "python",
   "nbconvert_exporter": "python",
   "pygments_lexer": "ipython3",
   "version": "3.11.5"
  }
 },
 "nbformat": 4,
 "nbformat_minor": 5
}
