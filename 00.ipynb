{
 "cells": [
  {
   "cell_type": "markdown",
   "id": "82e5d548",
   "metadata": {},
   "source": [
    "# 빅분기 실기 꿀팁 정리"
   ]
  },
  {
   "cell_type": "markdown",
   "id": "9cd6ed64",
   "metadata": {},
   "source": [
    "---"
   ]
  },
  {
   "cell_type": "markdown",
   "id": "b4d5d436",
   "metadata": {},
   "source": [
    "# ✅ 기본사항"
   ]
  },
  {
   "cell_type": "markdown",
   "id": "04d01266",
   "metadata": {},
   "source": [
    "## 1. 분석 전에 pandas, numpy 라이브러리 불러오기\n",
    "\n",
    "```python\n",
    "import pandas as pd\n",
    "import numpy as np\n",
    "```"
   ]
  },
  {
   "cell_type": "markdown",
   "id": "82582f6c",
   "metadata": {},
   "source": [
    "## 2. 주석 처리 단축키 : Ctrl + /"
   ]
  },
  {
   "cell_type": "markdown",
   "id": "937563d6",
   "metadata": {},
   "source": [
    "---"
   ]
  },
  {
   "cell_type": "markdown",
   "id": "db0337ef",
   "metadata": {},
   "source": [
    "# ✅ 1유형_데이터 다루기"
   ]
  },
  {
   "cell_type": "markdown",
   "id": "be6478db",
   "metadata": {},
   "source": [
    "## 1. 문제를 꼼꼼하게 읽기\n",
    "## 2. 각 조건마다 끊어서 코딩하기\n",
    "## 3. print 함수로 중간 과정 체크하기\n",
    "## 4. 소수점 반올림(round)인지 내림(int)인지 확인하기\n",
    "## 5. 시간 데이터 다룰 때는 datetime으로 데이터 타입 변경하기"
   ]
  },
  {
   "cell_type": "markdown",
   "id": "9c05fc59",
   "metadata": {},
   "source": [
    "---"
   ]
  },
  {
   "cell_type": "markdown",
   "id": "92434557",
   "metadata": {},
   "source": [
    "# ✅ 2유형_모델링 및 평가"
   ]
  },
  {
   "cell_type": "markdown",
   "id": "e8153d38",
   "metadata": {},
   "source": [
    "## 1. 가능하면 모든 변수는 소문자로 작성하기\n",
    "\n",
    "(예) X_train -> x_train, X_test -> x_test로 변경하고 문제 풀기"
   ]
  },
  {
   "cell_type": "markdown",
   "id": "8abb72ae",
   "metadata": {},
   "source": [
    "## 2. 분석을 시작하기 전에 분석 순서를 실행창에 작성하기"
   ]
  },
  {
   "cell_type": "code",
   "execution_count": 43,
   "id": "bb447070",
   "metadata": {},
   "outputs": [],
   "source": [
    "# 1. 라이브러리 및 데이터 확인 : pandas, numpy\n",
    "# 2. 데이터 탐색(EDA) : head(), info(), describe(), value_counts()\n",
    "# 3. 데이터 전처리 및 분리 : 결측치, 이상치, 변수 처리\n",
    "# 4. 모델링 및 성능 평가\n",
    "# 5. 예측값 제출"
   ]
  },
  {
   "cell_type": "markdown",
   "id": "04b55d29",
   "metadata": {},
   "source": [
    "## 3. 분류문제에서 검증데이터(validation) 분리할 때 stratify=y\t옵션 꼭 적용하기"
   ]
  },
  {
   "cell_type": "markdown",
   "id": "3a579c9c",
   "metadata": {},
   "source": [
    "## 4. help, dir 잘 활용하기\n",
    "\n",
    "1. `help` : 객체에 대한 설명서를 제공\n",
    "2. `dir` : 해당 객체의 속성 및 메서드를 나열"
   ]
  },
  {
   "cell_type": "code",
   "execution_count": 44,
   "id": "123e991e",
   "metadata": {},
   "outputs": [],
   "source": [
    "# 1. help, dir을 활용해서 랜덤포레스트 함수까지 찾아들어가기\n",
    "\n",
    "# import sklearn\n",
    "# # print(dir(sklearn))\n",
    "# # print(help(sklearn))\n",
    "\n",
    "# import sklearn.ensemble\n",
    "# # print(dir(sklearn.ensemble))\n",
    "\n",
    "# # print(help(sklearn.ensemble.RandomForestClassifier))"
   ]
  },
  {
   "cell_type": "code",
   "execution_count": 45,
   "id": "69146087",
   "metadata": {},
   "outputs": [],
   "source": [
    "# 2. help, dir을 활용해서 train_test_split 함수까지 찾아들어가기\n",
    "\n",
    "# import sklearn\n",
    "# # print(dir(sklearn))\n",
    "\n",
    "# import sklearn.model_selection\n",
    "# # print(dir(sklearn.model_selection))\n",
    "\n",
    "# # print(help(sklearn.model_selection.train_test_split))"
   ]
  },
  {
   "cell_type": "markdown",
   "id": "a6d7d0a7",
   "metadata": {},
   "source": [
    "---"
   ]
  },
  {
   "cell_type": "markdown",
   "id": "23ae6bb9",
   "metadata": {},
   "source": [
    "# ✅ 3유형_가설검정/회귀 등"
   ]
  },
  {
   "cell_type": "markdown",
   "id": "20ce1ca2",
   "metadata": {},
   "source": [
    "## 1. 문제에서 주어진 귀무가설, 대립가설 잘 확인하기"
   ]
  },
  {
   "cell_type": "markdown",
   "id": "71ac5d0d",
   "metadata": {},
   "source": [
    "## 2. 가설검정 유형별 함수 및 데이터 Input 형태 확인하기\n",
    "\n",
    "### 1. 단일표본(1sample)\n",
    "\n",
    "- `t-test` : `stats.ttest_1samp(a, popmean = 기준값, alternative = 'two-sided')`\n",
    "- `윌콕슨 부호순위` : `stats.wilcoxon(a - 기준값, alternative = 'two-sided')`\n",
    "\n",
    "### 2. 대응표본(쌍체)\n",
    "\n",
    "- `t-test` : `stats.ttest_res(a, b, alternative = 'two-sided')`\n",
    "- `윌콕슨 부호순위` : `stats.wilcoxon(a - b, alternative = 'two-sided')`\n",
    "\n",
    "### 3. 독립표본(2sample)\n",
    "\n",
    "- `t-test` : `stats.ttest_ind(a, b, equal_var = True, alternative = 'two-sided')`\n",
    "- `윌콕슨 순위합` : `stats.ranksums(a, b, alternative = 'two-sided')`\n",
    "\n",
    "### 4. 모집단 3개 이상 평균 비교\n",
    "\n",
    "- `ANOVA` : `stats.f_oneway(a, b, c)`\n",
    "- `크루스칼-왈리스` : `stats.kruskal(a, b, c)`"
   ]
  },
  {
   "cell_type": "markdown",
   "id": "abf19ea0",
   "metadata": {},
   "source": [
    "## 3. statsmodels로 회귀분석 시 상수항 추가 코드 필수!\n",
    "\n",
    "```python\n",
    "import statsmodels.api as sm\n",
    "x = sm.add_constant(x)\n",
    "```"
   ]
  },
  {
   "cell_type": "markdown",
   "id": "05a6b6c7",
   "metadata": {},
   "source": [
    "## 4. 로지스틱 회귀분석, penalty = None 옵션 필수!\n",
    "\n",
    "```python\n",
    "from sklearn.linear_model import LogisticRegression\n",
    "model = LogisticRegression(penalty = None)\n",
    "```"
   ]
  },
  {
   "cell_type": "markdown",
   "id": "a18144c6",
   "metadata": {},
   "source": [
    "## 5. help, dir 잘 활용하기"
   ]
  },
  {
   "cell_type": "code",
   "execution_count": 46,
   "id": "f34ba7ae",
   "metadata": {},
   "outputs": [],
   "source": [
    "# 1. help, dir을 활용해서 단일표본 t-test 함수까지 찾아들어가기\n",
    "\n",
    "# from scipy import stats\n",
    "# # print(dir(stats))\n",
    "# # print(help(stats.ttest_1samp))"
   ]
  },
  {
   "cell_type": "code",
   "execution_count": 47,
   "id": "97694442",
   "metadata": {},
   "outputs": [],
   "source": [
    "# 2. help, dir을 활용해서 로지스틱회귀분석 함수까지 찾아들어가기\n",
    "\n",
    "# import sklearn\n",
    "# # print(dir(sklearn))\n",
    "# # print(dir(sklearn.linear_model))\n",
    "# # print(help(sklearn.linear_model.LogisticRegression))"
   ]
  }
 ],
 "metadata": {
  "kernelspec": {
   "display_name": "Python 3 (ipykernel)",
   "language": "python",
   "name": "python3"
  },
  "language_info": {
   "codemirror_mode": {
    "name": "ipython",
    "version": 3
   },
   "file_extension": ".py",
   "mimetype": "text/x-python",
   "name": "python",
   "nbconvert_exporter": "python",
   "pygments_lexer": "ipython3",
   "version": "3.11.5"
  }
 },
 "nbformat": 4,
 "nbformat_minor": 5
}
