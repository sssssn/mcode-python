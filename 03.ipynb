{
 "cells": [
  {
   "cell_type": "markdown",
   "id": "0f56d4df",
   "metadata": {},
   "source": [
    "# 제2유형_연습하기_와인 종류 분류(분류)"
   ]
  },
  {
   "cell_type": "markdown",
   "id": "1648dee9",
   "metadata": {},
   "source": [
    "# ☑️ 데이터 분석 순서\n",
    "## 1. 라이브러리 및 데이터 확인\n",
    "## 2. 데이터 탐색(EDA)\n",
    "## 3. 데이터 전처리 및 분리\n",
    "## 4. 모델링 및 성능 평가\n",
    "## 5. 예측값 제출"
   ]
  },
  {
   "cell_type": "markdown",
   "id": "01cff7e9",
   "metadata": {},
   "source": [
    "# ✅ 1. 라이브러리 및 데이터 확인"
   ]
  },
  {
   "cell_type": "code",
   "execution_count": 106,
   "id": "ee23ad43",
   "metadata": {},
   "outputs": [],
   "source": [
    "import pandas as pd\n",
    "import numpy as np"
   ]
  },
  {
   "cell_type": "code",
   "execution_count": 107,
   "id": "99f934c5",
   "metadata": {},
   "outputs": [],
   "source": [
    "############### 실기환경 복사 영역 ###############\n",
    "import pandas as pd\n",
    "import numpy as np\n",
    "\n",
    "# 실기 시험 데이터셋으로 셋팅하기\n",
    "from sklearn.datasets import load_wine\n",
    "\n",
    "# 와인 데이터셋 로드\n",
    "wine = load_wine()\n",
    "x = pd.DataFrame(wine.data,\tcolumns = wine.feature_names)\n",
    "y = pd.DataFrame(wine.target)\n",
    "\n",
    "# 실기 시험 데이터셋으로 셋팅하기\n",
    "from sklearn.model_selection import train_test_split\n",
    "x_train, x_test, y_train, y_test = train_test_split(x, y, test_size=0.2, \n",
    "                                                    stratify=y, \n",
    "                                                    random_state=2023)\n",
    "\n",
    "x_test = pd.DataFrame(x_test)\n",
    "x_train = pd.DataFrame(x_train)\n",
    "y_train = pd.DataFrame(y_train)\n",
    "\n",
    "x_test.reset_index()\n",
    "y_train.columns\t= ['target']\n",
    "############### 실기환경 복사 영역 ###############\n",
    "\n",
    "### 참고사항 ###\n",
    "# y_test 는 실기 문제상에 주어지지 않음\n",
    "\n",
    "# ★Tip : X를 대문자로 쓰지말고 소문자 x로 쓰세요. 시험에서 실수하기 쉽습니다.(문제풀기 전에 소문자로 변경!)\n",
    "# (참고 : 보통 X는 2차원 배열(행렬)이기 때문에 대문자로 쓰고, y는 1차원 배열(벡터)이기 때문에 소문자로 씀)\n",
    "\n",
    "# (~23년 10월말) 실기시험 데이터 형식 (실제 시험장에서는 다를 수 있으니 반드시 체크)\n",
    "# X_test = pd.read_csv(\"data/X_test.csv\")\n",
    "# X_train = pd.read_csv(\"data/X_train.csv\")\n",
    "# y_train = pd.read_csv(\"data/y_train.csv\")\n",
    "\n",
    "# ★(23년 10월말~) 기준으로 체험환경에서 제공되는 데이터셋이 조금 변경되었습니다.\n",
    "# train = pd.read_csv(\"data/customer_train.csv\")\n",
    "# test = pd.read_csv(\"data/customer_test.csv\")\n",
    "# x_train과 y_train, x_test를 별도로 할당해주셔야 합니다."
   ]
  },
  {
   "cell_type": "markdown",
   "id": "865f0502",
   "metadata": {},
   "source": [
    "# 🍷 와인의 종류를 분류해보자\n",
    "\n",
    "## - 데이터의 결측치, 이상치에 대해 처리하고\n",
    "## - 분류 모델을 사용하여 정확도, F1 score, AUC 값을 산출하시오.\n",
    "## - 제출은 result 변수에 담아 양식에 맞게 제출하시오."
   ]
  },
  {
   "cell_type": "code",
   "execution_count": 128,
   "id": "2a45c1a3",
   "metadata": {},
   "outputs": [
    {
     "name": "stdout",
     "output_type": "stream",
     "text": [
      ".. _wine_dataset:\n",
      "\n",
      "Wine recognition dataset\n",
      "------------------------\n",
      "\n",
      "**Data Set Characteristics:**\n",
      "\n",
      "    :Number of Instances: 178\n",
      "    :Number of Attributes: 13 numeric, predictive attributes and the class\n",
      "    :Attribute Information:\n",
      " \t\t- Alcohol\n",
      " \t\t- Malic acid\n",
      " \t\t- Ash\n",
      "\t\t- Alcalinity of ash  \n",
      " \t\t- Magnesium\n",
      "\t\t- Total phenols\n",
      " \t\t- Flavanoids\n",
      " \t\t- Nonflavanoid phenols\n",
      " \t\t- Proanthocyanins\n",
      "\t\t- Color intensity\n",
      " \t\t- Hue\n",
      " \t\t- OD280/OD315 of diluted wines\n",
      " \t\t- Proline\n",
      "\n",
      "    - class:\n",
      "            - class_0\n",
      "            - class_1\n",
      "            - class_2\n",
      "\t\t\n",
      "    :Summary Statistics:\n",
      "    \n",
      "    ============================= ==== ===== ======= =====\n",
      "                                   Min   Max   Mean     SD\n",
      "    ============================= ==== ===== ======= =====\n",
      "    Alcohol:                      11.0  14.8    13.0   0.8\n",
      "    Malic Acid:                   0.74  5.80    2.34  1.12\n",
      "    Ash:                          1.36  3.23    2.36  0.27\n",
      "    Alcalinity of Ash:            10.6  30.0    19.5   3.3\n",
      "    Magnesium:                    70.0 162.0    99.7  14.3\n",
      "    Total Phenols:                0.98  3.88    2.29  0.63\n",
      "    Flavanoids:                   0.34  5.08    2.03  1.00\n",
      "    Nonflavanoid Phenols:         0.13  0.66    0.36  0.12\n",
      "    Proanthocyanins:              0.41  3.58    1.59  0.57\n",
      "    Colour Intensity:              1.3  13.0     5.1   2.3\n",
      "    Hue:                          0.48  1.71    0.96  0.23\n",
      "    OD280/OD315 of diluted wines: 1.27  4.00    2.61  0.71\n",
      "    Proline:                       278  1680     746   315\n",
      "    ============================= ==== ===== ======= =====\n",
      "\n",
      "    :Missing Attribute Values: None\n",
      "    :Class Distribution: class_0 (59), class_1 (71), class_2 (48)\n",
      "    :Creator: R.A. Fisher\n",
      "    :Donor: Michael Marshall (MARSHALL%PLU@io.arc.nasa.gov)\n",
      "    :Date: July, 1988\n",
      "\n",
      "This is a copy of UCI ML Wine recognition datasets.\n",
      "https://archive.ics.uci.edu/ml/machine-learning-databases/wine/wine.data\n",
      "\n",
      "The data is the results of a chemical analysis of wines grown in the same\n",
      "region in Italy by three different cultivators. There are thirteen different\n",
      "measurements taken for different constituents found in the three types of\n",
      "wine.\n",
      "\n",
      "Original Owners: \n",
      "\n",
      "Forina, M. et al, PARVUS - \n",
      "An Extendible Package for Data Exploration, Classification and Correlation. \n",
      "Institute of Pharmaceutical and Food Analysis and Technologies,\n",
      "Via Brigata Salerno, 16147 Genoa, Italy.\n",
      "\n",
      "Citation:\n",
      "\n",
      "Lichman, M. (2013). UCI Machine Learning Repository\n",
      "[https://archive.ics.uci.edu/ml]. Irvine, CA: University of California,\n",
      "School of Information and Computer Science. \n",
      "\n",
      ".. topic:: References\n",
      "\n",
      "  (1) S. Aeberhard, D. Coomans and O. de Vel, \n",
      "  Comparison of Classifiers in High Dimensional Settings, \n",
      "  Tech. Rep. no. 92-02, (1992), Dept. of Computer Science and Dept. of  \n",
      "  Mathematics and Statistics, James Cook University of North Queensland. \n",
      "  (Also submitted to Technometrics). \n",
      "\n",
      "  The data was used with many others for comparing various \n",
      "  classifiers. The classes are separable, though only RDA \n",
      "  has achieved 100% correct classification. \n",
      "  (RDA : 100%, QDA 99.4%, LDA 98.9%, 1NN 96.1% (z-transformed data)) \n",
      "  (All results using the leave-one-out technique) \n",
      "\n",
      "  (2) S. Aeberhard, D. Coomans and O. de Vel, \n",
      "  \"THE CLASSIFICATION PERFORMANCE OF RDA\" \n",
      "  Tech. Rep. no. 92-01, (1992), Dept. of Computer Science and Dept. of \n",
      "  Mathematics and Statistics, James Cook University of North Queensland. \n",
      "  (Also submitted to Journal of Chemometrics).\n",
      "\n"
     ]
    }
   ],
   "source": [
    "# 데이터 설명\n",
    "print(wine.DESCR)"
   ]
  },
  {
   "cell_type": "markdown",
   "id": "ebd50f9f",
   "metadata": {},
   "source": [
    "# ✅ 2. 데이터 탐색(EDA)"
   ]
  },
  {
   "cell_type": "code",
   "execution_count": 109,
   "id": "680fc3de",
   "metadata": {},
   "outputs": [
    {
     "name": "stdout",
     "output_type": "stream",
     "text": [
      "(142, 13)\n",
      "(36, 13)\n",
      "(142, 1)\n"
     ]
    }
   ],
   "source": [
    "# 데이터의 행/열 확인\n",
    "\n",
    "print(x_train.shape)\n",
    "print(x_test.shape)\n",
    "print(y_train.shape)"
   ]
  },
  {
   "cell_type": "code",
   "execution_count": 110,
   "id": "2e01a63b",
   "metadata": {},
   "outputs": [
    {
     "name": "stdout",
     "output_type": "stream",
     "text": [
      "     alcohol  malic_acid   ash  alcalinity_of_ash  magnesium  total_phenols  \\\n",
      "52     13.82        1.75  2.42               14.0      111.0           3.88   \n",
      "146    13.88        5.04  2.23               20.0       80.0           0.98   \n",
      "44     13.05        1.77  2.10               17.0      107.0           3.00   \n",
      "\n",
      "     flavanoids  nonflavanoid_phenols  proanthocyanins  color_intensity   hue  \\\n",
      "52         3.74                  0.32             1.87             7.05  1.01   \n",
      "146        0.34                  0.40             0.68             4.90  0.58   \n",
      "44         3.00                  0.28             2.03             5.04  0.88   \n",
      "\n",
      "     od280/od315_of_diluted_wines  proline  \n",
      "52                           3.26   1190.0  \n",
      "146                          1.33    415.0  \n",
      "44                           3.35    885.0  \n",
      "     alcohol  malic_acid   ash  alcalinity_of_ash  magnesium  total_phenols  \\\n",
      "168    13.58        2.58  2.69               24.5      105.0           1.55   \n",
      "144    12.25        3.88  2.20               18.5      112.0           1.38   \n",
      "151    12.79        2.67  2.48               22.0      112.0           1.48   \n",
      "\n",
      "     flavanoids  nonflavanoid_phenols  proanthocyanins  color_intensity   hue  \\\n",
      "168        0.84                  0.39             1.54             8.66  0.74   \n",
      "144        0.78                  0.29             1.14             8.21  0.65   \n",
      "151        1.36                  0.24             1.26            10.80  0.48   \n",
      "\n",
      "     od280/od315_of_diluted_wines  proline  \n",
      "168                          1.80    750.0  \n",
      "144                          2.00    855.0  \n",
      "151                          1.47    480.0  \n",
      "     target\n",
      "52        0\n",
      "146       2\n",
      "44        0\n"
     ]
    }
   ],
   "source": [
    "# 초기 데이터 확인\n",
    "\n",
    "print(x_train.head(3))\n",
    "print(x_test.head(3))\n",
    "print(y_train.head(3))"
   ]
  },
  {
   "cell_type": "code",
   "execution_count": 111,
   "id": "4778e704",
   "metadata": {},
   "outputs": [
    {
     "name": "stdout",
     "output_type": "stream",
     "text": [
      "<class 'pandas.core.frame.DataFrame'>\n",
      "Index: 142 entries, 52 to 115\n",
      "Data columns (total 13 columns):\n",
      " #   Column                        Non-Null Count  Dtype  \n",
      "---  ------                        --------------  -----  \n",
      " 0   alcohol                       142 non-null    float64\n",
      " 1   malic_acid                    142 non-null    float64\n",
      " 2   ash                           142 non-null    float64\n",
      " 3   alcalinity_of_ash             142 non-null    float64\n",
      " 4   magnesium                     142 non-null    float64\n",
      " 5   total_phenols                 142 non-null    float64\n",
      " 6   flavanoids                    142 non-null    float64\n",
      " 7   nonflavanoid_phenols          142 non-null    float64\n",
      " 8   proanthocyanins               142 non-null    float64\n",
      " 9   color_intensity               142 non-null    float64\n",
      " 10  hue                           142 non-null    float64\n",
      " 11  od280/od315_of_diluted_wines  142 non-null    float64\n",
      " 12  proline                       142 non-null    float64\n",
      "dtypes: float64(13)\n",
      "memory usage: 15.5 KB\n",
      "None\n",
      "<class 'pandas.core.frame.DataFrame'>\n",
      "Index: 36 entries, 168 to 55\n",
      "Data columns (total 13 columns):\n",
      " #   Column                        Non-Null Count  Dtype  \n",
      "---  ------                        --------------  -----  \n",
      " 0   alcohol                       36 non-null     float64\n",
      " 1   malic_acid                    36 non-null     float64\n",
      " 2   ash                           36 non-null     float64\n",
      " 3   alcalinity_of_ash             36 non-null     float64\n",
      " 4   magnesium                     36 non-null     float64\n",
      " 5   total_phenols                 36 non-null     float64\n",
      " 6   flavanoids                    36 non-null     float64\n",
      " 7   nonflavanoid_phenols          36 non-null     float64\n",
      " 8   proanthocyanins               36 non-null     float64\n",
      " 9   color_intensity               36 non-null     float64\n",
      " 10  hue                           36 non-null     float64\n",
      " 11  od280/od315_of_diluted_wines  36 non-null     float64\n",
      " 12  proline                       36 non-null     float64\n",
      "dtypes: float64(13)\n",
      "memory usage: 3.9 KB\n",
      "None\n",
      "<class 'pandas.core.frame.DataFrame'>\n",
      "Index: 142 entries, 52 to 115\n",
      "Data columns (total 1 columns):\n",
      " #   Column  Non-Null Count  Dtype\n",
      "---  ------  --------------  -----\n",
      " 0   target  142 non-null    int32\n",
      "dtypes: int32(1)\n",
      "memory usage: 1.7 KB\n",
      "None\n"
     ]
    }
   ],
   "source": [
    "# 변수명과 데이터 타입이 매칭이 되는지, 결측치가 있는지 확인\n",
    "\n",
    "print(x_train.info())\n",
    "print(x_test.info())\n",
    "print(y_train.info())"
   ]
  },
  {
   "cell_type": "code",
   "execution_count": 112,
   "id": "5a68d54c",
   "metadata": {
    "scrolled": true
   },
   "outputs": [
    {
     "name": "stdout",
     "output_type": "stream",
     "text": [
      "          alcohol  malic_acid         ash  alcalinity_of_ash   magnesium  \\\n",
      "count  142.000000  142.000000  142.000000         142.000000  142.000000   \n",
      "mean    13.025915    2.354296    2.340211          19.354225   98.732394   \n",
      "std      0.812423    1.142722    0.279910           3.476825   13.581859   \n",
      "min     11.030000    0.740000    1.360000          10.600000   70.000000   \n",
      "25%     12.370000    1.610000    2.190000          16.800000   88.000000   \n",
      "50%     13.050000    1.820000    2.320000          19.300000   97.000000   \n",
      "75%     13.685000    3.115000    2.510000          21.500000  106.750000   \n",
      "max     14.830000    5.800000    3.230000          30.000000  151.000000   \n",
      "\n",
      "       total_phenols  flavanoids  nonflavanoid_phenols  proanthocyanins  \\\n",
      "count     142.000000  142.000000            142.000000       142.000000   \n",
      "mean        2.303592    2.043592              0.361479         1.575070   \n",
      "std         0.633955    1.033597              0.124627         0.576798   \n",
      "min         0.980000    0.340000              0.140000         0.410000   \n",
      "25%         1.757500    1.227500              0.270000         1.242500   \n",
      "50%         2.335000    2.100000              0.325000         1.555000   \n",
      "75%         2.800000    2.917500              0.437500         1.950000   \n",
      "max         3.880000    5.080000              0.630000         3.580000   \n",
      "\n",
      "       color_intensity         hue  od280/od315_of_diluted_wines      proline  \n",
      "count       142.000000  142.000000                    142.000000   142.000000  \n",
      "mean          5.005070    0.950394                      2.603592   742.112676  \n",
      "std           2.150186    0.220736                      0.709751   317.057395  \n",
      "min           1.280000    0.540000                      1.270000   290.000000  \n",
      "25%           3.300000    0.782500                      1.922500   496.250000  \n",
      "50%           4.850000    0.960000                      2.780000   660.000000  \n",
      "75%           6.122500    1.097500                      3.170000   981.250000  \n",
      "max          13.000000    1.710000                      3.920000  1680.000000  \n",
      "-------------------------------------------------------------------------------\n",
      "         alcohol  malic_acid        ash  alcalinity_of_ash   magnesium  \\\n",
      "count  36.000000   36.000000  36.000000           36.00000   36.000000   \n",
      "mean   12.900833    2.265556   2.470278           20.05000  103.722222   \n",
      "std     0.813112    1.021943   0.226066            2.70275   16.371772   \n",
      "min    11.640000    0.890000   2.000000           14.60000   84.000000   \n",
      "25%    12.230000    1.592500   2.300000           18.00000   91.500000   \n",
      "50%    12.835000    1.885000   2.470000           19.50000  101.000000   \n",
      "75%    13.635000    2.792500   2.605000           21.70000  112.000000   \n",
      "max    14.390000    4.950000   3.220000           26.50000  162.000000   \n",
      "\n",
      "       total_phenols  flavanoids  nonflavanoid_phenols  proanthocyanins  \\\n",
      "count      36.000000   36.000000             36.000000        36.000000   \n",
      "mean        2.261667    1.972778              0.363333         1.653333   \n",
      "std         0.600259    0.858882              0.125516         0.558012   \n",
      "min         1.350000    0.660000              0.130000         0.840000   \n",
      "25%         1.715000    1.175000              0.267500         1.320000   \n",
      "50%         2.420000    2.175000              0.395000         1.550000   \n",
      "75%         2.602500    2.682500              0.435000         1.972500   \n",
      "max         3.850000    3.490000              0.660000         3.280000   \n",
      "\n",
      "       color_intensity        hue  od280/od315_of_diluted_wines     proline  \n",
      "count        36.000000  36.000000                     36.000000    36.00000  \n",
      "mean          5.267222   0.985278                      2.643611   765.75000  \n",
      "std           2.915076   0.258694                      0.720100   309.94851  \n",
      "min           2.080000   0.480000                      1.290000   278.00000  \n",
      "25%           2.875000   0.787500                      2.037500   542.50000  \n",
      "50%           4.325000   0.985000                      2.790000   682.50000  \n",
      "75%           6.900000   1.167500                      3.192500   996.25000  \n",
      "max          11.750000   1.450000                      4.000000  1480.00000  \n",
      "-------------------------------------------------------------------------------\n",
      "           target\n",
      "count  142.000000\n",
      "mean     0.936620\n",
      "std      0.773816\n",
      "min      0.000000\n",
      "25%      0.000000\n",
      "50%      1.000000\n",
      "75%      2.000000\n",
      "max      2.000000\n"
     ]
    }
   ],
   "source": [
    "# x_train 과 x_test 데이터의 기초통계량을 비교 (예) mean, min, max 등\n",
    "\n",
    "print(x_train.describe())\n",
    "# print(x_train.describe().T) 로도 가능\n",
    "print('-------------------------------------------------------------------------------')\n",
    "print(x_test.describe())\n",
    "print('-------------------------------------------------------------------------------')\n",
    "print(y_train.describe())"
   ]
  },
  {
   "cell_type": "code",
   "execution_count": 113,
   "id": "a01514a6",
   "metadata": {},
   "outputs": [
    {
     "name": "stdout",
     "output_type": "stream",
     "text": [
      "     target\n",
      "52        0\n",
      "146       2\n",
      "44        0\n",
      "67        1\n",
      "43        0\n"
     ]
    }
   ],
   "source": [
    "# y 데이터도 구체적으로 살펴보기\n",
    "\n",
    "print(y_train.head())"
   ]
  },
  {
   "cell_type": "code",
   "execution_count": 114,
   "id": "15674548",
   "metadata": {},
   "outputs": [
    {
     "name": "stdout",
     "output_type": "stream",
     "text": [
      "target\n",
      "1         57\n",
      "0         47\n",
      "2         38\n",
      "Name: count, dtype: int64\n"
     ]
    }
   ],
   "source": [
    "# y 데이터도 구체적으로 살펴보기\n",
    "\n",
    "print(y_train.value_counts())"
   ]
  },
  {
   "cell_type": "markdown",
   "id": "44c3431a",
   "metadata": {},
   "source": [
    "# ✅ 3. 데이터 전처리 및 분리"
   ]
  },
  {
   "cell_type": "markdown",
   "id": "0ae969ee",
   "metadata": {},
   "source": [
    "## 1) 결측치 2) 이상치 3) 변수 처리하기"
   ]
  },
  {
   "cell_type": "code",
   "execution_count": 115,
   "id": "ea07445d",
   "metadata": {},
   "outputs": [
    {
     "name": "stdout",
     "output_type": "stream",
     "text": [
      "alcohol                         0\n",
      "malic_acid                      0\n",
      "ash                             0\n",
      "alcalinity_of_ash               0\n",
      "magnesium                       0\n",
      "total_phenols                   0\n",
      "flavanoids                      0\n",
      "nonflavanoid_phenols            0\n",
      "proanthocyanins                 0\n",
      "color_intensity                 0\n",
      "hue                             0\n",
      "od280/od315_of_diluted_wines    0\n",
      "proline                         0\n",
      "dtype: int64\n",
      "alcohol                         0\n",
      "malic_acid                      0\n",
      "ash                             0\n",
      "alcalinity_of_ash               0\n",
      "magnesium                       0\n",
      "total_phenols                   0\n",
      "flavanoids                      0\n",
      "nonflavanoid_phenols            0\n",
      "proanthocyanins                 0\n",
      "color_intensity                 0\n",
      "hue                             0\n",
      "od280/od315_of_diluted_wines    0\n",
      "proline                         0\n",
      "dtype: int64\n",
      "target    0\n",
      "dtype: int64\n"
     ]
    }
   ],
   "source": [
    "# 결측치 확인\n",
    "\n",
    "print(x_train.isnull().sum())\n",
    "print(x_test.isnull().sum())\n",
    "print(y_train.isnull().sum())"
   ]
  },
  {
   "cell_type": "code",
   "execution_count": 116,
   "id": "559e67b9",
   "metadata": {},
   "outputs": [],
   "source": [
    "# 결측치 제거\n",
    "# df = df.dropna()\n",
    "# print(df)\n",
    "\n",
    "# 참고사항\n",
    "# print(df.dropna().shape) # 행 기준으로 삭제"
   ]
  },
  {
   "cell_type": "code",
   "execution_count": 117,
   "id": "b99e8b80",
   "metadata": {},
   "outputs": [],
   "source": [
    "# 결측치 대체 (평균값, 중앙값, 최빈값)\n",
    "# 연속형 변수 : *중앙값, 평균값\n",
    "# - df['변수명'].median()\n",
    "# median = df['변수명'].median()\n",
    "# - df['변수명'].mean()\n",
    "# 범주형 변수 : 최빈값\n",
    "\n",
    "# df['변수명'] = df['변수명'].fillna(대체할 값)\n",
    "# df['변수명'] = df['변수명'].fillna(median)"
   ]
  },
  {
   "cell_type": "code",
   "execution_count": 118,
   "id": "97240b3b",
   "metadata": {},
   "outputs": [],
   "source": [
    "# 이상치 대체 (예시)\n",
    "# df['변수명'] = np.where(df['변수명'] >= 5, 대체할 값, df['변수명'])"
   ]
  },
  {
   "cell_type": "code",
   "execution_count": 119,
   "id": "b2c25b3a",
   "metadata": {},
   "outputs": [],
   "source": [
    "# 변수 처리\n",
    "\n",
    "# 불필요한 변수 제거\n",
    "# (1) df = df.drop(columns = ['변수1', '변수2'])\n",
    "# (2) df = df.drop(['변수1', '변수2']. axis = 1)\n",
    "\n",
    "# 필요시 변수 추가 (파생변수 생성)\n",
    "# df['파생변수명'] = df['A'] * df['B']\n",
    "\n",
    "# 원핫인코딩 (가변수 처리)\n",
    "# x_train = pd.get_dummies(x_train)\n",
    "# x_test = pd.get_dummies(x_test)\n",
    "# print(x_train.info())\n",
    "# print(x_test.info())"
   ]
  },
  {
   "cell_type": "markdown",
   "id": "5fe0c0ef",
   "metadata": {},
   "source": [
    "## 데이터 분리"
   ]
  },
  {
   "cell_type": "code",
   "execution_count": 120,
   "id": "885c0a17",
   "metadata": {},
   "outputs": [
    {
     "name": "stdout",
     "output_type": "stream",
     "text": [
      "(113, 13)\n",
      "(29, 13)\n",
      "(113,)\n",
      "(29,)\n"
     ]
    }
   ],
   "source": [
    "# 데이터를 훈련 세트와 검증용 세트로 분할 (80% 훈련, 20% 검증용)\n",
    "\n",
    "from sklearn.model_selection import train_test_split\n",
    "x_train, x_val, y_train, y_val = train_test_split(x_train, \n",
    "                                                  y_train['target'], \n",
    "                                                  test_size = 0.2, \n",
    "                                                  stratify = y_train['target'], # 분류 모델일 때\n",
    "                                                  random_state = 2023)\n",
    "\n",
    "print(x_train.shape)\n",
    "print(x_val.shape)\n",
    "print(y_train.shape)\n",
    "print(y_val.shape)"
   ]
  },
  {
   "cell_type": "markdown",
   "id": "6288be4e",
   "metadata": {},
   "source": [
    "# ✅ 4. 모델링 및 성능 평가"
   ]
  },
  {
   "cell_type": "code",
   "execution_count": 121,
   "id": "95ca5495",
   "metadata": {},
   "outputs": [
    {
     "data": {
      "text/html": [
       "<style>#sk-container-id-5 {color: black;}#sk-container-id-5 pre{padding: 0;}#sk-container-id-5 div.sk-toggleable {background-color: white;}#sk-container-id-5 label.sk-toggleable__label {cursor: pointer;display: block;width: 100%;margin-bottom: 0;padding: 0.3em;box-sizing: border-box;text-align: center;}#sk-container-id-5 label.sk-toggleable__label-arrow:before {content: \"▸\";float: left;margin-right: 0.25em;color: #696969;}#sk-container-id-5 label.sk-toggleable__label-arrow:hover:before {color: black;}#sk-container-id-5 div.sk-estimator:hover label.sk-toggleable__label-arrow:before {color: black;}#sk-container-id-5 div.sk-toggleable__content {max-height: 0;max-width: 0;overflow: hidden;text-align: left;background-color: #f0f8ff;}#sk-container-id-5 div.sk-toggleable__content pre {margin: 0.2em;color: black;border-radius: 0.25em;background-color: #f0f8ff;}#sk-container-id-5 input.sk-toggleable__control:checked~div.sk-toggleable__content {max-height: 200px;max-width: 100%;overflow: auto;}#sk-container-id-5 input.sk-toggleable__control:checked~label.sk-toggleable__label-arrow:before {content: \"▾\";}#sk-container-id-5 div.sk-estimator input.sk-toggleable__control:checked~label.sk-toggleable__label {background-color: #d4ebff;}#sk-container-id-5 div.sk-label input.sk-toggleable__control:checked~label.sk-toggleable__label {background-color: #d4ebff;}#sk-container-id-5 input.sk-hidden--visually {border: 0;clip: rect(1px 1px 1px 1px);clip: rect(1px, 1px, 1px, 1px);height: 1px;margin: -1px;overflow: hidden;padding: 0;position: absolute;width: 1px;}#sk-container-id-5 div.sk-estimator {font-family: monospace;background-color: #f0f8ff;border: 1px dotted black;border-radius: 0.25em;box-sizing: border-box;margin-bottom: 0.5em;}#sk-container-id-5 div.sk-estimator:hover {background-color: #d4ebff;}#sk-container-id-5 div.sk-parallel-item::after {content: \"\";width: 100%;border-bottom: 1px solid gray;flex-grow: 1;}#sk-container-id-5 div.sk-label:hover label.sk-toggleable__label {background-color: #d4ebff;}#sk-container-id-5 div.sk-serial::before {content: \"\";position: absolute;border-left: 1px solid gray;box-sizing: border-box;top: 0;bottom: 0;left: 50%;z-index: 0;}#sk-container-id-5 div.sk-serial {display: flex;flex-direction: column;align-items: center;background-color: white;padding-right: 0.2em;padding-left: 0.2em;position: relative;}#sk-container-id-5 div.sk-item {position: relative;z-index: 1;}#sk-container-id-5 div.sk-parallel {display: flex;align-items: stretch;justify-content: center;background-color: white;position: relative;}#sk-container-id-5 div.sk-item::before, #sk-container-id-5 div.sk-parallel-item::before {content: \"\";position: absolute;border-left: 1px solid gray;box-sizing: border-box;top: 0;bottom: 0;left: 50%;z-index: -1;}#sk-container-id-5 div.sk-parallel-item {display: flex;flex-direction: column;z-index: 1;position: relative;background-color: white;}#sk-container-id-5 div.sk-parallel-item:first-child::after {align-self: flex-end;width: 50%;}#sk-container-id-5 div.sk-parallel-item:last-child::after {align-self: flex-start;width: 50%;}#sk-container-id-5 div.sk-parallel-item:only-child::after {width: 0;}#sk-container-id-5 div.sk-dashed-wrapped {border: 1px dashed gray;margin: 0 0.4em 0.5em 0.4em;box-sizing: border-box;padding-bottom: 0.4em;background-color: white;}#sk-container-id-5 div.sk-label label {font-family: monospace;font-weight: bold;display: inline-block;line-height: 1.2em;}#sk-container-id-5 div.sk-label-container {text-align: center;}#sk-container-id-5 div.sk-container {/* jupyter's `normalize.less` sets `[hidden] { display: none; }` but bootstrap.min.css set `[hidden] { display: none !important; }` so we also need the `!important` here to be able to override the default hidden behavior on the sphinx rendered scikit-learn.org. See: https://github.com/scikit-learn/scikit-learn/issues/21755 */display: inline-block !important;position: relative;}#sk-container-id-5 div.sk-text-repr-fallback {display: none;}</style><div id=\"sk-container-id-5\" class=\"sk-top-container\"><div class=\"sk-text-repr-fallback\"><pre>RandomForestClassifier()</pre><b>In a Jupyter environment, please rerun this cell to show the HTML representation or trust the notebook. <br />On GitHub, the HTML representation is unable to render, please try loading this page with nbviewer.org.</b></div><div class=\"sk-container\" hidden><div class=\"sk-item\"><div class=\"sk-estimator sk-toggleable\"><input class=\"sk-toggleable__control sk-hidden--visually\" id=\"sk-estimator-id-5\" type=\"checkbox\" checked><label for=\"sk-estimator-id-5\" class=\"sk-toggleable__label sk-toggleable__label-arrow\">RandomForestClassifier</label><div class=\"sk-toggleable__content\"><pre>RandomForestClassifier()</pre></div></div></div></div></div>"
      ],
      "text/plain": [
       "RandomForestClassifier()"
      ]
     },
     "execution_count": 121,
     "metadata": {},
     "output_type": "execute_result"
    }
   ],
   "source": [
    "# 랜덤포레스트 모델 사용 (참고 : 회귀 모델은 RandomForestRegressor)\n",
    "\n",
    "from sklearn.ensemble import RandomForestClassifier\n",
    "model = RandomForestClassifier()\n",
    "model.fit(x_train, y_train)"
   ]
  },
  {
   "cell_type": "code",
   "execution_count": 122,
   "id": "dde4c770",
   "metadata": {},
   "outputs": [],
   "source": [
    "# 모델을 사용하여 테스트 데이터 예측\n",
    "\n",
    "y_pred = model.predict(x_val)"
   ]
  },
  {
   "cell_type": "code",
   "execution_count": 123,
   "id": "4f95b3b4",
   "metadata": {},
   "outputs": [],
   "source": [
    "# 모델 성능 평가 (정확도, F1 score, 민감도, 특이도 등)\n",
    "\n",
    "from sklearn.metrics import accuracy_score, f1_score, roc_auc_score, recall_score, precision_score\n",
    "acc = accuracy_score(y_val, y_pred)             # (실제값, 예측값)\n",
    "f1 = f1_score(y_val, y_pred, average = 'macro') # (실제값, 예측값)\n",
    "# auc = roc_auc_score(y_val, y_pred)            # (실제값, 예측값) * AUC는 이진분류"
   ]
  },
  {
   "cell_type": "code",
   "execution_count": 124,
   "id": "de033cac",
   "metadata": {},
   "outputs": [
    {
     "name": "stdout",
     "output_type": "stream",
     "text": [
      "1.0\n"
     ]
    }
   ],
   "source": [
    "# 정확도(Accuracy)\n",
    "\n",
    "print(acc)"
   ]
  },
  {
   "cell_type": "code",
   "execution_count": 125,
   "id": "b67b518e",
   "metadata": {},
   "outputs": [
    {
     "name": "stdout",
     "output_type": "stream",
     "text": [
      "1.0\n"
     ]
    }
   ],
   "source": [
    "# macro f1 score\n",
    "\n",
    "print(f1)"
   ]
  },
  {
   "cell_type": "markdown",
   "id": "e7754bb1",
   "metadata": {},
   "source": [
    "# ✅ 5. 예측값 제출"
   ]
  },
  {
   "cell_type": "markdown",
   "id": "c06d7a15",
   "metadata": {},
   "source": [
    "## (주의) test 셋을 모델에 넣어 나온 예측값을 제출해야 함"
   ]
  },
  {
   "cell_type": "code",
   "execution_count": 126,
   "id": "394d9d32",
   "metadata": {},
   "outputs": [
    {
     "name": "stdout",
     "output_type": "stream",
     "text": [
      "[2 2 2 0 1]\n",
      "[[0.01 0.01 0.98]\n",
      " [0.07 0.23 0.7 ]\n",
      " [0.02 0.06 0.92]\n",
      " [0.99 0.   0.01]\n",
      " [0.08 0.85 0.07]]\n",
      "   result  prob_0  prob_1  prob_2\n",
      "0       2    0.01    0.01    0.98\n",
      "1       2    0.07    0.23    0.70\n",
      "2       2    0.02    0.06    0.92\n",
      "3       0    0.99    0.00    0.01\n",
      "4       1    0.08    0.85    0.07\n"
     ]
    }
   ],
   "source": [
    "# (실기시험 안내사항)\n",
    "# 아래 코드 예측 변수와 수험번호를 개인별로 변경하여 활용\n",
    "# pd.DataFrame({'result' : y_result}).to_csv('수험번호.csv', index = False)\n",
    "\n",
    "# 모델을 사용하여 테스트 데이터 예측\n",
    "\n",
    "# 1. 특정 클래스로 분류할 경우 (predict)\n",
    "y_result = model.predict(x_test)\n",
    "print(y_result[:5])\n",
    "\n",
    "# 2. 특정 클래스로 분류될 확률을 구할 경우 (predict_proba)\n",
    "y_result_prob = model.predict_proba(x_test)\n",
    "print(y_result_prob[:5])\n",
    "\n",
    "# 이해해보기\n",
    "result_prob = pd.DataFrame({\n",
    "    'result' : y_result,\n",
    "    'prob_0' : y_result_prob[:,0],\n",
    "    'prob_1' : y_result_prob[:,1],\n",
    "    'prob_2' : y_result_prob[:,2]\n",
    "})\n",
    "\n",
    "# Class 0일 확률 : y_result_prob[:,0]\n",
    "# Class 1일 확률 : y_result_prob[:,1]\n",
    "# Class 2일 확률 : y_result_prob[:,2]\n",
    "\n",
    "print(result_prob[:5])"
   ]
  },
  {
   "cell_type": "code",
   "execution_count": 127,
   "id": "da355a92",
   "metadata": {},
   "outputs": [],
   "source": [
    "# ★tip : 데이터를 저장한 후 불러와서 제대로 제출했는지 확인\n",
    "# pd.DataFrame({'result' : y_result}).to_csv('수험번호.csv', index = False)\n",
    "# df2 = pd.read_csv(\"수험번호.csv\")\n",
    "# print(df2.head())"
   ]
  }
 ],
 "metadata": {
  "kernelspec": {
   "display_name": "Python 3 (ipykernel)",
   "language": "python",
   "name": "python3"
  },
  "language_info": {
   "codemirror_mode": {
    "name": "ipython",
    "version": 3
   },
   "file_extension": ".py",
   "mimetype": "text/x-python",
   "name": "python",
   "nbconvert_exporter": "python",
   "pygments_lexer": "ipython3",
   "version": "3.11.5"
  }
 },
 "nbformat": 4,
 "nbformat_minor": 5
}
