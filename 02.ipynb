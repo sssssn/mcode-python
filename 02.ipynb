{
 "cells": [
  {
   "cell_type": "markdown",
   "id": "85761d13",
   "metadata": {},
   "source": [
    "# 제1유형_문제풀이"
   ]
  },
  {
   "cell_type": "markdown",
   "id": "33f0a4bc",
   "metadata": {},
   "source": [
    "## 데이터 다루기 유형\n",
    "\n",
    "> 1. 데이터 타입 (object, int, float, bool 등)\n",
    "> 2. 기초통계량 (평균,중앙값,사분위수,IQR, 표준편차 등)\n",
    "> 3. 데이터 인덱싱, 필터링, 정렬, 변경 등\n",
    "> 4. 결측치, 이상치, 중복값 처리(제거 or 대체)\n",
    "> 5. 데이터 Scaling (데이터 표준화(z), 데이터정규화(min-max))\n",
    "> 6. 데이터 합치기\n",
    "> 7. 날짜/시간 데이터,\tindex 다루기"
   ]
  },
  {
   "cell_type": "markdown",
   "id": "bd8c260a",
   "metadata": {},
   "source": [
    "# ✅ 핵심문제 27개 (1~10)"
   ]
  },
  {
   "cell_type": "code",
   "execution_count": 186,
   "id": "10aafd31",
   "metadata": {},
   "outputs": [
    {
     "data": {
      "text/html": [
       "<div>\n",
       "<style scoped>\n",
       "    .dataframe tbody tr th:only-of-type {\n",
       "        vertical-align: middle;\n",
       "    }\n",
       "\n",
       "    .dataframe tbody tr th {\n",
       "        vertical-align: top;\n",
       "    }\n",
       "\n",
       "    .dataframe thead th {\n",
       "        text-align: right;\n",
       "    }\n",
       "</style>\n",
       "<table border=\"1\" class=\"dataframe\">\n",
       "  <thead>\n",
       "    <tr style=\"text-align: right;\">\n",
       "      <th></th>\n",
       "      <th>car</th>\n",
       "      <th>mpg</th>\n",
       "      <th>cyl</th>\n",
       "      <th>disp</th>\n",
       "      <th>hp</th>\n",
       "      <th>drat</th>\n",
       "      <th>wt</th>\n",
       "      <th>qsec</th>\n",
       "      <th>vs</th>\n",
       "      <th>am</th>\n",
       "      <th>gear</th>\n",
       "      <th>carb</th>\n",
       "    </tr>\n",
       "  </thead>\n",
       "  <tbody>\n",
       "    <tr>\n",
       "      <th>0</th>\n",
       "      <td>Mazda RX4</td>\n",
       "      <td>21.0</td>\n",
       "      <td>6</td>\n",
       "      <td>160.0</td>\n",
       "      <td>110</td>\n",
       "      <td>3.90</td>\n",
       "      <td>2.620</td>\n",
       "      <td>16.46</td>\n",
       "      <td>0</td>\n",
       "      <td>1</td>\n",
       "      <td>4</td>\n",
       "      <td>4</td>\n",
       "    </tr>\n",
       "    <tr>\n",
       "      <th>1</th>\n",
       "      <td>Mazda RX4 Wag</td>\n",
       "      <td>21.0</td>\n",
       "      <td>6</td>\n",
       "      <td>160.0</td>\n",
       "      <td>110</td>\n",
       "      <td>3.90</td>\n",
       "      <td>2.875</td>\n",
       "      <td>17.02</td>\n",
       "      <td>0</td>\n",
       "      <td>1</td>\n",
       "      <td>4</td>\n",
       "      <td>4</td>\n",
       "    </tr>\n",
       "    <tr>\n",
       "      <th>2</th>\n",
       "      <td>Datsun 710</td>\n",
       "      <td>22.8</td>\n",
       "      <td>4</td>\n",
       "      <td>108.0</td>\n",
       "      <td>93</td>\n",
       "      <td>3.85</td>\n",
       "      <td>2.320</td>\n",
       "      <td>18.61</td>\n",
       "      <td>1</td>\n",
       "      <td>1</td>\n",
       "      <td>4</td>\n",
       "      <td>1</td>\n",
       "    </tr>\n",
       "    <tr>\n",
       "      <th>3</th>\n",
       "      <td>Hornet 4 Drive</td>\n",
       "      <td>21.4</td>\n",
       "      <td>6</td>\n",
       "      <td>258.0</td>\n",
       "      <td>110</td>\n",
       "      <td>3.08</td>\n",
       "      <td>3.215</td>\n",
       "      <td>19.44</td>\n",
       "      <td>1</td>\n",
       "      <td>0</td>\n",
       "      <td>3</td>\n",
       "      <td>1</td>\n",
       "    </tr>\n",
       "    <tr>\n",
       "      <th>4</th>\n",
       "      <td>Hornet Sportabout</td>\n",
       "      <td>18.7</td>\n",
       "      <td>8</td>\n",
       "      <td>360.0</td>\n",
       "      <td>175</td>\n",
       "      <td>3.15</td>\n",
       "      <td>3.440</td>\n",
       "      <td>17.02</td>\n",
       "      <td>0</td>\n",
       "      <td>0</td>\n",
       "      <td>3</td>\n",
       "      <td>2</td>\n",
       "    </tr>\n",
       "  </tbody>\n",
       "</table>\n",
       "</div>"
      ],
      "text/plain": [
       "                 car   mpg  cyl   disp   hp  drat     wt   qsec  vs  am  gear  \\\n",
       "0          Mazda RX4  21.0    6  160.0  110  3.90  2.620  16.46   0   1     4   \n",
       "1      Mazda RX4 Wag  21.0    6  160.0  110  3.90  2.875  17.02   0   1     4   \n",
       "2         Datsun 710  22.8    4  108.0   93  3.85  2.320  18.61   1   1     4   \n",
       "3     Hornet 4 Drive  21.4    6  258.0  110  3.08  3.215  19.44   1   0     3   \n",
       "4  Hornet Sportabout  18.7    8  360.0  175  3.15  3.440  17.02   0   0     3   \n",
       "\n",
       "   carb  \n",
       "0     4  \n",
       "1     4  \n",
       "2     1  \n",
       "3     1  \n",
       "4     2  "
      ]
     },
     "execution_count": 186,
     "metadata": {},
     "output_type": "execute_result"
    }
   ],
   "source": [
    "# 데이터 불러오기\n",
    "import pandas as pd\n",
    "import numpy as np\n",
    "df = pd.read_csv(\"mtcars.csv\")\n",
    "df.head()"
   ]
  },
  {
   "cell_type": "code",
   "execution_count": 187,
   "id": "cdb82475",
   "metadata": {},
   "outputs": [],
   "source": [
    "# 문제 1\n",
    "# mpg 변수의 제 1사분위수를 구하고 정수값으로 출력하시오.\n",
    "df = pd.read_csv(\"mtcars.csv\")"
   ]
  },
  {
   "cell_type": "code",
   "execution_count": 188,
   "id": "fe32e172",
   "metadata": {},
   "outputs": [
    {
     "name": "stdout",
     "output_type": "stream",
     "text": [
      "15\n"
     ]
    }
   ],
   "source": [
    "# (풀이)\n",
    "Q1 = df['mpg'].quantile(0.25)\n",
    "print(round(Q1))\n",
    "# print(round(Q1, 1)) 소수점 첫째자리"
   ]
  },
  {
   "cell_type": "code",
   "execution_count": 189,
   "id": "77d89b58",
   "metadata": {},
   "outputs": [],
   "source": [
    "# 문제 2\n",
    "# mpg 값이 19이상 21이하인 데이터의 수를 구하시오.\n",
    "df = pd.read_csv(\"mtcars.csv\")"
   ]
  },
  {
   "cell_type": "code",
   "execution_count": 190,
   "id": "07df0180",
   "metadata": {},
   "outputs": [
    {
     "name": "stdout",
     "output_type": "stream",
     "text": [
      "5\n"
     ]
    }
   ],
   "source": [
    "# 풀이\n",
    "cond1 = (df['mpg'] >= 19)\n",
    "cond2 = (df['mpg'] <= 21)\n",
    "print(len(df[cond1 & cond2]))"
   ]
  },
  {
   "cell_type": "code",
   "execution_count": 191,
   "id": "71bed602",
   "metadata": {},
   "outputs": [],
   "source": [
    "# 문제 3\n",
    "# hp 변수의 IQR 값을 구하시오.\n",
    "df = pd.read_csv(\"mtcars.csv\")"
   ]
  },
  {
   "cell_type": "code",
   "execution_count": 192,
   "id": "05d05400",
   "metadata": {},
   "outputs": [
    {
     "name": "stdout",
     "output_type": "stream",
     "text": [
      "83.5\n"
     ]
    }
   ],
   "source": [
    "# (풀이)\n",
    "Q1 = df['hp'].quantile(0.25)\n",
    "Q3 = df['hp'].quantile(0.75)\n",
    "IQR = Q3 - Q1\n",
    "print(IQR)"
   ]
  },
  {
   "cell_type": "code",
   "execution_count": 193,
   "id": "645be8c6",
   "metadata": {},
   "outputs": [],
   "source": [
    "# 문제 4\n",
    "# wt 변수의 상위 10개 값의 총합을 구하여 소수점을 버리고 정수로 출력하시오.\n",
    "df = pd.read_csv(\"mtcars.csv\")"
   ]
  },
  {
   "cell_type": "code",
   "execution_count": 194,
   "id": "29066df3",
   "metadata": {},
   "outputs": [
    {
     "name": "stdout",
     "output_type": "stream",
     "text": [
      "42\n"
     ]
    }
   ],
   "source": [
    "# (풀이)\n",
    "top10 = df.sort_values('wt', ascending = False)\n",
    "sum_top10 = sum(top10['wt'].head(10))\n",
    "print(int(sum_top10)) # 주의: 소수점 반올림이 아닌 버리기"
   ]
  },
  {
   "cell_type": "code",
   "execution_count": 195,
   "id": "ea558564",
   "metadata": {},
   "outputs": [],
   "source": [
    "# 문제 5\n",
    "# 전체 자동차에서 cyl가 6인 비율이 얼마인지 소수점 첫째자리까지 출력하시오.\n",
    "df = pd.read_csv(\"mtcars.csv\")"
   ]
  },
  {
   "cell_type": "code",
   "execution_count": 196,
   "id": "edac9a44",
   "metadata": {},
   "outputs": [
    {
     "name": "stdout",
     "output_type": "stream",
     "text": [
      "0.2\n"
     ]
    }
   ],
   "source": [
    "# (풀이)\n",
    "len_6 = len(df[df['cyl'] == 6])\n",
    "len_total = len(df)\n",
    "print(round(len_6 / len_total, 1))"
   ]
  },
  {
   "cell_type": "code",
   "execution_count": 197,
   "id": "789ca75e",
   "metadata": {},
   "outputs": [],
   "source": [
    "# 문제 6\n",
    "# 첫번째 행부터 순서대로 10개 뽑은 후 mpg 열의 평균값을 반올림하여 정수로 출력하시오.\n",
    "df = pd.read_csv(\"mtcars.csv\")"
   ]
  },
  {
   "cell_type": "code",
   "execution_count": 198,
   "id": "514b0ef7",
   "metadata": {},
   "outputs": [
    {
     "name": "stdout",
     "output_type": "stream",
     "text": [
      "20\n"
     ]
    }
   ],
   "source": [
    "# (풀이)\n",
    "df10 = df[:10] # df.loc[0:9], df.head(10)\n",
    "mean10 = df10['mpg'].mean()\n",
    "print(round(mean10))"
   ]
  },
  {
   "cell_type": "code",
   "execution_count": 199,
   "id": "22a3b74c",
   "metadata": {},
   "outputs": [],
   "source": [
    "# 문제 7\n",
    "# 첫번째 행부터 순서대로 50%까지 데이터를 뽑아 wt 변수의 중앙값을 구하시오.\n",
    "df = pd.read_csv(\"mtcars.csv\")"
   ]
  },
  {
   "cell_type": "code",
   "execution_count": 200,
   "id": "e9157188",
   "metadata": {},
   "outputs": [
    {
     "name": "stdout",
     "output_type": "stream",
     "text": [
      "3.44\n"
     ]
    }
   ],
   "source": [
    "# (풀이)\n",
    "# 50% 데이터에 해당하는 행의 수 (정수로 구하기)\n",
    "p50 = int(len(df) * 0.5)\n",
    "df50 = df[:p50]\n",
    "print(df50['wt'].median()) # = quantile(0.50)"
   ]
  },
  {
   "cell_type": "code",
   "execution_count": 201,
   "id": "4eb38a42",
   "metadata": {},
   "outputs": [
    {
     "data": {
      "text/html": [
       "<div>\n",
       "<style scoped>\n",
       "    .dataframe tbody tr th:only-of-type {\n",
       "        vertical-align: middle;\n",
       "    }\n",
       "\n",
       "    .dataframe tbody tr th {\n",
       "        vertical-align: top;\n",
       "    }\n",
       "\n",
       "    .dataframe thead th {\n",
       "        text-align: right;\n",
       "    }\n",
       "</style>\n",
       "<table border=\"1\" class=\"dataframe\">\n",
       "  <thead>\n",
       "    <tr style=\"text-align: right;\">\n",
       "      <th></th>\n",
       "      <th>날짜</th>\n",
       "      <th>제품</th>\n",
       "      <th>판매수</th>\n",
       "      <th>개당수익</th>\n",
       "    </tr>\n",
       "  </thead>\n",
       "  <tbody>\n",
       "    <tr>\n",
       "      <th>0</th>\n",
       "      <td>20220103</td>\n",
       "      <td>A</td>\n",
       "      <td>3.0</td>\n",
       "      <td>300</td>\n",
       "    </tr>\n",
       "    <tr>\n",
       "      <th>1</th>\n",
       "      <td>20220105</td>\n",
       "      <td>B</td>\n",
       "      <td>NaN</td>\n",
       "      <td>400</td>\n",
       "    </tr>\n",
       "    <tr>\n",
       "      <th>2</th>\n",
       "      <td>None</td>\n",
       "      <td>None</td>\n",
       "      <td>5.0</td>\n",
       "      <td>500</td>\n",
       "    </tr>\n",
       "    <tr>\n",
       "      <th>3</th>\n",
       "      <td>20230127</td>\n",
       "      <td>B</td>\n",
       "      <td>10.0</td>\n",
       "      <td>600</td>\n",
       "    </tr>\n",
       "    <tr>\n",
       "      <th>4</th>\n",
       "      <td>20220203</td>\n",
       "      <td>A</td>\n",
       "      <td>10.0</td>\n",
       "      <td>400</td>\n",
       "    </tr>\n",
       "    <tr>\n",
       "      <th>5</th>\n",
       "      <td>20220205</td>\n",
       "      <td>None</td>\n",
       "      <td>10.0</td>\n",
       "      <td>500</td>\n",
       "    </tr>\n",
       "    <tr>\n",
       "      <th>6</th>\n",
       "      <td>20230210</td>\n",
       "      <td>A</td>\n",
       "      <td>15.0</td>\n",
       "      <td>500</td>\n",
       "    </tr>\n",
       "    <tr>\n",
       "      <th>7</th>\n",
       "      <td>20230223</td>\n",
       "      <td>B</td>\n",
       "      <td>15.0</td>\n",
       "      <td>600</td>\n",
       "    </tr>\n",
       "    <tr>\n",
       "      <th>8</th>\n",
       "      <td>20230312</td>\n",
       "      <td>A</td>\n",
       "      <td>20.0</td>\n",
       "      <td>600</td>\n",
       "    </tr>\n",
       "    <tr>\n",
       "      <th>9</th>\n",
       "      <td>20230422</td>\n",
       "      <td>B</td>\n",
       "      <td>NaN</td>\n",
       "      <td>700</td>\n",
       "    </tr>\n",
       "    <tr>\n",
       "      <th>10</th>\n",
       "      <td>20220505</td>\n",
       "      <td>A</td>\n",
       "      <td>30.0</td>\n",
       "      <td>600</td>\n",
       "    </tr>\n",
       "    <tr>\n",
       "      <th>11</th>\n",
       "      <td>20230511</td>\n",
       "      <td>A</td>\n",
       "      <td>40.0</td>\n",
       "      <td>600</td>\n",
       "    </tr>\n",
       "  </tbody>\n",
       "</table>\n",
       "</div>"
      ],
      "text/plain": [
       "          날짜    제품   판매수  개당수익\n",
       "0   20220103     A   3.0   300\n",
       "1   20220105     B   NaN   400\n",
       "2       None  None   5.0   500\n",
       "3   20230127     B  10.0   600\n",
       "4   20220203     A  10.0   400\n",
       "5   20220205  None  10.0   500\n",
       "6   20230210     A  15.0   500\n",
       "7   20230223     B  15.0   600\n",
       "8   20230312     A  20.0   600\n",
       "9   20230422     B   NaN   700\n",
       "10  20220505     A  30.0   600\n",
       "11  20230511     A  40.0   600"
      ]
     },
     "execution_count": 201,
     "metadata": {},
     "output_type": "execute_result"
    }
   ],
   "source": [
    "# 문제 8\n",
    "# 결측값이 있는 데이터의 수를 출력하시오.\n",
    "\n",
    "# 데이터 생성\n",
    "df = pd.DataFrame({\n",
    "    '날짜' : ['20220103', '20220105', None, '20230127', '20220203', '20220205', '20230210', '20230223', '20230312', '20230422', '20220505', '20230511'],\n",
    "    '제품' : ['A', 'B', None, 'B', 'A', None,'A', 'B', 'A', 'B', 'A', 'A'],\n",
    "    '판매수': [3, None, 5, 10, 10, 10, 15, 15, 20, None, 30, 40],\n",
    "    '개당수익': [300, 400, 500, 600, 400, 500, 500, 600, 600, 700, 600, 600] })\n",
    "df"
   ]
  },
  {
   "cell_type": "code",
   "execution_count": 202,
   "id": "b4d21f36",
   "metadata": {},
   "outputs": [
    {
     "name": "stdout",
     "output_type": "stream",
     "text": [
      "5\n"
     ]
    }
   ],
   "source": [
    "# (풀이)\n",
    "# 데이터 결측치 확인\n",
    "missing = df.isnull().sum()\n",
    "print(missing.sum())"
   ]
  },
  {
   "cell_type": "code",
   "execution_count": 203,
   "id": "aeff7f27",
   "metadata": {},
   "outputs": [],
   "source": [
    "# 문제 9\n",
    "# '판매수' 컬럼의 결측값을 판매수의 중앙값으로 대체하고 판매수의 평균값을 반올림하여 정수로 출력하시오.\n",
    "\n",
    "# 데이터 생성\n",
    "df = pd.DataFrame({\n",
    "    '날짜' : ['20220103', '20220105', None, '20230127', '20220203', '20220205', '20230210', '20230223', '20230312', '20230422', '20220505', '20230511'],\n",
    "    '제품' : ['A', 'B', None, 'B', 'A', None,'A', 'B', 'A', 'B', 'A', 'A'],\n",
    "    '판매수': [3, None, 5, 10, 10, 10, 15, 15, 20, None, 30, 40],\n",
    "    '개당수익': [300, 400, 500, 600, 400, 500, 500, 600, 600, 700, 600, 600] })"
   ]
  },
  {
   "cell_type": "code",
   "execution_count": 204,
   "id": "3eab2803",
   "metadata": {},
   "outputs": [
    {
     "name": "stdout",
     "output_type": "stream",
     "text": [
      "15\n"
     ]
    }
   ],
   "source": [
    "# (풀이)\n",
    "# 판매수의 중앙값\n",
    "Q2 = df['판매수'].median()\n",
    "df['판매수'] = df['판매수'].fillna(Q2)\n",
    "mean = df['판매수'].mean()\n",
    "print(round(mean))"
   ]
  },
  {
   "cell_type": "code",
   "execution_count": 205,
   "id": "d590812c",
   "metadata": {},
   "outputs": [],
   "source": [
    "# 문제 10\n",
    "# 판매수 컬럼에 결측치가 있는 행을 제거하고,\n",
    "# 첫번째 행부터 순서대로 50%까지의 데이터를 추출하여\n",
    "# 판매수 변수의 Q1(제 1사분위수) 값을 정수로 출력하시오.\n",
    "\n",
    "# 데이터 생성\n",
    "df = pd.DataFrame({\n",
    "    '날짜' : ['20220103', '20220105', None, '20230127', '20220203', '20220205', '20230210', '20230223', '20230312', '20230422', '20220505', '20230511'],\n",
    "    '제품' : ['A', 'B', None, 'B', 'A', None,'A', 'B', 'A', 'B', 'A', 'A'],\n",
    "    '판매수': [3, None, 5, 10, 10, 10, 15, 15, 20, None, 30, 40],\n",
    "    '개당수익': [300, 400, 500, 600, 400, 500, 500, 600, 600, 700, 600, 600] })"
   ]
  },
  {
   "cell_type": "code",
   "execution_count": 206,
   "id": "3a9fe857",
   "metadata": {},
   "outputs": [
    {
     "name": "stdout",
     "output_type": "stream",
     "text": [
      "5\n"
     ]
    }
   ],
   "source": [
    "# (풀이)\n",
    "# 결측치 삭제 (행 기준)\n",
    "df = df['판매수'].dropna()\n",
    "\n",
    "# 첫번째 행부터 순서대로 50%까지의 데이터 추출\n",
    "per50 = int(len(df) * 0.5)\n",
    "df = df[:per50]\n",
    "\n",
    "# 값 구하기\n",
    "print(round(df.quantile(0.25)))"
   ]
  },
  {
   "cell_type": "markdown",
   "id": "999d3bc8",
   "metadata": {},
   "source": [
    "# ✅ 핵심문제 27개 (11~20)"
   ]
  },
  {
   "cell_type": "code",
   "execution_count": 207,
   "id": "6d0aa2a6",
   "metadata": {},
   "outputs": [
    {
     "data": {
      "text/html": [
       "<div>\n",
       "<style scoped>\n",
       "    .dataframe tbody tr th:only-of-type {\n",
       "        vertical-align: middle;\n",
       "    }\n",
       "\n",
       "    .dataframe tbody tr th {\n",
       "        vertical-align: top;\n",
       "    }\n",
       "\n",
       "    .dataframe thead th {\n",
       "        text-align: right;\n",
       "    }\n",
       "</style>\n",
       "<table border=\"1\" class=\"dataframe\">\n",
       "  <thead>\n",
       "    <tr style=\"text-align: right;\">\n",
       "      <th></th>\n",
       "      <th>car</th>\n",
       "      <th>mpg</th>\n",
       "      <th>cyl</th>\n",
       "      <th>disp</th>\n",
       "      <th>hp</th>\n",
       "      <th>drat</th>\n",
       "      <th>wt</th>\n",
       "      <th>qsec</th>\n",
       "      <th>vs</th>\n",
       "      <th>am</th>\n",
       "      <th>gear</th>\n",
       "      <th>carb</th>\n",
       "    </tr>\n",
       "  </thead>\n",
       "  <tbody>\n",
       "    <tr>\n",
       "      <th>0</th>\n",
       "      <td>Mazda RX4</td>\n",
       "      <td>21.0</td>\n",
       "      <td>6</td>\n",
       "      <td>160.0</td>\n",
       "      <td>110</td>\n",
       "      <td>3.90</td>\n",
       "      <td>2.620</td>\n",
       "      <td>16.46</td>\n",
       "      <td>0</td>\n",
       "      <td>1</td>\n",
       "      <td>4</td>\n",
       "      <td>4</td>\n",
       "    </tr>\n",
       "    <tr>\n",
       "      <th>1</th>\n",
       "      <td>Mazda RX4 Wag</td>\n",
       "      <td>21.0</td>\n",
       "      <td>6</td>\n",
       "      <td>160.0</td>\n",
       "      <td>110</td>\n",
       "      <td>3.90</td>\n",
       "      <td>2.875</td>\n",
       "      <td>17.02</td>\n",
       "      <td>0</td>\n",
       "      <td>1</td>\n",
       "      <td>4</td>\n",
       "      <td>4</td>\n",
       "    </tr>\n",
       "    <tr>\n",
       "      <th>2</th>\n",
       "      <td>Datsun 710</td>\n",
       "      <td>22.8</td>\n",
       "      <td>4</td>\n",
       "      <td>108.0</td>\n",
       "      <td>93</td>\n",
       "      <td>3.85</td>\n",
       "      <td>2.320</td>\n",
       "      <td>18.61</td>\n",
       "      <td>1</td>\n",
       "      <td>1</td>\n",
       "      <td>4</td>\n",
       "      <td>1</td>\n",
       "    </tr>\n",
       "    <tr>\n",
       "      <th>3</th>\n",
       "      <td>Hornet 4 Drive</td>\n",
       "      <td>21.4</td>\n",
       "      <td>6</td>\n",
       "      <td>258.0</td>\n",
       "      <td>110</td>\n",
       "      <td>3.08</td>\n",
       "      <td>3.215</td>\n",
       "      <td>19.44</td>\n",
       "      <td>1</td>\n",
       "      <td>0</td>\n",
       "      <td>3</td>\n",
       "      <td>1</td>\n",
       "    </tr>\n",
       "    <tr>\n",
       "      <th>4</th>\n",
       "      <td>Hornet Sportabout</td>\n",
       "      <td>18.7</td>\n",
       "      <td>8</td>\n",
       "      <td>360.0</td>\n",
       "      <td>175</td>\n",
       "      <td>3.15</td>\n",
       "      <td>3.440</td>\n",
       "      <td>17.02</td>\n",
       "      <td>0</td>\n",
       "      <td>0</td>\n",
       "      <td>3</td>\n",
       "      <td>2</td>\n",
       "    </tr>\n",
       "  </tbody>\n",
       "</table>\n",
       "</div>"
      ],
      "text/plain": [
       "                 car   mpg  cyl   disp   hp  drat     wt   qsec  vs  am  gear  \\\n",
       "0          Mazda RX4  21.0    6  160.0  110  3.90  2.620  16.46   0   1     4   \n",
       "1      Mazda RX4 Wag  21.0    6  160.0  110  3.90  2.875  17.02   0   1     4   \n",
       "2         Datsun 710  22.8    4  108.0   93  3.85  2.320  18.61   1   1     4   \n",
       "3     Hornet 4 Drive  21.4    6  258.0  110  3.08  3.215  19.44   1   0     3   \n",
       "4  Hornet Sportabout  18.7    8  360.0  175  3.15  3.440  17.02   0   0     3   \n",
       "\n",
       "   carb  \n",
       "0     4  \n",
       "1     4  \n",
       "2     1  \n",
       "3     1  \n",
       "4     2  "
      ]
     },
     "execution_count": 207,
     "metadata": {},
     "output_type": "execute_result"
    }
   ],
   "source": [
    "df = pd.read_csv(\"mtcars.csv\")\n",
    "df.head()"
   ]
  },
  {
   "cell_type": "code",
   "execution_count": 208,
   "id": "03b3baa4",
   "metadata": {},
   "outputs": [],
   "source": [
    "# 문제 11\n",
    "# cyl가 4인 자동차와 6인 자동차 그룹의 mpg 평균값 차이를 절대값으로 정수로 출력하시오.\n",
    "df = pd.read_csv(\"mtcars.csv\")"
   ]
  },
  {
   "cell_type": "code",
   "execution_count": 209,
   "id": "9de93aaa",
   "metadata": {},
   "outputs": [
    {
     "name": "stdout",
     "output_type": "stream",
     "text": [
      "7\n"
     ]
    }
   ],
   "source": [
    "# (풀이)\n",
    "cond1 = (df['cyl'] == 4)\n",
    "cond2 = (df['cyl'] == 6)\n",
    "cyl4 = df[cond1]['mpg'].mean()\n",
    "cyl6 = df[cond2]['mpg'].mean()\n",
    "print(round(abs(cyl4 - cyl6)))"
   ]
  },
  {
   "cell_type": "code",
   "execution_count": 210,
   "id": "23449aec",
   "metadata": {},
   "outputs": [],
   "source": [
    "# 문제 12\n",
    "# hp 변수에 대해 데이터표준화(Z-score)를 진행하고 이상치의 수를 구하시오.\n",
    "# (단, 이상치는 Z값이 1.5를 초과하거나 -1.5 미만인 값이다.)\n",
    "df = pd.read_csv(\"mtcars.csv\")"
   ]
  },
  {
   "cell_type": "code",
   "execution_count": 211,
   "id": "8ce6dc8f",
   "metadata": {},
   "outputs": [
    {
     "name": "stdout",
     "output_type": "stream",
     "text": [
      "2\n"
     ]
    }
   ],
   "source": [
    "# (풀이)\n",
    "# Z = (X - 평균) / 표준편차\n",
    "std = df['hp'].std()\n",
    "mean_hp = df['hp'].mean()\n",
    "df['zscore'] = (df['hp'] - mean_hp) / std # 새로운 변수 생성\n",
    "# print(df)\n",
    "cond1 = (df['zscore'] > 1.5)\n",
    "cond2 = (df['zscore'] < -1.5)\n",
    "print(len(df[cond1]) + len(df[cond2]))"
   ]
  },
  {
   "cell_type": "code",
   "execution_count": 212,
   "id": "bdd5adb5",
   "metadata": {},
   "outputs": [],
   "source": [
    "# 문제 13\n",
    "# mpg 컬럼을 최소최대 Scaling을 진행한 후 0.7보다 큰 값을 가지는 레코드 수를 구하시오.\n",
    "df = pd.read_csv(\"mtcars.csv\")"
   ]
  },
  {
   "cell_type": "code",
   "execution_count": 213,
   "id": "b183c17a",
   "metadata": {},
   "outputs": [
    {
     "name": "stdout",
     "output_type": "stream",
     "text": [
      "5\n"
     ]
    }
   ],
   "source": [
    "# (풀이)\n",
    "# (x - min) / (max - min)\n",
    "min_mpg = df['mpg'].min()\n",
    "max_mpg = df['mpg'].max()\n",
    "df['mpg'] = (df['mpg'] - min_mpg) / (max_mpg - min_mpg)\n",
    "cond1 = (df['mpg'] > 0.7)\n",
    "print(len(df[cond1]))"
   ]
  },
  {
   "cell_type": "code",
   "execution_count": 214,
   "id": "96584a3b",
   "metadata": {},
   "outputs": [],
   "source": [
    "# 문제 14\n",
    "# wt 컬럼에 대해 상자그림 기준으로 이상치의 개수를 구하시오.\n",
    "df = pd.read_csv(\"mtcars.csv\")"
   ]
  },
  {
   "cell_type": "code",
   "execution_count": 215,
   "id": "7d70b128",
   "metadata": {},
   "outputs": [
    {
     "name": "stdout",
     "output_type": "stream",
     "text": [
      "3\n"
     ]
    }
   ],
   "source": [
    "# (풀이)\n",
    "# 이상치 : Q1, Q3으로 부터 1.5 * IQR을 넘어가는 값\n",
    "Q1 = df['wt'].quantile(0.25)\n",
    "Q3 = df['wt'].quantile(0.75)\n",
    "IQR = Q3 - Q1\n",
    "\n",
    "upper = Q3 + 1.5 * IQR\n",
    "lower = Q1 - 1.5 * IQR\n",
    "\n",
    "cond1 = (df['wt'] > upper)\n",
    "cond2 = (df['wt'] < lower)\n",
    "\n",
    "print(len(df[cond1]) + len(df[cond2]))"
   ]
  },
  {
   "cell_type": "code",
   "execution_count": 216,
   "id": "37a9cb5e",
   "metadata": {},
   "outputs": [
    {
     "data": {
      "text/html": [
       "<div>\n",
       "<style scoped>\n",
       "    .dataframe tbody tr th:only-of-type {\n",
       "        vertical-align: middle;\n",
       "    }\n",
       "\n",
       "    .dataframe tbody tr th {\n",
       "        vertical-align: top;\n",
       "    }\n",
       "\n",
       "    .dataframe thead th {\n",
       "        text-align: right;\n",
       "    }\n",
       "</style>\n",
       "<table border=\"1\" class=\"dataframe\">\n",
       "  <thead>\n",
       "    <tr style=\"text-align: right;\">\n",
       "      <th></th>\n",
       "      <th>날짜</th>\n",
       "      <th>제품</th>\n",
       "      <th>판매수</th>\n",
       "      <th>개당수익</th>\n",
       "    </tr>\n",
       "  </thead>\n",
       "  <tbody>\n",
       "    <tr>\n",
       "      <th>0</th>\n",
       "      <td>20220103</td>\n",
       "      <td>A</td>\n",
       "      <td>3.0</td>\n",
       "      <td>300</td>\n",
       "    </tr>\n",
       "    <tr>\n",
       "      <th>1</th>\n",
       "      <td>20220105</td>\n",
       "      <td>B</td>\n",
       "      <td>NaN</td>\n",
       "      <td>400</td>\n",
       "    </tr>\n",
       "    <tr>\n",
       "      <th>2</th>\n",
       "      <td>None</td>\n",
       "      <td>None</td>\n",
       "      <td>5.0</td>\n",
       "      <td>500</td>\n",
       "    </tr>\n",
       "    <tr>\n",
       "      <th>3</th>\n",
       "      <td>20230127</td>\n",
       "      <td>B</td>\n",
       "      <td>10.0</td>\n",
       "      <td>600</td>\n",
       "    </tr>\n",
       "    <tr>\n",
       "      <th>4</th>\n",
       "      <td>20220203</td>\n",
       "      <td>A</td>\n",
       "      <td>10.0</td>\n",
       "      <td>400</td>\n",
       "    </tr>\n",
       "    <tr>\n",
       "      <th>5</th>\n",
       "      <td>20220205</td>\n",
       "      <td>None</td>\n",
       "      <td>10.0</td>\n",
       "      <td>500</td>\n",
       "    </tr>\n",
       "    <tr>\n",
       "      <th>6</th>\n",
       "      <td>20230210</td>\n",
       "      <td>A</td>\n",
       "      <td>15.0</td>\n",
       "      <td>500</td>\n",
       "    </tr>\n",
       "    <tr>\n",
       "      <th>7</th>\n",
       "      <td>20230223</td>\n",
       "      <td>B</td>\n",
       "      <td>15.0</td>\n",
       "      <td>600</td>\n",
       "    </tr>\n",
       "    <tr>\n",
       "      <th>8</th>\n",
       "      <td>20230312</td>\n",
       "      <td>A</td>\n",
       "      <td>20.0</td>\n",
       "      <td>600</td>\n",
       "    </tr>\n",
       "    <tr>\n",
       "      <th>9</th>\n",
       "      <td>20230422</td>\n",
       "      <td>B</td>\n",
       "      <td>NaN</td>\n",
       "      <td>700</td>\n",
       "    </tr>\n",
       "    <tr>\n",
       "      <th>10</th>\n",
       "      <td>20220505</td>\n",
       "      <td>A</td>\n",
       "      <td>30.0</td>\n",
       "      <td>600</td>\n",
       "    </tr>\n",
       "    <tr>\n",
       "      <th>11</th>\n",
       "      <td>20230511</td>\n",
       "      <td>A</td>\n",
       "      <td>40.0</td>\n",
       "      <td>600</td>\n",
       "    </tr>\n",
       "  </tbody>\n",
       "</table>\n",
       "</div>"
      ],
      "text/plain": [
       "          날짜    제품   판매수  개당수익\n",
       "0   20220103     A   3.0   300\n",
       "1   20220105     B   NaN   400\n",
       "2       None  None   5.0   500\n",
       "3   20230127     B  10.0   600\n",
       "4   20220203     A  10.0   400\n",
       "5   20220205  None  10.0   500\n",
       "6   20230210     A  15.0   500\n",
       "7   20230223     B  15.0   600\n",
       "8   20230312     A  20.0   600\n",
       "9   20230422     B   NaN   700\n",
       "10  20220505     A  30.0   600\n",
       "11  20230511     A  40.0   600"
      ]
     },
     "execution_count": 216,
     "metadata": {},
     "output_type": "execute_result"
    }
   ],
   "source": [
    "# 문제 15\n",
    "# 판매수 컬럼의 결측치를 최소값으로 대체하고\n",
    "# 결측치가 있을 때와 최소값으로 대체했을 때 평균값의 차이를 절대값으로 정수로 출력하시오.\n",
    "\n",
    "# 데이터 생성\n",
    "df = pd.DataFrame({\n",
    "    '날짜' : ['20220103', '20220105', None, '20230127', '20220203', '20220205', '20230210', '20230223', '20230312', '20230422', '20220505', '20230511'],\n",
    "    '제품' : ['A', 'B', None, 'B', 'A', None,'A', 'B', 'A', 'B', 'A', 'A'],\n",
    "    '판매수': [3, None, 5, 10, 10, 10, 15, 15, 20, None, 30, 40],\n",
    "    '개당수익': [300, 400, 500, 600, 400, 500, 500, 600, 600, 700, 600, 600] })\n",
    "df"
   ]
  },
  {
   "cell_type": "code",
   "execution_count": 217,
   "id": "f6598847",
   "metadata": {},
   "outputs": [
    {
     "name": "stdout",
     "output_type": "stream",
     "text": [
      "2\n"
     ]
    }
   ],
   "source": [
    "# (풀이)\n",
    "# 데이터 복사\n",
    "df2 = df.copy()\n",
    "# 최소값으로 결측치 대체\n",
    "min_ea = df['판매수'].min()\n",
    "df2['판매수'] = df2['판매수'].fillna(min_ea)\n",
    "\n",
    "# 중간 확인\n",
    "# print(df2['판매수'])\n",
    "\n",
    "# 결측치가 있을 때, 대체했을 때 평균\n",
    "with_m = df['판매수'].mean()\n",
    "without_m = df2['판매수'].mean()\n",
    "print(round(abs(without_m - with_m)))"
   ]
  },
  {
   "cell_type": "code",
   "execution_count": 218,
   "id": "30040087",
   "metadata": {},
   "outputs": [],
   "source": [
    "# 문제 16\n",
    "# vs변수가 0이 아닌 차량 중에 mpg 값이 가장 큰 차량의 hp 값을 출력하시오.\n",
    "df = pd.read_csv(\"mtcars.csv\")"
   ]
  },
  {
   "cell_type": "code",
   "execution_count": 219,
   "id": "d843cddc",
   "metadata": {},
   "outputs": [
    {
     "name": "stdout",
     "output_type": "stream",
     "text": [
      "65\n"
     ]
    }
   ],
   "source": [
    "# (풀이)\n",
    "# vs변수가 0이 아닌 차량\n",
    "df = df[df['vs'] != 0]\n",
    "\n",
    "# 중간 확인\n",
    "# print(df)\n",
    "\n",
    "# mpg 값이 가장 큰 차량 (내림차순)\n",
    "df = df.sort_values('mpg', ascending = False)\n",
    "# print(df)\n",
    "\n",
    "# 답 구하기\n",
    "print(df['hp'].iloc[0]) # print(df['hp'].loc[19]) loc는 해당 인덱스!"
   ]
  },
  {
   "cell_type": "code",
   "execution_count": 220,
   "id": "8b947114",
   "metadata": {},
   "outputs": [],
   "source": [
    "# 문제 17\n",
    "# gear 변수값이 3, 4인 두 그룹의 hp 표준편차값의 차이를 절대값으로\n",
    "# 반올림하여 소수점 첫째자리까지 출력하시오.\n",
    "df = pd.read_csv(\"mtcars.csv\")"
   ]
  },
  {
   "cell_type": "code",
   "execution_count": 221,
   "id": "be38870a",
   "metadata": {},
   "outputs": [
    {
     "name": "stdout",
     "output_type": "stream",
     "text": [
      "21.8\n"
     ]
    }
   ],
   "source": [
    "# (풀이)\n",
    "# 2개 그룹으로 필터링\n",
    "gear3 = df[df['gear'] == 3]\n",
    "gear4 = df[df['gear'] == 4]\n",
    "\n",
    "# 표준편차 구하기\n",
    "std3 = gear3['hp'].std()\n",
    "std4 = gear4['hp'].std()\n",
    "print(round(abs(std3 - std4), 1))"
   ]
  },
  {
   "cell_type": "code",
   "execution_count": 222,
   "id": "1a579dd1",
   "metadata": {},
   "outputs": [],
   "source": [
    "# 문제 18\n",
    "# gear 변수의 값별로 그룹화하여 mpg 평균값을 산출하고\n",
    "# 평균값이 높은 그룹의 mpg 제 3사분위수 값을 구하시오.\n",
    "df = pd.read_csv(\"mtcars.csv\")"
   ]
  },
  {
   "cell_type": "code",
   "execution_count": 223,
   "id": "8791ee9d",
   "metadata": {},
   "outputs": [
    {
     "name": "stdout",
     "output_type": "stream",
     "text": [
      "28.075\n"
     ]
    }
   ],
   "source": [
    "# (풀이)\n",
    "# gear, mpg 변수만 필터링\n",
    "df = df.loc[:, ['gear', 'mpg']]\n",
    "\n",
    "# gear 변수로 그룹화하여 mpg 평균값 보기\n",
    "# print(df.groupby('gear').mean()) # gear4 그룹이 제일 높음\n",
    "\n",
    "# gear=4인 그룹의 mpg Q3 구하기\n",
    "gear4 = df[df['gear'] == 4]\n",
    "print(gear4['mpg'].quantile(0.75))"
   ]
  },
  {
   "cell_type": "code",
   "execution_count": 224,
   "id": "9f57be25",
   "metadata": {},
   "outputs": [],
   "source": [
    "# 문제 19\n",
    "# hp 항목의 상위 7번째 값으로 상위 7개 값을 변환한 후,\n",
    "# hp가 150 이상인 데이터를 추출하여 hp의 평균값을 반올림하여 정수로 출력하시오.\n",
    "df = pd.read_csv(\"mtcars.csv\")"
   ]
  },
  {
   "cell_type": "code",
   "execution_count": 225,
   "id": "a570ca57",
   "metadata": {},
   "outputs": [
    {
     "name": "stdout",
     "output_type": "stream",
     "text": [
      "187\n"
     ]
    }
   ],
   "source": [
    "# (풀이)\n",
    "# hp 열 기준으로 내림차순 정렬\n",
    "df = df.sort_values('hp', ascending = False)\n",
    "\n",
    "# 인덱스 초기화 # 정렬하면 해당 인덱스가 그대로 따라오므로\n",
    "df = df.reset_index(drop = True) # drop = True : 기존 인덱스 삭제\n",
    "# print(df)\n",
    "\n",
    "# hp 상위 7번째 값 확인\n",
    "top7 = df['hp'].loc[6] # top7 = 205\n",
    "\n",
    "# np.where 활용\n",
    "import numpy as np\n",
    "df['hp'] = np.where(df['hp'] >= 205, top7, df['hp'])\n",
    "# np.where(조건, 참일 때 값, 거짓일 때 값)\n",
    "# print(df)\n",
    "\n",
    "# hp 150 이상인 데이터\n",
    "cond1 = (df['hp'] >= 150)\n",
    "df = df[cond1]\n",
    "print(round(df['hp'].mean()))"
   ]
  },
  {
   "cell_type": "code",
   "execution_count": 226,
   "id": "d165c4b7",
   "metadata": {},
   "outputs": [],
   "source": [
    "# 문제 20\n",
    "# car 변수에 Merc 문구가 포함된 자동차의 mpg 평균값을 정수로 출력하시오.\n",
    "df = pd.read_csv(\"mtcars.csv\")"
   ]
  },
  {
   "cell_type": "code",
   "execution_count": 227,
   "id": "73774221",
   "metadata": {},
   "outputs": [
    {
     "name": "stdout",
     "output_type": "stream",
     "text": [
      "19\n"
     ]
    }
   ],
   "source": [
    "# (풀이)\n",
    "df2 = df[df['car'].str.contains(\"Merc\")] # 문자열 추출 알아두기\n",
    "print(round(df2['mpg'].mean()))\n",
    "\n",
    "# 시험환경에서 답 구하는 방법 (reset_index() 사용 후)\n",
    "# df = df.reset_index()\n",
    "# df2 = df[df['Unnamed: 0'].str.contains(\"Merc\")] # 문자열 추출 알아두기\n",
    "# print(round(df2['mpg'].mean()))"
   ]
  },
  {
   "cell_type": "markdown",
   "id": "0db8bdfa",
   "metadata": {},
   "source": [
    "# ✅ 핵심문제 27개 (21~27)"
   ]
  },
  {
   "cell_type": "code",
   "execution_count": 228,
   "id": "1b2a3a1f",
   "metadata": {},
   "outputs": [
    {
     "data": {
      "text/html": [
       "<div>\n",
       "<style scoped>\n",
       "    .dataframe tbody tr th:only-of-type {\n",
       "        vertical-align: middle;\n",
       "    }\n",
       "\n",
       "    .dataframe tbody tr th {\n",
       "        vertical-align: top;\n",
       "    }\n",
       "\n",
       "    .dataframe thead th {\n",
       "        text-align: right;\n",
       "    }\n",
       "</style>\n",
       "<table border=\"1\" class=\"dataframe\">\n",
       "  <thead>\n",
       "    <tr style=\"text-align: right;\">\n",
       "      <th></th>\n",
       "      <th>날짜</th>\n",
       "      <th>제품</th>\n",
       "      <th>판매수</th>\n",
       "      <th>개당수익</th>\n",
       "    </tr>\n",
       "  </thead>\n",
       "  <tbody>\n",
       "    <tr>\n",
       "      <th>0</th>\n",
       "      <td>20220103</td>\n",
       "      <td>A</td>\n",
       "      <td>3</td>\n",
       "      <td>300</td>\n",
       "    </tr>\n",
       "    <tr>\n",
       "      <th>1</th>\n",
       "      <td>20220105</td>\n",
       "      <td>B</td>\n",
       "      <td>5</td>\n",
       "      <td>400</td>\n",
       "    </tr>\n",
       "    <tr>\n",
       "      <th>2</th>\n",
       "      <td>20230105</td>\n",
       "      <td>A</td>\n",
       "      <td>5</td>\n",
       "      <td>500</td>\n",
       "    </tr>\n",
       "    <tr>\n",
       "      <th>3</th>\n",
       "      <td>20230127</td>\n",
       "      <td>B</td>\n",
       "      <td>10</td>\n",
       "      <td>600</td>\n",
       "    </tr>\n",
       "    <tr>\n",
       "      <th>4</th>\n",
       "      <td>20220203</td>\n",
       "      <td>A</td>\n",
       "      <td>10</td>\n",
       "      <td>400</td>\n",
       "    </tr>\n",
       "    <tr>\n",
       "      <th>5</th>\n",
       "      <td>20220205</td>\n",
       "      <td>B</td>\n",
       "      <td>10</td>\n",
       "      <td>500</td>\n",
       "    </tr>\n",
       "    <tr>\n",
       "      <th>6</th>\n",
       "      <td>20230210</td>\n",
       "      <td>A</td>\n",
       "      <td>15</td>\n",
       "      <td>500</td>\n",
       "    </tr>\n",
       "    <tr>\n",
       "      <th>7</th>\n",
       "      <td>20230223</td>\n",
       "      <td>B</td>\n",
       "      <td>15</td>\n",
       "      <td>600</td>\n",
       "    </tr>\n",
       "    <tr>\n",
       "      <th>8</th>\n",
       "      <td>20230312</td>\n",
       "      <td>A</td>\n",
       "      <td>20</td>\n",
       "      <td>600</td>\n",
       "    </tr>\n",
       "    <tr>\n",
       "      <th>9</th>\n",
       "      <td>20230422</td>\n",
       "      <td>B</td>\n",
       "      <td>25</td>\n",
       "      <td>700</td>\n",
       "    </tr>\n",
       "    <tr>\n",
       "      <th>10</th>\n",
       "      <td>20220505</td>\n",
       "      <td>A</td>\n",
       "      <td>30</td>\n",
       "      <td>600</td>\n",
       "    </tr>\n",
       "    <tr>\n",
       "      <th>11</th>\n",
       "      <td>20230511</td>\n",
       "      <td>A</td>\n",
       "      <td>40</td>\n",
       "      <td>600</td>\n",
       "    </tr>\n",
       "  </tbody>\n",
       "</table>\n",
       "</div>"
      ],
      "text/plain": [
       "          날짜 제품  판매수  개당수익\n",
       "0   20220103  A    3   300\n",
       "1   20220105  B    5   400\n",
       "2   20230105  A    5   500\n",
       "3   20230127  B   10   600\n",
       "4   20220203  A   10   400\n",
       "5   20220205  B   10   500\n",
       "6   20230210  A   15   500\n",
       "7   20230223  B   15   600\n",
       "8   20230312  A   20   600\n",
       "9   20230422  B   25   700\n",
       "10  20220505  A   30   600\n",
       "11  20230511  A   40   600"
      ]
     },
     "execution_count": 228,
     "metadata": {},
     "output_type": "execute_result"
    }
   ],
   "source": [
    "# 문제 21\n",
    "# '22년 1분기 매출액을 구하시오.\n",
    "# (매출액 = 판매수 * 개당수익)\n",
    "\n",
    "# 데이터 생성\n",
    "df = pd.DataFrame({\n",
    "    '날짜' : ['20220103', '20220105', '20230105', '20230127', '20220203', '20220205', '20230210', '20230223', '20230312', '20230422', '20220505', '20230511'],\n",
    "    '제품' : ['A', 'B', 'A', 'B', 'A', 'B','A', 'B', 'A', 'B', 'A', 'A'],\n",
    "    '판매수': [3, 5, 5, 10, 10, 10, 15, 15, 20, 25, 30, 40],\n",
    "    '개당수익': [300, 400, 500, 600, 400, 500, 500, 600, 600, 700, 600, 600] })\n",
    "df"
   ]
  },
  {
   "cell_type": "code",
   "execution_count": 229,
   "id": "6144ee39",
   "metadata": {},
   "outputs": [
    {
     "name": "stdout",
     "output_type": "stream",
     "text": [
      "11900\n"
     ]
    }
   ],
   "source": [
    "# (풀이1)\n",
    "# 데이터 타입 datetime 으로 변경\n",
    "df['날짜'] = pd.to_datetime(df['날짜'])\n",
    "\n",
    "# 년, 월, 일 변수(열) 추가\n",
    "df['year'] = df['날짜'].dt.year\n",
    "df['month'] = df['날짜'].dt.month\n",
    "df['day'] = df['날짜'].dt.day\n",
    "\n",
    "# 매출액 변수 추가\n",
    "df['매출액'] = df['판매수'] * df['개당수익']\n",
    "# df.info()\n",
    "\n",
    "# 22년으로 필터링\n",
    "df = df[df['year'] == 2022]\n",
    "# print(df.head())\n",
    "\n",
    "# 1, 2, 3월 매출액 계산\n",
    "m1 = df[df['month'] == 1]['매출액'].sum()\n",
    "m2 = df[df['month'] == 2]['매출액'].sum()\n",
    "m3 = df[df['month'] == 3]['매출액'].sum()\n",
    "print(m1 + m2 + m3)"
   ]
  },
  {
   "cell_type": "code",
   "execution_count": 230,
   "id": "2323e484",
   "metadata": {},
   "outputs": [
    {
     "name": "stdout",
     "output_type": "stream",
     "text": [
      "11900\n"
     ]
    }
   ],
   "source": [
    "# (풀이2)\n",
    "# 데이터 생성\n",
    "df = pd.DataFrame({\n",
    "    '날짜' : ['20220103', '20220105', '20230105', '20230127', '20220203', '20220205', '20230210', '20230223', '20230312', '20230422', '20220505', '20230511'],\n",
    "    '제품' : ['A', 'B', 'A', 'B', 'A', 'B','A', 'B', 'A', 'B', 'A', 'A'],\n",
    "    '판매수': [3, 5, 5, 10, 10, 10, 15, 15, 20, 25, 30, 40],\n",
    "    '개당수익': [300, 400, 500, 600, 400, 500, 500, 600, 600, 700, 600, 600] })\n",
    "df\n",
    "\n",
    "# 데이터 타입 datetime 으로 변경\n",
    "df['날짜'] = pd.to_datetime(df['날짜'])\n",
    "\n",
    "# 매출액 변수 추가\n",
    "df['매출액'] = df['판매수'] * df['개당수익']\n",
    "\n",
    "# 날짜 자체를 필터링 : df['변수'].between( , )\n",
    "df_after = df[df['날짜'].between('2022-01-01', '2022-03-31')] # 좌우 모두 포함\n",
    "# (주의) 날짜와 시간이 같이 있는 데이터에 between 함수를 사용할 경우, 동일한 형식으로 사용\n",
    "# ex : 2023-01-05 12:30:05 => between('2023-01-05 12:00:00', '2023-01-05 12:40:00') OK\n",
    "#                          => between('2023-01-05', '2023-01-05') NG\n",
    "\n",
    "print(df_after['매출액'].sum())"
   ]
  },
  {
   "cell_type": "code",
   "execution_count": 231,
   "id": "aee188f7",
   "metadata": {},
   "outputs": [
    {
     "name": "stdout",
     "output_type": "stream",
     "text": [
      "11900\n"
     ]
    }
   ],
   "source": [
    "# (풀이3)\n",
    "# 데이터 생성\n",
    "df = pd.DataFrame({\n",
    "    '날짜' : ['20220103', '20220105', '20230105', '20230127', '20220203', '20220205', '20230210', '20230223', '20230312', '20230422', '20220505', '20230511'],\n",
    "    '제품' : ['A', 'B', 'A', 'B', 'A', 'B','A', 'B', 'A', 'B', 'A', 'A'],\n",
    "    '판매수': [3, 5, 5, 10, 10, 10, 15, 15, 20, 25, 30, 40],\n",
    "    '개당수익': [300, 400, 500, 600, 400, 500, 500, 600, 600, 700, 600, 600] })\n",
    "df\n",
    "\n",
    "# 데이터 타입 datetime 으로 변경\n",
    "df['날짜'] = pd.to_datetime(df['날짜'])\n",
    "\n",
    "# 매출액 변수 추가\n",
    "df['매출액'] = df['판매수'] * df['개당수익']\n",
    "\n",
    "# 날짜를 인덱스로 설정 후 loc 함수 사용\n",
    "df = df.set_index('날짜')\n",
    "df_after = df.loc[(df.index <= '2022-03-31') & (df.index >= '2022-01-01')]\n",
    "# print(df_after)\n",
    "print(df_after['매출액'].sum())"
   ]
  },
  {
   "cell_type": "code",
   "execution_count": 232,
   "id": "664f8695",
   "metadata": {},
   "outputs": [
    {
     "data": {
      "text/html": [
       "<div>\n",
       "<style scoped>\n",
       "    .dataframe tbody tr th:only-of-type {\n",
       "        vertical-align: middle;\n",
       "    }\n",
       "\n",
       "    .dataframe tbody tr th {\n",
       "        vertical-align: top;\n",
       "    }\n",
       "\n",
       "    .dataframe thead th {\n",
       "        text-align: right;\n",
       "    }\n",
       "</style>\n",
       "<table border=\"1\" class=\"dataframe\">\n",
       "  <thead>\n",
       "    <tr style=\"text-align: right;\">\n",
       "      <th></th>\n",
       "      <th>날짜</th>\n",
       "      <th>제품</th>\n",
       "      <th>판매수</th>\n",
       "      <th>개당수익</th>\n",
       "    </tr>\n",
       "  </thead>\n",
       "  <tbody>\n",
       "    <tr>\n",
       "      <th>0</th>\n",
       "      <td>20220103</td>\n",
       "      <td>A</td>\n",
       "      <td>3</td>\n",
       "      <td>300</td>\n",
       "    </tr>\n",
       "    <tr>\n",
       "      <th>1</th>\n",
       "      <td>20220105</td>\n",
       "      <td>B</td>\n",
       "      <td>5</td>\n",
       "      <td>400</td>\n",
       "    </tr>\n",
       "    <tr>\n",
       "      <th>2</th>\n",
       "      <td>20230105</td>\n",
       "      <td>A</td>\n",
       "      <td>5</td>\n",
       "      <td>500</td>\n",
       "    </tr>\n",
       "    <tr>\n",
       "      <th>3</th>\n",
       "      <td>20230127</td>\n",
       "      <td>B</td>\n",
       "      <td>10</td>\n",
       "      <td>600</td>\n",
       "    </tr>\n",
       "    <tr>\n",
       "      <th>4</th>\n",
       "      <td>20220203</td>\n",
       "      <td>A</td>\n",
       "      <td>10</td>\n",
       "      <td>400</td>\n",
       "    </tr>\n",
       "    <tr>\n",
       "      <th>5</th>\n",
       "      <td>20220205</td>\n",
       "      <td>B</td>\n",
       "      <td>10</td>\n",
       "      <td>500</td>\n",
       "    </tr>\n",
       "    <tr>\n",
       "      <th>6</th>\n",
       "      <td>20230210</td>\n",
       "      <td>A</td>\n",
       "      <td>15</td>\n",
       "      <td>500</td>\n",
       "    </tr>\n",
       "    <tr>\n",
       "      <th>7</th>\n",
       "      <td>20230223</td>\n",
       "      <td>B</td>\n",
       "      <td>15</td>\n",
       "      <td>600</td>\n",
       "    </tr>\n",
       "    <tr>\n",
       "      <th>8</th>\n",
       "      <td>20230312</td>\n",
       "      <td>A</td>\n",
       "      <td>20</td>\n",
       "      <td>600</td>\n",
       "    </tr>\n",
       "    <tr>\n",
       "      <th>9</th>\n",
       "      <td>20230422</td>\n",
       "      <td>B</td>\n",
       "      <td>25</td>\n",
       "      <td>700</td>\n",
       "    </tr>\n",
       "    <tr>\n",
       "      <th>10</th>\n",
       "      <td>20220505</td>\n",
       "      <td>A</td>\n",
       "      <td>30</td>\n",
       "      <td>600</td>\n",
       "    </tr>\n",
       "    <tr>\n",
       "      <th>11</th>\n",
       "      <td>20230511</td>\n",
       "      <td>A</td>\n",
       "      <td>40</td>\n",
       "      <td>600</td>\n",
       "    </tr>\n",
       "  </tbody>\n",
       "</table>\n",
       "</div>"
      ],
      "text/plain": [
       "          날짜 제품  판매수  개당수익\n",
       "0   20220103  A    3   300\n",
       "1   20220105  B    5   400\n",
       "2   20230105  A    5   500\n",
       "3   20230127  B   10   600\n",
       "4   20220203  A   10   400\n",
       "5   20220205  B   10   500\n",
       "6   20230210  A   15   500\n",
       "7   20230223  B   15   600\n",
       "8   20230312  A   20   600\n",
       "9   20230422  B   25   700\n",
       "10  20220505  A   30   600\n",
       "11  20230511  A   40   600"
      ]
     },
     "execution_count": 232,
     "metadata": {},
     "output_type": "execute_result"
    }
   ],
   "source": [
    "# 문제 22\n",
    "# '22년과 '23년의 총 매출액 차이를 절대값으로 구하시오.\n",
    "# (매출액 = 판매수 * 개당수익)\n",
    "\n",
    "# 데이터 생성\n",
    "df = pd.DataFrame({\n",
    "    '날짜' : ['20220103', '20220105', '20230105', '20230127', '20220203', '20220205', '20230210', '20230223', '20230312', '20230422', '20220505', '20230511'],\n",
    "    '제품' : ['A', 'B', 'A', 'B', 'A', 'B','A', 'B', 'A', 'B', 'A', 'A'],\n",
    "    '판매수': [3, 5, 5, 10, 10, 10, 15, 15, 20, 25, 30, 40],\n",
    "    '개당수익': [300, 400, 500, 600, 400, 500, 500, 600, 600, 700, 600, 600] })\n",
    "df"
   ]
  },
  {
   "cell_type": "code",
   "execution_count": 233,
   "id": "7828f51a",
   "metadata": {},
   "outputs": [
    {
     "name": "stdout",
     "output_type": "stream",
     "text": [
      "48600\n"
     ]
    }
   ],
   "source": [
    "# (풀이)\n",
    "# 데이터 타입 datetime 으로 변경\n",
    "df['날짜'] = pd.to_datetime(df['날짜'])\n",
    "\n",
    "# 년 변수(열) 추가\n",
    "df['year'] = df['날짜'].dt.year\n",
    "\n",
    "# 매출액 변수 추가\n",
    "df['매출액'] = df['판매수'] * df['개당수익']\n",
    "# print(df)\n",
    "\n",
    "# 22년 매출액 구하기\n",
    "df22 = df[df['year'] == 2022]\n",
    "df22_sum = df22['매출액'].sum()\n",
    "\n",
    "# 23년 매출액 구하기\n",
    "df23 = df[df['year'] == 2023]\n",
    "df23_sum = df23['매출액'].sum()\n",
    "\n",
    "print(abs(df22_sum - df23_sum))"
   ]
  },
  {
   "cell_type": "code",
   "execution_count": 234,
   "id": "1d5627b4",
   "metadata": {},
   "outputs": [
    {
     "data": {
      "text/html": [
       "<div>\n",
       "<style scoped>\n",
       "    .dataframe tbody tr th:only-of-type {\n",
       "        vertical-align: middle;\n",
       "    }\n",
       "\n",
       "    .dataframe tbody tr th {\n",
       "        vertical-align: top;\n",
       "    }\n",
       "\n",
       "    .dataframe thead th {\n",
       "        text-align: right;\n",
       "    }\n",
       "</style>\n",
       "<table border=\"1\" class=\"dataframe\">\n",
       "  <thead>\n",
       "    <tr style=\"text-align: right;\">\n",
       "      <th></th>\n",
       "      <th>날짜</th>\n",
       "      <th>제품</th>\n",
       "      <th>판매수</th>\n",
       "      <th>개당수익</th>\n",
       "    </tr>\n",
       "  </thead>\n",
       "  <tbody>\n",
       "    <tr>\n",
       "      <th>0</th>\n",
       "      <td>20220103</td>\n",
       "      <td>A</td>\n",
       "      <td>3</td>\n",
       "      <td>300</td>\n",
       "    </tr>\n",
       "    <tr>\n",
       "      <th>1</th>\n",
       "      <td>20220105</td>\n",
       "      <td>B</td>\n",
       "      <td>5</td>\n",
       "      <td>400</td>\n",
       "    </tr>\n",
       "    <tr>\n",
       "      <th>2</th>\n",
       "      <td>20230105</td>\n",
       "      <td>A</td>\n",
       "      <td>5</td>\n",
       "      <td>500</td>\n",
       "    </tr>\n",
       "    <tr>\n",
       "      <th>3</th>\n",
       "      <td>20230127</td>\n",
       "      <td>B</td>\n",
       "      <td>10</td>\n",
       "      <td>600</td>\n",
       "    </tr>\n",
       "    <tr>\n",
       "      <th>4</th>\n",
       "      <td>20220203</td>\n",
       "      <td>A</td>\n",
       "      <td>10</td>\n",
       "      <td>400</td>\n",
       "    </tr>\n",
       "    <tr>\n",
       "      <th>5</th>\n",
       "      <td>20220205</td>\n",
       "      <td>B</td>\n",
       "      <td>10</td>\n",
       "      <td>500</td>\n",
       "    </tr>\n",
       "    <tr>\n",
       "      <th>6</th>\n",
       "      <td>20230210</td>\n",
       "      <td>A</td>\n",
       "      <td>15</td>\n",
       "      <td>500</td>\n",
       "    </tr>\n",
       "    <tr>\n",
       "      <th>7</th>\n",
       "      <td>20230223</td>\n",
       "      <td>B</td>\n",
       "      <td>15</td>\n",
       "      <td>600</td>\n",
       "    </tr>\n",
       "    <tr>\n",
       "      <th>8</th>\n",
       "      <td>20230312</td>\n",
       "      <td>A</td>\n",
       "      <td>20</td>\n",
       "      <td>600</td>\n",
       "    </tr>\n",
       "    <tr>\n",
       "      <th>9</th>\n",
       "      <td>20230422</td>\n",
       "      <td>B</td>\n",
       "      <td>25</td>\n",
       "      <td>700</td>\n",
       "    </tr>\n",
       "    <tr>\n",
       "      <th>10</th>\n",
       "      <td>20220505</td>\n",
       "      <td>A</td>\n",
       "      <td>30</td>\n",
       "      <td>600</td>\n",
       "    </tr>\n",
       "    <tr>\n",
       "      <th>11</th>\n",
       "      <td>20230511</td>\n",
       "      <td>A</td>\n",
       "      <td>40</td>\n",
       "      <td>600</td>\n",
       "    </tr>\n",
       "  </tbody>\n",
       "</table>\n",
       "</div>"
      ],
      "text/plain": [
       "          날짜 제품  판매수  개당수익\n",
       "0   20220103  A    3   300\n",
       "1   20220105  B    5   400\n",
       "2   20230105  A    5   500\n",
       "3   20230127  B   10   600\n",
       "4   20220203  A   10   400\n",
       "5   20220205  B   10   500\n",
       "6   20230210  A   15   500\n",
       "7   20230223  B   15   600\n",
       "8   20230312  A   20   600\n",
       "9   20230422  B   25   700\n",
       "10  20220505  A   30   600\n",
       "11  20230511  A   40   600"
      ]
     },
     "execution_count": 234,
     "metadata": {},
     "output_type": "execute_result"
    }
   ],
   "source": [
    "# 문제 23\n",
    "# '23년 총 매출액이 큰 제품의 23년 판매 수를 구하시오.\n",
    "# (매출액 = 판매수 * 개당수익)\n",
    "\n",
    "# 데이터 생성\n",
    "df = pd.DataFrame({\n",
    "    '날짜' : ['20220103', '20220105', '20230105', '20230127', '20220203', '20220205', '20230210', '20230223', '20230312', '20230422', '20220505', '20230511'],\n",
    "    '제품' : ['A', 'B', 'A', 'B', 'A', 'B','A', 'B', 'A', 'B', 'A', 'A'],\n",
    "    '판매수': [3, 5, 5, 10, 10, 10, 15, 15, 20, 25, 30, 40],\n",
    "    '개당수익': [300, 400, 500, 600, 400, 500, 500, 600, 600, 700, 600, 600] })\n",
    "df"
   ]
  },
  {
   "cell_type": "code",
   "execution_count": 235,
   "id": "3577fec9",
   "metadata": {},
   "outputs": [
    {
     "name": "stdout",
     "output_type": "stream",
     "text": [
      "80\n"
     ]
    }
   ],
   "source": [
    "# (풀이)\n",
    "# 데이터 타입 datetime 으로 변경\n",
    "df['날짜'] = pd.to_datetime(df['날짜'])\n",
    "\n",
    "# 년 변수(열) 추가\n",
    "df['year'] = df['날짜'].dt.year\n",
    "\n",
    "# 매출액 변수 추가\n",
    "df['매출액'] = df['판매수'] * df['개당수익']\n",
    "# print(df)\n",
    "\n",
    "# 2023년으로 필터링\n",
    "df = df[df['year'] == 2023]\n",
    "\n",
    "# 23년 A 매출액과 B 매출액 별도로 구하기\n",
    "# A 매출액\n",
    "df_a = df[df['제품'] == 'A']\n",
    "A_sales = df_a['매출액'].sum()\n",
    "# print(A_sales)\n",
    "\n",
    "# B 매출액\n",
    "df_b = df[df['제품'] == 'B']\n",
    "B_sales = df_b['매출액'].sum()\n",
    "# print(B_sales)\n",
    "\n",
    "# A 제품의 23년 판매 수\n",
    "A_sum = df_a['판매수'].sum()\n",
    "print(A_sum)"
   ]
  },
  {
   "cell_type": "code",
   "execution_count": 236,
   "id": "64290191",
   "metadata": {},
   "outputs": [
    {
     "data": {
      "text/html": [
       "<div>\n",
       "<style scoped>\n",
       "    .dataframe tbody tr th:only-of-type {\n",
       "        vertical-align: middle;\n",
       "    }\n",
       "\n",
       "    .dataframe tbody tr th {\n",
       "        vertical-align: top;\n",
       "    }\n",
       "\n",
       "    .dataframe thead th {\n",
       "        text-align: right;\n",
       "    }\n",
       "</style>\n",
       "<table border=\"1\" class=\"dataframe\">\n",
       "  <thead>\n",
       "    <tr style=\"text-align: right;\">\n",
       "      <th></th>\n",
       "      <th>날짜</th>\n",
       "      <th>제품</th>\n",
       "      <th>판매수</th>\n",
       "      <th>개당수익</th>\n",
       "    </tr>\n",
       "  </thead>\n",
       "  <tbody>\n",
       "    <tr>\n",
       "      <th>0</th>\n",
       "      <td>20220103</td>\n",
       "      <td>A</td>\n",
       "      <td>3</td>\n",
       "      <td>300</td>\n",
       "    </tr>\n",
       "    <tr>\n",
       "      <th>1</th>\n",
       "      <td>20220105</td>\n",
       "      <td>B</td>\n",
       "      <td>5</td>\n",
       "      <td>400</td>\n",
       "    </tr>\n",
       "    <tr>\n",
       "      <th>2</th>\n",
       "      <td>20230105</td>\n",
       "      <td>A</td>\n",
       "      <td>5</td>\n",
       "      <td>500</td>\n",
       "    </tr>\n",
       "    <tr>\n",
       "      <th>3</th>\n",
       "      <td>20230127</td>\n",
       "      <td>B</td>\n",
       "      <td>10</td>\n",
       "      <td>600</td>\n",
       "    </tr>\n",
       "    <tr>\n",
       "      <th>4</th>\n",
       "      <td>20220203</td>\n",
       "      <td>A</td>\n",
       "      <td>10</td>\n",
       "      <td>400</td>\n",
       "    </tr>\n",
       "    <tr>\n",
       "      <th>5</th>\n",
       "      <td>20220205</td>\n",
       "      <td>B</td>\n",
       "      <td>10</td>\n",
       "      <td>500</td>\n",
       "    </tr>\n",
       "    <tr>\n",
       "      <th>6</th>\n",
       "      <td>20230210</td>\n",
       "      <td>A</td>\n",
       "      <td>15</td>\n",
       "      <td>500</td>\n",
       "    </tr>\n",
       "    <tr>\n",
       "      <th>7</th>\n",
       "      <td>20230223</td>\n",
       "      <td>B</td>\n",
       "      <td>15</td>\n",
       "      <td>600</td>\n",
       "    </tr>\n",
       "    <tr>\n",
       "      <th>8</th>\n",
       "      <td>20230312</td>\n",
       "      <td>A</td>\n",
       "      <td>20</td>\n",
       "      <td>600</td>\n",
       "    </tr>\n",
       "    <tr>\n",
       "      <th>9</th>\n",
       "      <td>20230422</td>\n",
       "      <td>B</td>\n",
       "      <td>25</td>\n",
       "      <td>700</td>\n",
       "    </tr>\n",
       "    <tr>\n",
       "      <th>10</th>\n",
       "      <td>20220505</td>\n",
       "      <td>A</td>\n",
       "      <td>30</td>\n",
       "      <td>600</td>\n",
       "    </tr>\n",
       "    <tr>\n",
       "      <th>11</th>\n",
       "      <td>20230511</td>\n",
       "      <td>A</td>\n",
       "      <td>40</td>\n",
       "      <td>600</td>\n",
       "    </tr>\n",
       "  </tbody>\n",
       "</table>\n",
       "</div>"
      ],
      "text/plain": [
       "          날짜 제품  판매수  개당수익\n",
       "0   20220103  A    3   300\n",
       "1   20220105  B    5   400\n",
       "2   20230105  A    5   500\n",
       "3   20230127  B   10   600\n",
       "4   20220203  A   10   400\n",
       "5   20220205  B   10   500\n",
       "6   20230210  A   15   500\n",
       "7   20230223  B   15   600\n",
       "8   20230312  A   20   600\n",
       "9   20230422  B   25   700\n",
       "10  20220505  A   30   600\n",
       "11  20230511  A   40   600"
      ]
     },
     "execution_count": 236,
     "metadata": {},
     "output_type": "execute_result"
    }
   ],
   "source": [
    "# 문제 24\n",
    "# 매출액이 4천원 초과, 1만원 미만인 데이터 수를 출력하시오.\n",
    "# (매출액 = 판매수 * 개당수익)\n",
    "\n",
    "# 데이터 생성\n",
    "df = pd.DataFrame({\n",
    "    '날짜' : ['20220103', '20220105', '20230105', '20230127', '20220203', '20220205', '20230210', '20230223', '20230312', '20230422', '20220505', '20230511'],\n",
    "    '제품' : ['A', 'B', 'A', 'B', 'A', 'B','A', 'B', 'A', 'B', 'A', 'A'],\n",
    "    '판매수': [3, 5, 5, 10, 10, 10, 15, 15, 20, 25, 30, 40],\n",
    "    '개당수익': [300, 400, 500, 600, 400, 500, 500, 600, 600, 700, 600, 600] })\n",
    "df"
   ]
  },
  {
   "cell_type": "code",
   "execution_count": 237,
   "id": "2dc8cac6",
   "metadata": {},
   "outputs": [
    {
     "name": "stdout",
     "output_type": "stream",
     "text": [
      "4\n"
     ]
    }
   ],
   "source": [
    "# (풀이)\n",
    "df['매출액'] = df['판매수'] * df['개당수익']\n",
    "cond1 = (df['매출액'] > 4000)\n",
    "cond2 = (df['매출액'] < 10000)\n",
    "df = df[cond1 & cond2]\n",
    "print(len(df))"
   ]
  },
  {
   "cell_type": "code",
   "execution_count": 238,
   "id": "5fef0017",
   "metadata": {},
   "outputs": [
    {
     "data": {
      "text/html": [
       "<div>\n",
       "<style scoped>\n",
       "    .dataframe tbody tr th:only-of-type {\n",
       "        vertical-align: middle;\n",
       "    }\n",
       "\n",
       "    .dataframe tbody tr th {\n",
       "        vertical-align: top;\n",
       "    }\n",
       "\n",
       "    .dataframe thead th {\n",
       "        text-align: right;\n",
       "    }\n",
       "</style>\n",
       "<table border=\"1\" class=\"dataframe\">\n",
       "  <thead>\n",
       "    <tr style=\"text-align: right;\">\n",
       "      <th></th>\n",
       "      <th>time</th>\n",
       "      <th>물품</th>\n",
       "      <th>판매수</th>\n",
       "      <th>개당수익</th>\n",
       "    </tr>\n",
       "  </thead>\n",
       "  <tbody>\n",
       "    <tr>\n",
       "      <th>0</th>\n",
       "      <td>2023-09-24 12:25:00</td>\n",
       "      <td>A</td>\n",
       "      <td>5</td>\n",
       "      <td>500</td>\n",
       "    </tr>\n",
       "    <tr>\n",
       "      <th>1</th>\n",
       "      <td>2023-09-24 16:48:25</td>\n",
       "      <td>B</td>\n",
       "      <td>10</td>\n",
       "      <td>600</td>\n",
       "    </tr>\n",
       "    <tr>\n",
       "      <th>2</th>\n",
       "      <td>2023-09-24 21:11:50</td>\n",
       "      <td>A</td>\n",
       "      <td>15</td>\n",
       "      <td>500</td>\n",
       "    </tr>\n",
       "    <tr>\n",
       "      <th>3</th>\n",
       "      <td>2023-09-25 01:35:15</td>\n",
       "      <td>B</td>\n",
       "      <td>15</td>\n",
       "      <td>600</td>\n",
       "    </tr>\n",
       "    <tr>\n",
       "      <th>4</th>\n",
       "      <td>2023-09-25 05:58:40</td>\n",
       "      <td>A</td>\n",
       "      <td>20</td>\n",
       "      <td>600</td>\n",
       "    </tr>\n",
       "    <tr>\n",
       "      <th>5</th>\n",
       "      <td>2023-09-25 10:22:05</td>\n",
       "      <td>B</td>\n",
       "      <td>25</td>\n",
       "      <td>700</td>\n",
       "    </tr>\n",
       "    <tr>\n",
       "      <th>6</th>\n",
       "      <td>2023-09-25 14:45:30</td>\n",
       "      <td>A</td>\n",
       "      <td>40</td>\n",
       "      <td>600</td>\n",
       "    </tr>\n",
       "  </tbody>\n",
       "</table>\n",
       "</div>"
      ],
      "text/plain": [
       "                 time 물품  판매수  개당수익\n",
       "0 2023-09-24 12:25:00  A    5   500\n",
       "1 2023-09-24 16:48:25  B   10   600\n",
       "2 2023-09-24 21:11:50  A   15   500\n",
       "3 2023-09-25 01:35:15  B   15   600\n",
       "4 2023-09-25 05:58:40  A   20   600\n",
       "5 2023-09-25 10:22:05  B   25   700\n",
       "6 2023-09-25 14:45:30  A   40   600"
      ]
     },
     "execution_count": 238,
     "metadata": {},
     "output_type": "execute_result"
    }
   ],
   "source": [
    "# 문제 25\n",
    "# 23년 9월 24일 16:00~22:00 사이에 전체 제품의 판매 수를 구하시오.\n",
    "\n",
    "# 시간 데이터 만들기\n",
    "df = pd.DataFrame({\n",
    "    '물품' : ['A', 'B', 'A', 'B', 'A', 'B','A'],\n",
    "    '판매수': [5, 10, 15, 15, 20, 25, 40],\n",
    "    '개당수익': [500, 600, 500, 600, 600, 700, 600] })\n",
    "time = pd.date_range('2023-09-24 12:25:00', '2023-09-25 14:45:30', periods = 7)\n",
    "df['time'] = time\n",
    "df = df[['time', '물품', '판매수', '개당수익']]\n",
    "df"
   ]
  },
  {
   "cell_type": "code",
   "execution_count": 239,
   "id": "d570ece2",
   "metadata": {},
   "outputs": [
    {
     "name": "stdout",
     "output_type": "stream",
     "text": [
      "25\n"
     ]
    }
   ],
   "source": [
    "# (풀이1)\n",
    "# 컬럼과 인덱스에 둘 다 time 변수를 놓고 풀이\n",
    "# 데이터 타입 datetime 으로 변경 (항상 df.info()로 데이터 타입 확인할 것)\n",
    "df['time'] = pd.to_datetime(df['time'])\n",
    "\n",
    "# index 새로 지정\n",
    "df = df.set_index('time', drop = False) # 디폴트는 drop = True\n",
    "# print(df.head())\n",
    "\n",
    "# 9월 24일 필터링 // df['변수'].between( , )\n",
    "df_after = df[df['time'].between('2023-09-24 00:00:00', '2023-09-24 23:59:59')]\n",
    "\n",
    "# 시간 필터링 16:00 ~ 22:00 (주의) time이 index에 위치해야 함\n",
    "df = df_after.between_time(start_time = '16:00', end_time = '22:00')\n",
    "\n",
    "# ★날짜와 시간을 한번에 필터링★\n",
    "# df = df[df['time'].between('2023-09-24 16:00:00', '2023-09-24 22:00:00')]\n",
    "\n",
    "# 전체 판매 수 구하기\n",
    "print(df['판매수'].sum())"
   ]
  },
  {
   "cell_type": "code",
   "execution_count": 240,
   "id": "53f9a4c2",
   "metadata": {},
   "outputs": [
    {
     "name": "stdout",
     "output_type": "stream",
     "text": [
      "25\n"
     ]
    }
   ],
   "source": [
    "# (풀이2)\n",
    "# 시간 데이터 만들기\n",
    "df = pd.DataFrame({\n",
    "    '물품' : ['A', 'B', 'A', 'B', 'A', 'B','A'],\n",
    "    '판매수': [5, 10, 15, 15, 20, 25, 40],\n",
    "    '개당수익': [500, 600, 500, 600, 600, 700, 600] })\n",
    "time = pd.date_range('2023-09-24 12:25:00', '2023-09-25 14:45:30', periods = 7)\n",
    "df['time'] = time\n",
    "df = df[['time', '물품', '판매수', '개당수익']]\n",
    "df\n",
    "\n",
    "# 데이터 타입 datetime 으로 변경\n",
    "df['time'] = pd.to_datetime(df['time'])\n",
    "\n",
    "# index 새로 지정\n",
    "df = df.set_index('time')\n",
    "\n",
    "# loc 함수로 필터링 # ★ (1) 데이터 타입이 datetime (2) time이 index로\n",
    "df = df.loc[(df.index >= '2023-09-24 16:00:00') & (df.index <= '2023-09-24 22:00:00')]\n",
    "\n",
    "# 전체 판매 수 구하기\n",
    "print(df['판매수'].sum())"
   ]
  },
  {
   "cell_type": "code",
   "execution_count": 241,
   "id": "ea25d858",
   "metadata": {},
   "outputs": [
    {
     "data": {
      "text/html": [
       "<div>\n",
       "<style scoped>\n",
       "    .dataframe tbody tr th:only-of-type {\n",
       "        vertical-align: middle;\n",
       "    }\n",
       "\n",
       "    .dataframe tbody tr th {\n",
       "        vertical-align: top;\n",
       "    }\n",
       "\n",
       "    .dataframe thead th {\n",
       "        text-align: right;\n",
       "    }\n",
       "</style>\n",
       "<table border=\"1\" class=\"dataframe\">\n",
       "  <thead>\n",
       "    <tr style=\"text-align: right;\">\n",
       "      <th></th>\n",
       "      <th>물품</th>\n",
       "      <th>판매수</th>\n",
       "      <th>개당수익</th>\n",
       "    </tr>\n",
       "    <tr>\n",
       "      <th>time</th>\n",
       "      <th></th>\n",
       "      <th></th>\n",
       "      <th></th>\n",
       "    </tr>\n",
       "  </thead>\n",
       "  <tbody>\n",
       "    <tr>\n",
       "      <th>2023-09-24 12:25:00</th>\n",
       "      <td>A</td>\n",
       "      <td>5</td>\n",
       "      <td>500</td>\n",
       "    </tr>\n",
       "    <tr>\n",
       "      <th>2023-09-24 16:48:25</th>\n",
       "      <td>B</td>\n",
       "      <td>10</td>\n",
       "      <td>600</td>\n",
       "    </tr>\n",
       "    <tr>\n",
       "      <th>2023-09-24 21:11:50</th>\n",
       "      <td>A</td>\n",
       "      <td>15</td>\n",
       "      <td>500</td>\n",
       "    </tr>\n",
       "    <tr>\n",
       "      <th>2023-09-25 01:35:15</th>\n",
       "      <td>B</td>\n",
       "      <td>15</td>\n",
       "      <td>600</td>\n",
       "    </tr>\n",
       "    <tr>\n",
       "      <th>2023-09-25 05:58:40</th>\n",
       "      <td>A</td>\n",
       "      <td>20</td>\n",
       "      <td>600</td>\n",
       "    </tr>\n",
       "    <tr>\n",
       "      <th>2023-09-25 10:22:05</th>\n",
       "      <td>B</td>\n",
       "      <td>25</td>\n",
       "      <td>700</td>\n",
       "    </tr>\n",
       "    <tr>\n",
       "      <th>2023-09-25 14:45:30</th>\n",
       "      <td>A</td>\n",
       "      <td>40</td>\n",
       "      <td>600</td>\n",
       "    </tr>\n",
       "  </tbody>\n",
       "</table>\n",
       "</div>"
      ],
      "text/plain": [
       "                    물품  판매수  개당수익\n",
       "time                             \n",
       "2023-09-24 12:25:00  A    5   500\n",
       "2023-09-24 16:48:25  B   10   600\n",
       "2023-09-24 21:11:50  A   15   500\n",
       "2023-09-25 01:35:15  B   15   600\n",
       "2023-09-25 05:58:40  A   20   600\n",
       "2023-09-25 10:22:05  B   25   700\n",
       "2023-09-25 14:45:30  A   40   600"
      ]
     },
     "execution_count": 241,
     "metadata": {},
     "output_type": "execute_result"
    }
   ],
   "source": [
    "# 문제 26\n",
    "# 9월 25일 00:00~12:00 까지의 B 물품의 매출액 총합을 구하시오.\n",
    "# (매출액 = 판매수 * 개당수익)\n",
    "\n",
    "# 시간 데이터 만들기\n",
    "df = pd.DataFrame({\n",
    "    '물품' : ['A', 'B', 'A', 'B', 'A', 'B','A'],\n",
    "    '판매수': [5, 10, 15, 15, 20, 25, 40],\n",
    "    '개당수익': [500, 600, 500, 600, 600, 700, 600] })\n",
    "time = pd.date_range('2023-09-24 12:25:00', '2023-09-25 14:45:30', periods = 7)\n",
    "df['time'] = time\n",
    "df = df[['time', '물품', '판매수', '개당수익']]\n",
    "df = df.set_index('time', drop = True)\n",
    "df"
   ]
  },
  {
   "cell_type": "code",
   "execution_count": 242,
   "id": "4c202f0d",
   "metadata": {},
   "outputs": [
    {
     "name": "stdout",
     "output_type": "stream",
     "text": [
      "26500\n"
     ]
    }
   ],
   "source": [
    "# (풀이1)\n",
    "# 매출액 변수 추가\n",
    "df['매출액'] = df['판매수'] * df['개당수익']\n",
    "\n",
    "# time 변수 추가, index 초기화 (인덱스를 컬럼으로)**\n",
    "df = df.reset_index() # 디폴트는 drop = False\n",
    "# print(df.head())\n",
    "\n",
    "# 데이터 타입 datetime 으로 변경\n",
    "df['time'] = pd.to_datetime(df['time'])\n",
    "\n",
    "# 9월 25일 00:00:00 ~ 12:00:00 필터링 // df['변수'].between( , )\n",
    "# ★ 날짜와 시간 데이터가 변수로**\n",
    "df = df[df['time'].between('2023-09-25 00:00:00', '2023-09-25 12:00:00')]\n",
    "df\n",
    "\n",
    "# B 물품의 매출액 총합\n",
    "df = df[df['물품'] == 'B']\n",
    "print(df['매출액'].sum())"
   ]
  },
  {
   "cell_type": "code",
   "execution_count": 243,
   "id": "8ce86aea",
   "metadata": {},
   "outputs": [
    {
     "name": "stdout",
     "output_type": "stream",
     "text": [
      "26500\n"
     ]
    }
   ],
   "source": [
    "# (풀이2)\n",
    "# 시간 데이터 만들기\n",
    "df = pd.DataFrame({\n",
    "    '물품' : ['A', 'B', 'A', 'B', 'A', 'B','A'],\n",
    "    '판매수': [5, 10, 15, 15, 20, 25, 40],\n",
    "    '개당수익': [500, 600, 500, 600, 600, 700, 600] })\n",
    "time = pd.date_range('2023-09-24 12:25:00', '2023-09-25 14:45:30', periods = 7)\n",
    "df['time'] = time\n",
    "df = df[['time', '물품', '판매수', '개당수익']]\n",
    "df = df.set_index('time', drop = True)\n",
    "df\n",
    "\n",
    "# 데이터 타입 datetime 으로 변경 (항상 df.info()로 데이터 타입 확인할 것)\n",
    "# df['time'] = pd.to_datetime(df['time']) # ★이미 datetime 타입이므로 할 필요 X\n",
    "\n",
    "# 매출액 변수 추가\n",
    "df['매출액'] = df['판매수'] * df['개당수익']\n",
    "\n",
    "# loc 함수로 필터링 # ★ (1) 데이터 타입이 datetime (2) time이 index로\n",
    "df = df.loc[(df.index >= '2023-09-25 00:00:00') & (df.index <= '2023-09-25 12:00:00')]\n",
    "\n",
    "# (참고)\n",
    "# ★ 날짜와 상관없이 특정 시간대를 필터링 해야 할 때\n",
    "# df.between_time(start_time = '00:00:00', end_time = '00:00:00')\n",
    "# (★주의: time이 index에 위치해야 함)\n",
    "\n",
    "# B 물품의 매출액 총합\n",
    "df = df[df['물품'] == 'B']\n",
    "print(df['매출액'].sum())"
   ]
  },
  {
   "cell_type": "code",
   "execution_count": 244,
   "id": "3cac890e",
   "metadata": {},
   "outputs": [
    {
     "data": {
      "text/html": [
       "<div>\n",
       "<style scoped>\n",
       "    .dataframe tbody tr th:only-of-type {\n",
       "        vertical-align: middle;\n",
       "    }\n",
       "\n",
       "    .dataframe tbody tr th {\n",
       "        vertical-align: top;\n",
       "    }\n",
       "\n",
       "    .dataframe thead th {\n",
       "        text-align: right;\n",
       "    }\n",
       "</style>\n",
       "<table border=\"1\" class=\"dataframe\">\n",
       "  <thead>\n",
       "    <tr style=\"text-align: right;\">\n",
       "      <th></th>\n",
       "      <th>물품</th>\n",
       "      <th>판매수</th>\n",
       "      <th>개당수익</th>\n",
       "    </tr>\n",
       "    <tr>\n",
       "      <th>time</th>\n",
       "      <th></th>\n",
       "      <th></th>\n",
       "      <th></th>\n",
       "    </tr>\n",
       "  </thead>\n",
       "  <tbody>\n",
       "    <tr>\n",
       "      <th>2023-09-24 12:25:00</th>\n",
       "      <td>A</td>\n",
       "      <td>5</td>\n",
       "      <td>500</td>\n",
       "    </tr>\n",
       "    <tr>\n",
       "      <th>2023-09-24 16:48:25</th>\n",
       "      <td>B</td>\n",
       "      <td>10</td>\n",
       "      <td>600</td>\n",
       "    </tr>\n",
       "    <tr>\n",
       "      <th>2023-09-24 21:11:50</th>\n",
       "      <td>A</td>\n",
       "      <td>15</td>\n",
       "      <td>500</td>\n",
       "    </tr>\n",
       "    <tr>\n",
       "      <th>2023-09-25 01:35:15</th>\n",
       "      <td>B</td>\n",
       "      <td>15</td>\n",
       "      <td>600</td>\n",
       "    </tr>\n",
       "    <tr>\n",
       "      <th>2023-09-25 05:58:40</th>\n",
       "      <td>A</td>\n",
       "      <td>20</td>\n",
       "      <td>600</td>\n",
       "    </tr>\n",
       "    <tr>\n",
       "      <th>2023-09-25 10:22:05</th>\n",
       "      <td>B</td>\n",
       "      <td>25</td>\n",
       "      <td>700</td>\n",
       "    </tr>\n",
       "    <tr>\n",
       "      <th>2023-09-25 14:45:30</th>\n",
       "      <td>A</td>\n",
       "      <td>40</td>\n",
       "      <td>600</td>\n",
       "    </tr>\n",
       "  </tbody>\n",
       "</table>\n",
       "</div>"
      ],
      "text/plain": [
       "                    물품  판매수  개당수익\n",
       "time                             \n",
       "2023-09-24 12:25:00  A    5   500\n",
       "2023-09-24 16:48:25  B   10   600\n",
       "2023-09-24 21:11:50  A   15   500\n",
       "2023-09-25 01:35:15  B   15   600\n",
       "2023-09-25 05:58:40  A   20   600\n",
       "2023-09-25 10:22:05  B   25   700\n",
       "2023-09-25 14:45:30  A   40   600"
      ]
     },
     "execution_count": 244,
     "metadata": {},
     "output_type": "execute_result"
    }
   ],
   "source": [
    "# 문제 27\n",
    "# 9월 24일 12:00~24:00 까지의 A 물품의 매출액 총합을 구하시오.\n",
    "# (매출액 = 판매수 * 개당수익)\n",
    "\n",
    "# 시간 데이터 만들기\n",
    "df = pd.DataFrame({\n",
    "    '물품' : ['A', 'B', 'A', 'B', 'A', 'B','A'],\n",
    "    '판매수': [5, 10, 15, 15, 20, 25, 40],\n",
    "    '개당수익': [500, 600, 500, 600, 600, 700, 600] })\n",
    "time = pd.date_range('2023-09-24 12:25:00', '2023-09-25 14:45:30', periods = 7)\n",
    "df['time'] = time\n",
    "df = df[['time', '물품', '판매수', '개당수익']]\n",
    "df = df.set_index('time', drop = True)\n",
    "df"
   ]
  },
  {
   "cell_type": "code",
   "execution_count": 245,
   "id": "c2297117",
   "metadata": {},
   "outputs": [
    {
     "name": "stdout",
     "output_type": "stream",
     "text": [
      "10000\n"
     ]
    }
   ],
   "source": [
    "# (풀이1)\n",
    "# 매출액 변수 추가\n",
    "df['매출액'] = df['판매수'] * df['개당수익']\n",
    "\n",
    "# time 변수 추가, index 초기화 (인덱스를 컬럼으로)**\n",
    "df = df.reset_index()\n",
    "\n",
    "# 데이터 타입 datetime 으로 변경\n",
    "df['time'] = pd.to_datetime(df['time'])\n",
    "\n",
    "# 9월 24일 12:00~ 24:00 필터링 // df['변수'].between( , )\n",
    "# ★ 날짜와 시간 데이터가 변수로**\n",
    "df = df[df['time'].between('2023-09-24 12:00:00', '2023-09-24 23:59:59')]\n",
    "# print(df)\n",
    "# 24:00:00 에러 발생하므로 그 전 시간으로 카운팅하거나 23-09-25 00:00:00 으로 필터링\n",
    "\n",
    "# A 물품의 매출액 총합\n",
    "df = df[df['물품'] == 'A']\n",
    "print(df['매출액'].sum())"
   ]
  },
  {
   "cell_type": "code",
   "execution_count": 246,
   "id": "15b0e355",
   "metadata": {},
   "outputs": [
    {
     "name": "stdout",
     "output_type": "stream",
     "text": [
      "10000\n"
     ]
    }
   ],
   "source": [
    "# (풀이2)\n",
    "# 시간 데이터 만들기\n",
    "df = pd.DataFrame({\n",
    "    '물품' : ['A', 'B', 'A', 'B', 'A', 'B','A'],\n",
    "    '판매수': [5, 10, 15, 15, 20, 25, 40],\n",
    "    '개당수익': [500, 600, 500, 600, 600, 700, 600] })\n",
    "time = pd.date_range('2023-09-24 12:25:00', '2023-09-25 14:45:30', periods = 7)\n",
    "df['time'] = time\n",
    "df = df[['time', '물품', '판매수', '개당수익']]\n",
    "df = df.set_index('time', drop = True)\n",
    "df\n",
    "\n",
    "# 매출액 변수 추가\n",
    "df['매출액'] = df['판매수'] * df['개당수익']\n",
    "\n",
    "# loc 함수로 필터링 # ★ (1) 데이터 타입이 datetime (2) time이 index로\n",
    "df = df.loc[(df.index >= '2023-09-24 12:00:00') & (df.index <= '2023-09-25 00:00:00')] # 24:00:00 입력할 수 없음\n",
    "\n",
    "# (참고)\n",
    "# ★ 날짜와 상관없이 특정 시간대를 필터링 해야 할 때\n",
    "# df.between_time(start_time = '00:00:00', end_time = '00:00:00')\n",
    "# (★주의: time이 index에 위치해야 함)\n",
    "\n",
    "# A 물품의 매출액 총합\n",
    "df = df[df['물품'] == 'A']\n",
    "print(df['매출액'].sum())"
   ]
  }
 ],
 "metadata": {
  "kernelspec": {
   "display_name": "Python 3 (ipykernel)",
   "language": "python",
   "name": "python3"
  },
  "language_info": {
   "codemirror_mode": {
    "name": "ipython",
    "version": 3
   },
   "file_extension": ".py",
   "mimetype": "text/x-python",
   "name": "python",
   "nbconvert_exporter": "python",
   "pygments_lexer": "ipython3",
   "version": "3.11.5"
  }
 },
 "nbformat": 4,
 "nbformat_minor": 5
}
