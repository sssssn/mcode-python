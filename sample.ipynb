{
 "cells": [
  {
   "cell_type": "markdown",
   "id": "82ae2383",
   "metadata": {},
   "source": [
    "### 제1유형"
   ]
  },
  {
   "cell_type": "markdown",
   "id": "89562c61",
   "metadata": {},
   "source": [
    "제공된 데이터(data/mtcars.csv)의 qsec 칼럼을 최소-최대 척도(Min-Max Scale)로 변환한 후 0.5보다 큰 값을 가지는 레코드 수를 [제출 형식]에 맞춰 답안 작성 페이지에 입력하시오.\n",
    "\n",
    "[제출 형식]\n",
    "- 정수(integer)로 입력\n",
    "    - (단, 소수점을 포함한 경우 소수점 첫째 자리에서 반올림하여 계산)\n",
    "- 정수 답안만 입력"
   ]
  },
  {
   "cell_type": "markdown",
   "id": "db802666",
   "metadata": {},
   "source": [
    "```python\n",
    "import pandas as pd\n",
    "\n",
    "df = pd.read_csv(\"data/mtcars.csv\")\n",
    "\n",
    "# (X - min) / (max - min)\n",
    "\n",
    "min_qsec = df['qsec'].min()\n",
    "max_qsec = df['qsec'].max()\n",
    "df['qsec'] = (df['qsec'] - min_qsec) / (max_qsec - min_qsec)\n",
    "\n",
    "cond1 = (df['qsec'] > 0.5)\n",
    "print(len(df[cond1]))\n",
    "```"
   ]
  },
  {
   "cell_type": "markdown",
   "id": "5d72f008",
   "metadata": {},
   "source": [
    "---"
   ]
  },
  {
   "cell_type": "markdown",
   "id": "4f6ecd92",
   "metadata": {},
   "source": [
    "### 제2유형"
   ]
  },
  {
   "cell_type": "markdown",
   "id": "079408e9",
   "metadata": {},
   "source": [
    "제공된 데이터는 백화점 고객이 1년간 상품을 구매한 속성 데이터이다. 제공된 학습용 데이터(data/customer_train.csv)를 이용하여 백화점 구매 고객의 성별을 예측하는 모델을 개발하고, 개발한 모델에 기반하여 평가용 데이터(data/customer_test.csv)에 적용하여 얻은 성별 예측 결과를 아래 [제출 형식]에 따라 CSV 파일로 생성하여 제출하시오.\n",
    "- 예측 결과는 ROC-AUC 평가지표에 따라 평가함\n",
    "- 성능이 우수한 예측 모델을 구축하기 위해서는 데이터 정제, Feature Engineering, 하이퍼 파라미터(hyper parameter) 최적화, 모델 비교 등이 필요할 수 있음. 다만, 과적합에 유의하여야 함.\n",
    "\n",
    "[제출 형식]\n",
    "- CSV 파일명 : result.csv (파일명에 디렉토리-폴더 지정 불가)\n",
    "- 예측 성별 칼럼명 : pred\n",
    "- 제출 칼럼 개수 : pred 칼럼 1개\n",
    "- 평가용 데이터 개수와 예측 결과 데이터 개수 일치 : 2,482개"
   ]
  },
  {
   "cell_type": "markdown",
   "id": "e06fad97",
   "metadata": {},
   "source": [
    "```python\n",
    "import pandas as pd\n",
    "import numpy as np\n",
    "\n",
    "train = pd.read_csv(\"data/customer_train.csv\")\n",
    "x_test = pd.read_csv(\"data/customer_test.csv\")\n",
    "\n",
    "# EDA\n",
    "x_train = train.drop(['성별'], axis = 1)\n",
    "y_train = train['성별']\n",
    "\n",
    "# print(x_train.isnull().sum())\n",
    "# print(y_train.isnull().sum())\n",
    "# print(x_test.isnull().sum())\n",
    "\n",
    "# 결측치 대체\n",
    "median = x_train['환불금액'].median()\n",
    "x_train['환불금액'] = x_train['환불금액'].fillna(median)\n",
    "x_test['환불금액'] = x_test['환불금액'].fillna(median)\n",
    "\n",
    "# 원핫인코딩\n",
    "x_train = pd.get_dummies(x_train)\n",
    "x_test = pd.get_dummies(x_test)\n",
    "\n",
    "x_test = x_test.reindex(columns = x_train.columns, fill_value = 0)\n",
    "\n",
    "# 분리\n",
    "from sklearn.model_selection import train_test_split\n",
    "x_train, x_val, y_train, y_val = train_test_split(x_train, y_train, test_size = 0.2, stratify = y_train, random_state = 2023)\n",
    "\n",
    "# 모델링\n",
    "from sklearn.ensemble import RandomForestClassifier\n",
    "model = RandomForestClassifier(random_state = 2023)\n",
    "model.fit(x_train, y_train)\n",
    "\n",
    "y_pred = model.predict(x_val)\n",
    "\n",
    "# 평가\n",
    "from sklearn.metrics import roc_auc_score\n",
    "auc = roc_auc_score(y_val, y_pred)\n",
    "print(auc)\n",
    "\n",
    "# 제출\n",
    "y_result = model.predict(x_test)\n",
    "pd.DataFrame({'pred' : y_result}).to_csv(\"result.csv\", index = False)\n",
    "\n",
    "# 제출 파일 확인\n",
    "result = pd.read_csv(\"result.csv\")\n",
    "print(result)\n",
    "```"
   ]
  },
  {
   "cell_type": "markdown",
   "id": "539c6084",
   "metadata": {},
   "source": [
    "---"
   ]
  },
  {
   "cell_type": "markdown",
   "id": "80450499",
   "metadata": {},
   "source": [
    "## 제3유형"
   ]
  },
  {
   "cell_type": "markdown",
   "id": "1f1ad665",
   "metadata": {},
   "source": [
    "제공된 데이터(data/Titanic.csv)는 타이타닉호의 침몰 사건에서 생존한 승객 및 사망한 승객의 정보를 포함한 자료이다. 아래 데이터를 이용하여 생존 여부(Survived)를 예측하고자 한다. 각 문항의 답을 [제출 형식]에 맞춰 답안 작성 페이지에 입력하시오. (단, 벌점화(penalty)는 부여하지 않는다.)\n",
    "\n",
    "1. Gender와 Survived 변수 간의 독립성 검정을 실시하였을 때, 카이제곱 통계량은? (반올림하여 소수 셋째 자리까지 계산)\n",
    "2. Gender, SibSp, Parch, Fare를 독립변수로 사용하여 로지스틱 회귀모형을 실시하였을 때, Parch 변수의 계수값은? (반올림하여 소수 셋째 자리까지 계산)\n",
    "3. 위 ②번 문제에서 추정된 로지스틱 회귀모형에서 SibSp 변수가 한 단위 증가할 때 생존할 오즈비(Odds ratio) 값은? (반올림하여 소수 셋째 자리까지 계산)\n",
    "\n",
    "[제출 형식]\n",
    "- 소수 넷째 자리에서 반올림하여 소수 셋째 자리까지만 계산"
   ]
  },
  {
   "cell_type": "markdown",
   "id": "b4c71345",
   "metadata": {},
   "source": [
    "```python\n",
    "import pandas as pd\n",
    "import numpy as np\n",
    "\n",
    "df = pd.read_csv(\"data/Titanic.csv\")\n",
    "\n",
    "# ①\n",
    "table = pd.crosstab(df['Gender'], df['Survived'])\n",
    "\n",
    "from scipy.stats import chi2_contingency\n",
    "statistic, pvalue, dof, expected = chi2_contingency(table)\n",
    "\n",
    "print(round(statistic, 3))\n",
    "\n",
    "# ②\n",
    "df['Gender'] = df['Gender'].map({'male' : 0, 'female' : 1})\n",
    "\n",
    "x = df[['Gender', 'SibSp', 'Parch', 'Fare']]\n",
    "y = df['Survived']\n",
    "\n",
    "from sklearn.linear_model import LogisticRegression\n",
    "\n",
    "model = LogisticRegression(penalty = 'none')\n",
    "model.fit(x, y)\n",
    "\n",
    "# print(model.coef_)\n",
    "# print(model.intercept_)\n",
    "print(np.round(model.coef_[0][2], 3))\n",
    "\n",
    "# ③\n",
    "result = np.exp(model.coef_[0][1])\n",
    "print(np.round(result, 3))\n",
    "```"
   ]
  }
 ],
 "metadata": {
  "kernelspec": {
   "display_name": "Python 3 (ipykernel)",
   "language": "python",
   "name": "python3"
  },
  "language_info": {
   "codemirror_mode": {
    "name": "ipython",
    "version": 3
   },
   "file_extension": ".py",
   "mimetype": "text/x-python",
   "name": "python",
   "nbconvert_exporter": "python",
   "pygments_lexer": "ipython3",
   "version": "3.11.5"
  }
 },
 "nbformat": 4,
 "nbformat_minor": 5
}
