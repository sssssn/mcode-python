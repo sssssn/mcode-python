{
 "cells": [
  {
   "cell_type": "markdown",
   "id": "579f7c75",
   "metadata": {},
   "source": [
    "# 제3유형_모집단 2개"
   ]
  },
  {
   "cell_type": "markdown",
   "id": "44b7db65",
   "metadata": {},
   "source": [
    "# ☑️ 검정 방법\n",
    "\n",
    "## 1. 대응표본(쌍체) : 동일한 객체의 전 vs 후 평균 비교\n",
    "- (정규성 O) 대응표본(쌍체) t검정(paired t-test) : 동일한 객체의 전 vs 후 평균 비교\n",
    "- (정규성 X) 윌콕슨 부호순위 검정(wilcoxon)\n",
    "\n",
    "## 2. 독립표본 : A집단의 평균 vs B집단의 평균\n",
    "- (정규성 O) 독립표본 t검정(2sample t-test)\n",
    "- (정규성 X) 윌콕슨의 순위합 검정(ranksums)"
   ]
  },
  {
   "cell_type": "markdown",
   "id": "e5586ff8",
   "metadata": {},
   "source": [
    "# ☑️ 가설 검정 순서\n",
    "\n",
    "## 1️⃣ 대응표본(쌍체) t검정(paired t-test)\n",
    "\n",
    "> 1. 가설 설정\n",
    "> 2. 유의수준 확인\n",
    "> 3. 정규성 검정 <span style='background-color:#fff5b1'>❗차이값에 대한 정규성</span>\n",
    "> 4. 검정 실시 (통계량, p-value 확인)\n",
    "> 5. 귀무가설 기각 여부 결정 (채택/기각)\n",
    "\n",
    "## 2️⃣ 독립표본 t검정(2sample t-test)\n",
    "\n",
    "> 1. 가설 설정\n",
    "> 2. 유의수준 확인\n",
    "> 3. 정규성 검정 <span style='background-color:#fff5b1'>❗두 집단 모두 정규성을 따를 경우</span>\n",
    "> 4. 등분산 검정\n",
    "> 5. 검정 실시 (통계량, p-value 확인) <span style='background-color:#fff5b1'>❗등분산 여부 확인</span>\n",
    "> 6. 귀무가설 기각 여부 결정 (채택/기각)"
   ]
  },
  {
   "cell_type": "markdown",
   "id": "9f943cc3",
   "metadata": {},
   "source": [
    "## 예제 문제"
   ]
  },
  {
   "cell_type": "markdown",
   "id": "dbc7563e",
   "metadata": {},
   "source": [
    "## 1️⃣ 대응표본(쌍체) t검정(paired t-test)"
   ]
  },
  {
   "cell_type": "markdown",
   "id": "4e2e8875",
   "metadata": {},
   "source": [
    "### 1-1. 다음은 혈압약을 먹기 전, 후의 혈압 데이터이다. 혈압약을 먹기 전,\t후의 차이가 있는지 쌍체 t\t검정을 실시하시오. (유의수준 5%)\n",
    "\n",
    "- before : 혈압약을 먹기 전 혈압, after : 혈압약을 먹은 후 혈압\n",
    "- H0(귀무가설) : after - before\t＝ 0\n",
    "- H1(대립가설) : after - before\t≠ 0"
   ]
  },
  {
   "cell_type": "code",
   "execution_count": 58,
   "id": "8583ae4b",
   "metadata": {},
   "outputs": [],
   "source": [
    "import pandas as pd\n",
    "import numpy as np\n",
    "import scipy.stats as stats\n",
    "from scipy.stats import shapiro"
   ]
  },
  {
   "cell_type": "code",
   "execution_count": 59,
   "id": "0daa25b9",
   "metadata": {},
   "outputs": [
    {
     "name": "stdout",
     "output_type": "stream",
     "text": [
      "   before  after\n",
      "0     120    110\n",
      "1     135    132\n",
      "2     122    123\n",
      "3     124    119\n",
      "4     135    123\n"
     ]
    }
   ],
   "source": [
    "# 데이터 만들기\n",
    "df = pd.DataFrame({\n",
    "    'before' : [120, 135, 122, 124, 135, 122, 145, 160, 155, 142, 144, 135, 167], \n",
    "    'after' : [110, 132, 123, 119, 123, 115, 140, 162, 142, 138, 135, 142, 160] })\n",
    "\n",
    "print(df.head())"
   ]
  },
  {
   "cell_type": "code",
   "execution_count": 60,
   "id": "4bf340f6",
   "metadata": {},
   "outputs": [],
   "source": [
    "# 1. 가설 설정\n",
    "# H0 : 약을 먹기 전과 먹은 후의 혈압 평균은 같다. (효과가 없다.)\n",
    "# H1 : 약을 먹기 전과 먹은 후의 혈압 평균은 같지 않다. (효과가 있다.)"
   ]
  },
  {
   "cell_type": "code",
   "execution_count": 61,
   "id": "742b00ac",
   "metadata": {},
   "outputs": [],
   "source": [
    "# 2. 유의수준 확인 : 유의수준 5%로 확인"
   ]
  },
  {
   "cell_type": "code",
   "execution_count": 62,
   "id": "bbbe5473",
   "metadata": {},
   "outputs": [
    {
     "name": "stdout",
     "output_type": "stream",
     "text": [
      "0.9589 0.7363\n"
     ]
    }
   ],
   "source": [
    "# 3. 정규성 검정 (차이값에 대해 정규성 확인)\n",
    "statistic, pvalue = stats.shapiro(df['after'] - df['before'])\n",
    "print(round(statistic, 4), round(pvalue, 4))"
   ]
  },
  {
   "cell_type": "markdown",
   "id": "29c4c8a4",
   "metadata": {},
   "source": [
    "- p-value 값이 유의수준(0.05) 보다 크다.\n",
    "    - 귀무가설(H0) 채택 (정규성 검정의 H0 : 정규분포를 따른다.)"
   ]
  },
  {
   "cell_type": "code",
   "execution_count": 63,
   "id": "bf6c3626",
   "metadata": {},
   "outputs": [
    {
     "name": "stdout",
     "output_type": "stream",
     "text": [
      "-3.1382 0.0086\n"
     ]
    }
   ],
   "source": [
    "# 4.1 (정규성 O) 대응표본(쌍체) t검정(paired t-test)\n",
    "statistic, pvalue = stats.ttest_rel(df['after'], df['before'], alternative = 'two-sided')\n",
    "print(round(statistic, 4), round(pvalue, 4))"
   ]
  },
  {
   "cell_type": "code",
   "execution_count": 64,
   "id": "a72a7c9e",
   "metadata": {},
   "outputs": [
    {
     "name": "stdout",
     "output_type": "stream",
     "text": [
      "11.0 0.0134\n"
     ]
    }
   ],
   "source": [
    "# 4.2 (정규성 X) 윌콕슨 부호순위 검정\n",
    "statistic, pvalue = stats.wilcoxon(df['after'] - df['before'], alternative = 'two-sided')\n",
    "print(round(statistic, 4), round(pvalue, 4))\n",
    "# alternative (H1) 옵션 : 'two-sided', 'greater', 'less'"
   ]
  },
  {
   "cell_type": "code",
   "execution_count": 65,
   "id": "88945537",
   "metadata": {},
   "outputs": [],
   "source": [
    "# 5. 귀무가설 기각 여부 결정 (채택/기각)\n",
    "# p-value 값이 0.05보다 작기 때문에(0.0086) 귀무가설 기각\n",
    "# 즉, 약을 먹기 전과 먹은 후의 혈압 평균이 같다고 할 수 없다. (효과가 있다.)\n",
    "\n",
    "# 답 : 기각"
   ]
  },
  {
   "cell_type": "markdown",
   "id": "b9cf2e86",
   "metadata": {},
   "source": [
    "### 1-2. 다음은 혈압약을 먹기 전, 후의 혈압 데이터이다. 혈압약을 먹은 후 혈압이 감소했는지 쌍체 t 검정을 실시하시오. (유의수준 5%)\n",
    "\n",
    "- before : 혈압약을 먹기 전 혈압, after : 혈압약을 먹은 후 혈압\n",
    "- H0(귀무가설) : after - before\t≥ 0\n",
    "- H1(대립가설) : after - before\t＜ 0"
   ]
  },
  {
   "cell_type": "code",
   "execution_count": 66,
   "id": "d980e45f",
   "metadata": {},
   "outputs": [
    {
     "name": "stdout",
     "output_type": "stream",
     "text": [
      "   before  after\n",
      "0     120    110\n",
      "1     135    132\n",
      "2     122    123\n",
      "3     124    119\n",
      "4     135    123\n"
     ]
    }
   ],
   "source": [
    "# 데이터 만들기\n",
    "df = pd.DataFrame({\n",
    "    'before' : [120, 135, 122, 124, 135, 122, 145, 160, 155, 142, 144, 135, 167], \n",
    "    'after' : [110, 132, 123, 119, 123, 115, 140, 162, 142, 138, 135, 142, 160] })\n",
    "\n",
    "print(df.head())"
   ]
  },
  {
   "cell_type": "code",
   "execution_count": 67,
   "id": "e41f59de",
   "metadata": {},
   "outputs": [],
   "source": [
    "# 1. 가설 설정\n",
    "# H0 : 약을 먹은 후 혈압이 같거나 증가했다. (after - before >= 0)\n",
    "# H1 : 약을 먹은 후 혈압이 감소했다. (after - before < 0)"
   ]
  },
  {
   "cell_type": "code",
   "execution_count": 68,
   "id": "cd48ef21",
   "metadata": {},
   "outputs": [],
   "source": [
    "# 2. 유의수준 확인 : 유의수준 5%로 확인"
   ]
  },
  {
   "cell_type": "code",
   "execution_count": 69,
   "id": "1a0c3255",
   "metadata": {},
   "outputs": [
    {
     "name": "stdout",
     "output_type": "stream",
     "text": [
      "0.9589 0.7363\n"
     ]
    }
   ],
   "source": [
    "# 3. 정규성 검정 (차이값에 대해 정규성 확인)\n",
    "statistic, pvalue = stats.shapiro(df['after'] - df['before'])\n",
    "print(round(statistic, 4), round(pvalue, 4))"
   ]
  },
  {
   "cell_type": "code",
   "execution_count": 70,
   "id": "e703d735",
   "metadata": {},
   "outputs": [
    {
     "name": "stdout",
     "output_type": "stream",
     "text": [
      "-3.1382 0.0043\n"
     ]
    }
   ],
   "source": [
    "# 4.1 (정규성 O) 대응표본(쌍체) t검정(paired t-test)\n",
    "statistic, pvalue = stats.ttest_rel(df['after'], df['before'], alternative = 'less')\n",
    "print(round(statistic, 4), round(pvalue, 4))"
   ]
  },
  {
   "cell_type": "code",
   "execution_count": 71,
   "id": "0ca591b7",
   "metadata": {},
   "outputs": [
    {
     "name": "stdout",
     "output_type": "stream",
     "text": [
      "11.0 0.0067\n"
     ]
    }
   ],
   "source": [
    "# 4.2 (정규성 X) 윌콕슨 부호순위 검정\n",
    "statistic, pvalue = stats.wilcoxon(df['after'] - df['before'], alternative = 'less')\n",
    "print(round(statistic, 4), round(pvalue, 4))"
   ]
  },
  {
   "cell_type": "code",
   "execution_count": 72,
   "id": "15036516",
   "metadata": {},
   "outputs": [],
   "source": [
    "# 5. 귀무가설 기각 여부 결정 (채택/기각)\n",
    "# p-value 값이 0.05보다 작기 때문에(0.0043) 귀무가설 기각\n",
    "# 즉, 약을 먹은 후 혈압이 같거나 증가했다고 할 수 없다. (혈압이 감소했다.)\n",
    "\n",
    "# 답 : 기각"
   ]
  },
  {
   "cell_type": "markdown",
   "id": "7f7ab387",
   "metadata": {},
   "source": [
    "## 2️⃣ 독립표본 t검정(2sample t-test)"
   ]
  },
  {
   "cell_type": "markdown",
   "id": "df27b00a",
   "metadata": {},
   "source": [
    "### 2-1. 다음은 A그룹과 B그룹 인원의 혈압 데이터이다. 두 그룹의 혈압 평균이 다르다고 할 수 있는지 독립표본 t 검정을 실시하시오. (유의수준 5%)\n",
    "\n",
    "- A : A그룹 인원의 혈압, B : B그룹 인원의 혈압\n",
    "- H0(귀무가설) : A ＝ B\n",
    "- H1(대립가설) : A ≠ B"
   ]
  },
  {
   "cell_type": "code",
   "execution_count": 73,
   "id": "e2f905a2",
   "metadata": {},
   "outputs": [
    {
     "name": "stdout",
     "output_type": "stream",
     "text": [
      "     A    B\n",
      "0  120  110\n",
      "1  135  132\n",
      "2  122  123\n",
      "3  124  119\n",
      "4  135  123\n"
     ]
    }
   ],
   "source": [
    "# 데이터 만들기\n",
    "df = pd.DataFrame({\n",
    "    'A' : [120, 135, 122, 124, 135, 122, 145, 160, 155, 142, 144, 135, 167], \n",
    "    'B' : [110, 132, 123, 119, 123, 115, 140, 162, 142, 138, 135, 142, 160] })\n",
    "\n",
    "print(df.head())"
   ]
  },
  {
   "cell_type": "code",
   "execution_count": 74,
   "id": "199a0968",
   "metadata": {},
   "outputs": [],
   "source": [
    "# 1. 가설 설정\n",
    "# H0 : A그룹과 B그룹의 혈압 평균은 같다. (A = B)\n",
    "# H1 : A그룹과 B그룹의 혈압 평균은 같지 않다. (A != B)"
   ]
  },
  {
   "cell_type": "code",
   "execution_count": 75,
   "id": "444581ef",
   "metadata": {},
   "outputs": [],
   "source": [
    "# 2. 유의수준 확인 : 유의수준 5%로 확인"
   ]
  },
  {
   "cell_type": "code",
   "execution_count": 76,
   "id": "7efb437f",
   "metadata": {},
   "outputs": [
    {
     "name": "stdout",
     "output_type": "stream",
     "text": [
      "0.9314 0.3559\n",
      "0.9498 0.5956\n"
     ]
    }
   ],
   "source": [
    "# 3. 정규성 검정\n",
    "# H0 : 정규분포를 따른다.\n",
    "# H1 : 정규분포를 따르지 않는다.\n",
    "\n",
    "statisticA, pvalueA = stats.shapiro(df['A'])\n",
    "statisticB, pvalueB = stats.shapiro(df['B'])\n",
    "print(round(statisticA, 4), round(pvalueA, 4))\n",
    "print(round(statisticB, 4), round(pvalueB, 4))"
   ]
  },
  {
   "cell_type": "markdown",
   "id": "6bca4cc7",
   "metadata": {},
   "source": [
    "- p-value 값이 유의수준(0.05) 보다 크다.\n",
    "    - 귀무가설(H0) 채택\n",
    "- 만약 하나라도 정규분포를 따르지 않는다면 비모수 검정방법(윌콕슨의 순위합 검정) 사용"
   ]
  },
  {
   "cell_type": "code",
   "execution_count": 77,
   "id": "5ffa925b",
   "metadata": {},
   "outputs": [
    {
     "name": "stdout",
     "output_type": "stream",
     "text": [
      "0.0279 0.8673\n"
     ]
    }
   ],
   "source": [
    "# 4. 등분산성 검정\n",
    "# H0 : 등분산 한다.\n",
    "# H1 : 등분산 하지 않는다.\n",
    "\n",
    "statistic, pvalue = stats.bartlett(df['A'], df['B'])\n",
    "print(round(statistic, 4), round(pvalue, 4))"
   ]
  },
  {
   "cell_type": "markdown",
   "id": "c1b79949",
   "metadata": {},
   "source": [
    "- p-value 값이 유의수준(0.05) 보다 크다.\n",
    "    - 귀무가설(H0) 채택 => 등분산성을 따른다고 할 수 있다."
   ]
  },
  {
   "cell_type": "code",
   "execution_count": 90,
   "id": "2f6b90f0",
   "metadata": {},
   "outputs": [
    {
     "name": "stdout",
     "output_type": "stream",
     "text": [
      "0.8192 0.4207\n"
     ]
    }
   ],
   "source": [
    "# 5.1 (정규성 O, 등분산성 O/X) t검정\n",
    "statistic, pvalue = stats.ttest_ind(df['A'], df['B'], \n",
    "                                    equal_var = True, \n",
    "                                    alternative = 'two-sided')\n",
    "# 만약 등분산 하지 않으면 False로 설정\n",
    "\n",
    "print(round(statistic, 4), round(pvalue, 4))"
   ]
  },
  {
   "cell_type": "code",
   "execution_count": 91,
   "id": "ae3827dd",
   "metadata": {},
   "outputs": [
    {
     "name": "stdout",
     "output_type": "stream",
     "text": [
      "0.8462 0.3975\n"
     ]
    }
   ],
   "source": [
    "# 5.2 (정규성 X) 윌콕슨의 순위합 검정\n",
    "statistic, pvalue = stats.ranksums(df['A'], df['B'], alternative = 'two-sided')\n",
    "print(round(statistic, 4), round(pvalue, 4))"
   ]
  },
  {
   "cell_type": "code",
   "execution_count": 93,
   "id": "87fd6213",
   "metadata": {},
   "outputs": [],
   "source": [
    "# 6. 귀무가설 기각 여부 결정 (채택/기각)\n",
    "# p-value 값이 0.05보다 크기 때문에(0.4207) 귀무가설 채택\n",
    "# 즉, A그룹과 B그룹의 혈압 평균은 같다고 할 수 있다.\n",
    "\n",
    "# 답 : 채택"
   ]
  },
  {
   "cell_type": "code",
   "execution_count": 95,
   "id": "d0dfde63",
   "metadata": {},
   "outputs": [
    {
     "name": "stdout",
     "output_type": "stream",
     "text": [
      "138.9231\n",
      "133.9231\n"
     ]
    }
   ],
   "source": [
    "# (참고) 실제 평균 데이터 확인\n",
    "print(round(df['A'].mean(), 4))\n",
    "print(round(df['B'].mean(), 4))"
   ]
  },
  {
   "cell_type": "markdown",
   "id": "6b65d86c",
   "metadata": {},
   "source": [
    "### 2-2. 다음은 A그룹과 B그룹 인원의 혈압 데이터이다. A그룹의 혈압 평균이 B그룹보다 크다고 할 수 있는지 독립표본 t 검정을 실시하시오. (유의수준 5%)\n",
    "\n",
    "- A : A그룹 인원의 혈압, B : B그룹 인원의 혈압\n",
    "- H0(귀무가설) : A - B ≤ 0 (or A ≤ B)\n",
    "- H1(대립가설) : A - B ＞ 0 (or A ＞ B)"
   ]
  },
  {
   "cell_type": "code",
   "execution_count": 82,
   "id": "1dace107",
   "metadata": {},
   "outputs": [
    {
     "name": "stdout",
     "output_type": "stream",
     "text": [
      "     A    B\n",
      "0  120  110\n",
      "1  135  132\n",
      "2  122  123\n",
      "3  124  119\n",
      "4  135  123\n"
     ]
    }
   ],
   "source": [
    "# 데이터 만들기\n",
    "df = pd.DataFrame({\n",
    "    'A' : [120, 135, 122, 124, 135, 122, 145, 160, 155, 142, 144, 135, 167], \n",
    "    'B' : [110, 132, 123, 119, 123, 115, 140, 162, 142, 138, 135, 142, 160] })\n",
    "\n",
    "print(df.head())"
   ]
  },
  {
   "cell_type": "code",
   "execution_count": 83,
   "id": "158c16c6",
   "metadata": {},
   "outputs": [],
   "source": [
    "# 1. 가설 설정\n",
    "# H0 : A그룹의 혈압 평균이 B그룹보다 작거나 같다. (A <= B)\n",
    "# H1: A그룹의 혈압 평균이 B그룹보다 크다. (A > B)"
   ]
  },
  {
   "cell_type": "code",
   "execution_count": 84,
   "id": "5255e67c",
   "metadata": {},
   "outputs": [],
   "source": [
    "# 2. 유의수준 확인 : 유의수준 5%로 확인"
   ]
  },
  {
   "cell_type": "code",
   "execution_count": 96,
   "id": "97ad339b",
   "metadata": {},
   "outputs": [
    {
     "name": "stdout",
     "output_type": "stream",
     "text": [
      "0.9314 0.3975\n",
      "0.9498 0.3975\n"
     ]
    }
   ],
   "source": [
    "# 3. 정규성 검정 (차이값에 대해 정규성 확인)\n",
    "# H0 : 정규분포를 따른다.\n",
    "# H1 : 정규분포를 따르지 않는다.\n",
    "\n",
    "statisticA, pvalueA = stats.shapiro(df['A'])\n",
    "statisticB, pvalueB = stats.shapiro(df['B'])\n",
    "print(round(statisticA, 4), round(pvalue, 4))\n",
    "print(round(statisticB, 4), round(pvalue, 4))"
   ]
  },
  {
   "cell_type": "code",
   "execution_count": 97,
   "id": "df93ad82",
   "metadata": {},
   "outputs": [
    {
     "name": "stdout",
     "output_type": "stream",
     "text": [
      "0.0279 0.8673\n"
     ]
    }
   ],
   "source": [
    "# 4. 등분산성 검정\n",
    "# H0 : 등분산 한다.\n",
    "# H1 : 등분산 하지 않는다.\n",
    "\n",
    "statistic, pvalue = stats.bartlett(df['A'], df['B'])\n",
    "print(round(statistic, 4), round(pvalue, 4))"
   ]
  },
  {
   "cell_type": "code",
   "execution_count": 98,
   "id": "3968b02c",
   "metadata": {},
   "outputs": [
    {
     "name": "stdout",
     "output_type": "stream",
     "text": [
      "0.8192 0.2104\n"
     ]
    }
   ],
   "source": [
    "# 5.1 (정규성 O, 등분산성 O/X) t검정\n",
    "statistic, pvalue = stats.ttest_ind(df['A'], df['B'], \n",
    "                                    equal_var = True, \n",
    "                                    alternative = 'greater')\n",
    "# 만약 등분산 하지 않으면 False로 설정\n",
    "\n",
    "print(round(statistic, 4), round(pvalue, 4))"
   ]
  },
  {
   "cell_type": "code",
   "execution_count": 99,
   "id": "94676cfe",
   "metadata": {},
   "outputs": [
    {
     "name": "stdout",
     "output_type": "stream",
     "text": [
      "0.8462 0.1987\n"
     ]
    }
   ],
   "source": [
    "# 5.2 (정규성 X) 윌콕슨의 순위합 검정\n",
    "statistic, pvalue = stats.ranksums(df['A'], df['B'], alternative = 'greater')\n",
    "print(round(statistic, 4), round(pvalue, 4))"
   ]
  },
  {
   "cell_type": "code",
   "execution_count": 100,
   "id": "da4a4c92",
   "metadata": {},
   "outputs": [],
   "source": [
    "# 6. 귀무가설 기각 여부 결정 (채택/기각)\n",
    "# p-value 값이 0.05보다 크기 때문에(0.2104) 귀무가설 채택\n",
    "# 즉, A그룹의 혈압 평균이 B그룹보다 작거나 같다고 할 수 있다.\n",
    "\n",
    "# 답 : 채택"
   ]
  }
 ],
 "metadata": {
  "kernelspec": {
   "display_name": "Python 3 (ipykernel)",
   "language": "python",
   "name": "python3"
  },
  "language_info": {
   "codemirror_mode": {
    "name": "ipython",
    "version": 3
   },
   "file_extension": ".py",
   "mimetype": "text/x-python",
   "name": "python",
   "nbconvert_exporter": "python",
   "pygments_lexer": "ipython3",
   "version": "3.11.5"
  }
 },
 "nbformat": 4,
 "nbformat_minor": 5
}
