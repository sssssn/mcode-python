{
 "cells": [
  {
   "cell_type": "markdown",
   "id": "0b8b045e",
   "metadata": {},
   "source": [
    "# 제2유형_연습하기_타이타닉 생존자 분류(분류)"
   ]
  },
  {
   "cell_type": "markdown",
   "id": "ae5b9580",
   "metadata": {},
   "source": [
    "# ☑️ 데이터 분석 순서\n",
    "## 1. 라이브러리 및 데이터 확인\n",
    "## 2. 데이터 탐색(EDA)\n",
    "## 3. 데이터 전처리 및 분리\n",
    "## 4. 모델링 및 성능 평가\n",
    "## 5. 예측값 제출"
   ]
  },
  {
   "cell_type": "markdown",
   "id": "02be2fd2",
   "metadata": {},
   "source": [
    "# ✅ 1. 라이브러리 및 데이터 확인"
   ]
  },
  {
   "cell_type": "code",
   "execution_count": 425,
   "id": "37ff7024",
   "metadata": {},
   "outputs": [],
   "source": [
    "import pandas as pd\n",
    "import numpy as np"
   ]
  },
  {
   "cell_type": "code",
   "execution_count": 426,
   "id": "7825fa3c",
   "metadata": {},
   "outputs": [],
   "source": [
    "############### 실기환경 복사 영역 ###############\n",
    "import pandas as pd\n",
    "import numpy as np\n",
    "\n",
    "# Seaborn의 내장 타이타닉 데이터셋 불러오기\n",
    "import seaborn as sns\n",
    "df = sns.load_dataset('titanic')\n",
    "\n",
    "x = df.drop('survived', axis = 1)\n",
    "y = df['survived']\n",
    "\n",
    "# 실기 시험 데이터셋으로 셋팅하기\n",
    "from sklearn.model_selection import train_test_split\n",
    "x_train, x_test, y_train, y_test = train_test_split(x, y, test_size = 0.2, \n",
    "                                                    stratify = y, \n",
    "                                                    random_state = 2023)\n",
    "\n",
    "x_test = pd.DataFrame(x_test)\n",
    "x_train = pd.DataFrame(x_train)\n",
    "y_train = pd.DataFrame(y_train)\n",
    "y_test = pd.DataFrame(y_test) # 평가용\n",
    "\n",
    "x_test.reset_index()\n",
    "y_train.columns = ['target']\n",
    "y_test.columns = ['target']\n",
    "############### 실기환경 복사 영역 ###############"
   ]
  },
  {
   "cell_type": "markdown",
   "id": "72fd7859",
   "metadata": {},
   "source": [
    "# 🚢 타이타닉 생존자 예측 문제\n",
    "## - 데이터의 결측치, 중복 변수값에 대해 처리하고\n",
    "## - 분류 모델을 사용하여 Accuracy, F1 score, AUC 값을 산출하시오."
   ]
  },
  {
   "cell_type": "markdown",
   "id": "2683af86",
   "metadata": {},
   "source": [
    "## 데이터셋 설명\n",
    "\n",
    "> - survival: 0 = No, 1 = Yes\n",
    "> - pclass: 객실 등급(1, 2, 3)\n",
    "> - sex: 성별\n",
    "> - age: 나이\n",
    "> - sibsp: 타이타닉호에 탑승한 형제/배우자의 수\n",
    "> - parch: 타이타닉호에 탑승한 부모/자녀의 수\n",
    "> - fare: 요금\n",
    "> - embarked: 탑승지 이름(C, Q, S) Cherbourg / Queenstown / Southampton\n",
    "> - (중복) class: 객실 등급(First, Second, Third)\n",
    "> - who: man, women, child\n",
    "> - adult_male: 성인남자인지 여부(True = 성인남자, False = 그 외)\n",
    "> - deck: 선실번호 첫 알파벳(A, B, C, D, E, F, G)\n",
    "> - (중복) embark_town: 탑승자 이름(Cherbourg, Queenstown, Southampton)\n",
    "> - (중복) alive: 생존여부(no = 사망, yes = 생존)\n",
    "> - alone: 혼자 탑승했는지 여부(True = 혼자, False = 가족과 함께)"
   ]
  },
  {
   "cell_type": "markdown",
   "id": "839658c4",
   "metadata": {},
   "source": [
    "# ✅ 2. 데이터 탐색(EDA)"
   ]
  },
  {
   "cell_type": "code",
   "execution_count": 427,
   "id": "994f6a4b",
   "metadata": {},
   "outputs": [
    {
     "name": "stdout",
     "output_type": "stream",
     "text": [
      "(712, 14)\n",
      "(179, 14)\n",
      "(712, 1)\n"
     ]
    }
   ],
   "source": [
    "# 데이터의 행/열 확인\n",
    "\n",
    "print(x_train.shape)\n",
    "print(x_test.shape)\n",
    "print(y_train.shape)"
   ]
  },
  {
   "cell_type": "code",
   "execution_count": 428,
   "id": "1f6d50df",
   "metadata": {},
   "outputs": [
    {
     "name": "stdout",
     "output_type": "stream",
     "text": [
      "     pclass     sex   age  sibsp  parch   fare embarked   class    who  \\\n",
      "3         1  female  35.0      1      0  53.10        S   First  woman   \n",
      "517       3    male   NaN      0      0  24.15        Q   Third    man   \n",
      "861       2    male  21.0      1      0  11.50        S  Second    man   \n",
      "\n",
      "     adult_male deck  embark_town alive  alone  \n",
      "3         False    C  Southampton   yes  False  \n",
      "517        True  NaN   Queenstown    no   True  \n",
      "861        True  NaN  Southampton    no  False  \n",
      "     pclass     sex   age  sibsp  parch   fare embarked   class    who  \\\n",
      "800       2    male  34.0      0      0   13.0        S  Second    man   \n",
      "341       1  female  24.0      3      2  263.0        S   First  woman   \n",
      "413       2    male   NaN      0      0    0.0        S  Second    man   \n",
      "\n",
      "     adult_male deck  embark_town alive  alone  \n",
      "800        True  NaN  Southampton    no   True  \n",
      "341       False    C  Southampton   yes  False  \n",
      "413        True  NaN  Southampton    no   True  \n",
      "     target\n",
      "3         1\n",
      "517       0\n",
      "861       0\n"
     ]
    }
   ],
   "source": [
    "# 초기 데이터 확인\n",
    "\n",
    "print(x_train.head(3))\n",
    "print(x_test.head(3))\n",
    "print(y_train.head(3))"
   ]
  },
  {
   "cell_type": "code",
   "execution_count": 429,
   "id": "be057ae4",
   "metadata": {},
   "outputs": [
    {
     "name": "stdout",
     "output_type": "stream",
     "text": [
      "<class 'pandas.core.frame.DataFrame'>\n",
      "Index: 712 entries, 3 to 608\n",
      "Data columns (total 14 columns):\n",
      " #   Column       Non-Null Count  Dtype   \n",
      "---  ------       --------------  -----   \n",
      " 0   pclass       712 non-null    int64   \n",
      " 1   sex          712 non-null    object  \n",
      " 2   age          579 non-null    float64 \n",
      " 3   sibsp        712 non-null    int64   \n",
      " 4   parch        712 non-null    int64   \n",
      " 5   fare         712 non-null    float64 \n",
      " 6   embarked     710 non-null    object  \n",
      " 7   class        712 non-null    category\n",
      " 8   who          712 non-null    object  \n",
      " 9   adult_male   712 non-null    bool    \n",
      " 10  deck         164 non-null    category\n",
      " 11  embark_town  710 non-null    object  \n",
      " 12  alive        712 non-null    object  \n",
      " 13  alone        712 non-null    bool    \n",
      "dtypes: bool(2), category(2), float64(2), int64(3), object(5)\n",
      "memory usage: 64.4+ KB\n",
      "None\n",
      "<class 'pandas.core.frame.DataFrame'>\n",
      "Index: 179 entries, 800 to 410\n",
      "Data columns (total 14 columns):\n",
      " #   Column       Non-Null Count  Dtype   \n",
      "---  ------       --------------  -----   \n",
      " 0   pclass       179 non-null    int64   \n",
      " 1   sex          179 non-null    object  \n",
      " 2   age          135 non-null    float64 \n",
      " 3   sibsp        179 non-null    int64   \n",
      " 4   parch        179 non-null    int64   \n",
      " 5   fare         179 non-null    float64 \n",
      " 6   embarked     179 non-null    object  \n",
      " 7   class        179 non-null    category\n",
      " 8   who          179 non-null    object  \n",
      " 9   adult_male   179 non-null    bool    \n",
      " 10  deck         39 non-null     category\n",
      " 11  embark_town  179 non-null    object  \n",
      " 12  alive        179 non-null    object  \n",
      " 13  alone        179 non-null    bool    \n",
      "dtypes: bool(2), category(2), float64(2), int64(3), object(5)\n",
      "memory usage: 16.6+ KB\n",
      "None\n",
      "<class 'pandas.core.frame.DataFrame'>\n",
      "Index: 712 entries, 3 to 608\n",
      "Data columns (total 1 columns):\n",
      " #   Column  Non-Null Count  Dtype\n",
      "---  ------  --------------  -----\n",
      " 0   target  712 non-null    int64\n",
      "dtypes: int64(1)\n",
      "memory usage: 11.1 KB\n",
      "None\n"
     ]
    }
   ],
   "source": [
    "# 변수명과 데이터 타입이 매칭이 되는지, 결측치가 있는지 확인\n",
    "\n",
    "print(x_train.info())\n",
    "print(x_test.info())\n",
    "print(y_train.info())"
   ]
  },
  {
   "cell_type": "code",
   "execution_count": 430,
   "id": "09c110f4",
   "metadata": {},
   "outputs": [
    {
     "name": "stdout",
     "output_type": "stream",
     "text": [
      "           pclass         age       sibsp       parch        fare\n",
      "count  712.000000  579.000000  712.000000  712.000000  712.000000\n",
      "mean     2.307584   29.479568    0.518258    0.372191   31.741836\n",
      "std      0.834926   14.355304    1.094522    0.792341   45.403910\n",
      "min      1.000000    0.420000    0.000000    0.000000    0.000000\n",
      "25%      2.000000   20.000000    0.000000    0.000000    7.895800\n",
      "50%      3.000000   28.000000    0.000000    0.000000   14.454200\n",
      "75%      3.000000   38.000000    1.000000    0.000000   31.275000\n",
      "max      3.000000   74.000000    8.000000    6.000000  512.329200\n",
      "-------------------------------------------------------------------------------\n",
      "           pclass         age       sibsp       parch        fare\n",
      "count  179.000000  135.000000  179.000000  179.000000  179.000000\n",
      "mean     2.312849   30.640741    0.541899    0.418994   34.043364\n",
      "std      0.842950   15.258427    1.137797    0.859760   64.097184\n",
      "min      1.000000    1.000000    0.000000    0.000000    0.000000\n",
      "25%      2.000000   22.000000    0.000000    0.000000    7.925000\n",
      "50%      3.000000   29.000000    0.000000    0.000000   14.500000\n",
      "75%      3.000000   39.000000    1.000000    0.000000   30.285400\n",
      "max      3.000000   80.000000    8.000000    5.000000  512.329200\n",
      "-------------------------------------------------------------------------------\n",
      "           target\n",
      "count  712.000000\n",
      "mean     0.383427\n",
      "std      0.486563\n",
      "min      0.000000\n",
      "25%      0.000000\n",
      "50%      0.000000\n",
      "75%      1.000000\n",
      "max      1.000000\n"
     ]
    }
   ],
   "source": [
    "# x_train 과 x_test 데이터의 기초통계량을 비교\n",
    "\n",
    "print(x_train.describe())\n",
    "print('-------------------------------------------------------------------------------')\n",
    "print(x_test.describe())\n",
    "print('-------------------------------------------------------------------------------')\n",
    "print(y_train.describe())"
   ]
  },
  {
   "cell_type": "code",
   "execution_count": 431,
   "id": "6b54a98d",
   "metadata": {},
   "outputs": [
    {
     "name": "stdout",
     "output_type": "stream",
     "text": [
      "         sex embarked  who  embark_town alive\n",
      "count    712      710  712          710   712\n",
      "unique     2        3    3            3     2\n",
      "top     male        S  man  Southampton    no\n",
      "freq     469      518  432          518   439\n",
      "         sex embarked  who  embark_town alive\n",
      "count    179      179  179          179   179\n",
      "unique     2        3    3            3     2\n",
      "top     male        S  man  Southampton    no\n",
      "freq     108      126  105          126   110\n",
      "        class deck\n",
      "count     712  164\n",
      "unique      3    7\n",
      "top     Third    C\n",
      "freq      391   47\n",
      "        class deck\n",
      "count     179   39\n",
      "unique      3    7\n",
      "top     Third    C\n",
      "freq      100   12\n"
     ]
    }
   ],
   "source": [
    "# object, category 데이터도 추가 확인\n",
    "\n",
    "print(x_train.describe(include = 'object'))\n",
    "print(x_test.describe(include = 'object'))\n",
    "\n",
    "print(x_train.describe(include = 'category'))\n",
    "print(x_test.describe(include = 'category'))"
   ]
  },
  {
   "cell_type": "code",
   "execution_count": 432,
   "id": "d9add197",
   "metadata": {},
   "outputs": [
    {
     "name": "stdout",
     "output_type": "stream",
     "text": [
      "     target\n",
      "3         1\n",
      "517       0\n",
      "861       0\n",
      "487       0\n",
      "58        1\n"
     ]
    }
   ],
   "source": [
    "# y 데이터도 구체적으로 살펴보기\n",
    "\n",
    "print(y_train.head())"
   ]
  },
  {
   "cell_type": "code",
   "execution_count": 433,
   "id": "20925d85",
   "metadata": {},
   "outputs": [
    {
     "name": "stdout",
     "output_type": "stream",
     "text": [
      "target\n",
      "0         439\n",
      "1         273\n",
      "Name: count, dtype: int64\n"
     ]
    }
   ],
   "source": [
    "# y 데이터도 구체적으로 살펴보기\n",
    "\n",
    "print(y_train.value_counts())"
   ]
  },
  {
   "cell_type": "markdown",
   "id": "a0efcf33",
   "metadata": {},
   "source": [
    "# ✅ 3. 데이터 전처리 및 분리"
   ]
  },
  {
   "cell_type": "markdown",
   "id": "f0d2783e",
   "metadata": {},
   "source": [
    "## 1) 결측치 2) 이상치 3) 변수 처리하기"
   ]
  },
  {
   "cell_type": "code",
   "execution_count": 434,
   "id": "fea87e64",
   "metadata": {},
   "outputs": [
    {
     "name": "stdout",
     "output_type": "stream",
     "text": [
      "pclass           0\n",
      "sex              0\n",
      "age            133\n",
      "sibsp            0\n",
      "parch            0\n",
      "fare             0\n",
      "embarked         2\n",
      "class            0\n",
      "who              0\n",
      "adult_male       0\n",
      "deck           548\n",
      "embark_town      2\n",
      "alive            0\n",
      "alone            0\n",
      "dtype: int64\n",
      "pclass           0\n",
      "sex              0\n",
      "age             44\n",
      "sibsp            0\n",
      "parch            0\n",
      "fare             0\n",
      "embarked         0\n",
      "class            0\n",
      "who              0\n",
      "adult_male       0\n",
      "deck           140\n",
      "embark_town      0\n",
      "alive            0\n",
      "alone            0\n",
      "dtype: int64\n",
      "target    0\n",
      "dtype: int64\n"
     ]
    }
   ],
   "source": [
    "# 결측치 확인\n",
    "\n",
    "print(x_train.isnull().sum())\n",
    "print(x_test.isnull().sum())\n",
    "print(y_train.isnull().sum())"
   ]
  },
  {
   "cell_type": "code",
   "execution_count": 435,
   "id": "62114f98",
   "metadata": {},
   "outputs": [],
   "source": [
    "# 결측치 대체\n",
    "# x_train(712, 14) : age(133), embarked(2), deck(548), embark_town(2)\n",
    "# x_test(179, 14) : age(44), deck(140)\n",
    "\n",
    "# 변수 제거\n",
    "# (중복) class\n",
    "# (중복) embark_town\n",
    "# (중복) alive\n",
    "# (결측치 다수) deck"
   ]
  },
  {
   "cell_type": "code",
   "execution_count": 436,
   "id": "cb1e544b",
   "metadata": {},
   "outputs": [],
   "source": [
    "# 중복변수 제거\n",
    "\n",
    "x_train = x_train.drop(['class', 'embark_town', 'alive', 'deck'], axis = 1)\n",
    "x_test = x_test.drop(['class', 'embark_town', 'alive', 'deck'], axis = 1)"
   ]
  },
  {
   "cell_type": "code",
   "execution_count": 437,
   "id": "633bd443",
   "metadata": {},
   "outputs": [
    {
     "name": "stdout",
     "output_type": "stream",
     "text": [
      "<class 'pandas.core.frame.DataFrame'>\n",
      "Index: 712 entries, 3 to 608\n",
      "Data columns (total 10 columns):\n",
      " #   Column      Non-Null Count  Dtype  \n",
      "---  ------      --------------  -----  \n",
      " 0   pclass      712 non-null    int64  \n",
      " 1   sex         712 non-null    object \n",
      " 2   age         579 non-null    float64\n",
      " 3   sibsp       712 non-null    int64  \n",
      " 4   parch       712 non-null    int64  \n",
      " 5   fare        712 non-null    float64\n",
      " 6   embarked    710 non-null    object \n",
      " 7   who         712 non-null    object \n",
      " 8   adult_male  712 non-null    bool   \n",
      " 9   alone       712 non-null    bool   \n",
      "dtypes: bool(2), float64(2), int64(3), object(3)\n",
      "memory usage: 51.5+ KB\n",
      "None\n",
      "<class 'pandas.core.frame.DataFrame'>\n",
      "Index: 179 entries, 800 to 410\n",
      "Data columns (total 10 columns):\n",
      " #   Column      Non-Null Count  Dtype  \n",
      "---  ------      --------------  -----  \n",
      " 0   pclass      179 non-null    int64  \n",
      " 1   sex         179 non-null    object \n",
      " 2   age         135 non-null    float64\n",
      " 3   sibsp       179 non-null    int64  \n",
      " 4   parch       179 non-null    int64  \n",
      " 5   fare        179 non-null    float64\n",
      " 6   embarked    179 non-null    object \n",
      " 7   who         179 non-null    object \n",
      " 8   adult_male  179 non-null    bool   \n",
      " 9   alone       179 non-null    bool   \n",
      "dtypes: bool(2), float64(2), int64(3), object(3)\n",
      "memory usage: 12.9+ KB\n",
      "None\n"
     ]
    }
   ],
   "source": [
    "# 변수 제거 확인\n",
    "\n",
    "print(x_train.info())\n",
    "print(x_test.info())"
   ]
  },
  {
   "cell_type": "code",
   "execution_count": 438,
   "id": "e52b2735",
   "metadata": {},
   "outputs": [],
   "source": [
    "# 결측치 대체\n",
    "# x_train(712, 14) : age(133), embarked(2)\n",
    "# x_test(179, 14) : age(44)\n",
    "\n",
    "# age 변수\n",
    "med_age = x_train['age'].median()\n",
    "x_train['age'] = x_train['age'].fillna(med_age)\n",
    "x_test['age'] = x_test['age'].fillna(med_age) # train data의 중앙값으로\n",
    "\n",
    "# embarked 변수\n",
    "mode_et = x_train['embarked'].mode()\n",
    "x_train['embarked'] = x_train['embarked'].fillna(mode_et[0]) # 최빈값 [0] 주의"
   ]
  },
  {
   "cell_type": "code",
   "execution_count": 439,
   "id": "ed6cf63f",
   "metadata": {},
   "outputs": [
    {
     "name": "stdout",
     "output_type": "stream",
     "text": [
      "pclass        0\n",
      "sex           0\n",
      "age           0\n",
      "sibsp         0\n",
      "parch         0\n",
      "fare          0\n",
      "embarked      0\n",
      "who           0\n",
      "adult_male    0\n",
      "alone         0\n",
      "dtype: int64\n",
      "pclass        0\n",
      "sex           0\n",
      "age           0\n",
      "sibsp         0\n",
      "parch         0\n",
      "fare          0\n",
      "embarked      0\n",
      "who           0\n",
      "adult_male    0\n",
      "alone         0\n",
      "dtype: int64\n"
     ]
    }
   ],
   "source": [
    "# 결측치 대체 여부 확인\n",
    "\n",
    "print(x_train.isnull().sum())\n",
    "print(x_test.isnull().sum())"
   ]
  },
  {
   "cell_type": "code",
   "execution_count": 440,
   "id": "99dc3cdd",
   "metadata": {},
   "outputs": [
    {
     "name": "stdout",
     "output_type": "stream",
     "text": [
      "<class 'pandas.core.frame.DataFrame'>\n",
      "Index: 712 entries, 3 to 608\n",
      "Data columns (total 15 columns):\n",
      " #   Column      Non-Null Count  Dtype  \n",
      "---  ------      --------------  -----  \n",
      " 0   pclass      712 non-null    int64  \n",
      " 1   age         712 non-null    float64\n",
      " 2   sibsp       712 non-null    int64  \n",
      " 3   parch       712 non-null    int64  \n",
      " 4   fare        712 non-null    float64\n",
      " 5   adult_male  712 non-null    bool   \n",
      " 6   alone       712 non-null    bool   \n",
      " 7   sex_female  712 non-null    bool   \n",
      " 8   sex_male    712 non-null    bool   \n",
      " 9   embarked_C  712 non-null    bool   \n",
      " 10  embarked_Q  712 non-null    bool   \n",
      " 11  embarked_S  712 non-null    bool   \n",
      " 12  who_child   712 non-null    bool   \n",
      " 13  who_man     712 non-null    bool   \n",
      " 14  who_woman   712 non-null    bool   \n",
      "dtypes: bool(10), float64(2), int64(3)\n",
      "memory usage: 40.3 KB\n",
      "None\n",
      "<class 'pandas.core.frame.DataFrame'>\n",
      "Index: 179 entries, 800 to 410\n",
      "Data columns (total 15 columns):\n",
      " #   Column      Non-Null Count  Dtype  \n",
      "---  ------      --------------  -----  \n",
      " 0   pclass      179 non-null    int64  \n",
      " 1   age         179 non-null    float64\n",
      " 2   sibsp       179 non-null    int64  \n",
      " 3   parch       179 non-null    int64  \n",
      " 4   fare        179 non-null    float64\n",
      " 5   adult_male  179 non-null    bool   \n",
      " 6   alone       179 non-null    bool   \n",
      " 7   sex_female  179 non-null    bool   \n",
      " 8   sex_male    179 non-null    bool   \n",
      " 9   embarked_C  179 non-null    bool   \n",
      " 10  embarked_Q  179 non-null    bool   \n",
      " 11  embarked_S  179 non-null    bool   \n",
      " 12  who_child   179 non-null    bool   \n",
      " 13  who_man     179 non-null    bool   \n",
      " 14  who_woman   179 non-null    bool   \n",
      "dtypes: bool(10), float64(2), int64(3)\n",
      "memory usage: 10.1 KB\n",
      "None\n"
     ]
    }
   ],
   "source": [
    "# 변수 처리 (원핫인코딩)\n",
    "\n",
    "x_train = pd.get_dummies(x_train)\n",
    "x_test = pd.get_dummies(x_test)\n",
    "\n",
    "print(x_train.info())\n",
    "print(x_test.info())\n",
    "\n",
    "# advanced 버전 사용\n",
    "\n",
    "x_train_ad = x_train.copy()\n",
    "x_test_ad = x_test.copy()\n",
    "y_train_ad = y_train.copy()"
   ]
  },
  {
   "cell_type": "code",
   "execution_count": 441,
   "id": "3fe9dd47",
   "metadata": {},
   "outputs": [],
   "source": [
    "# (참고사항) 원핫인코딩 후 변수의 수가 다른 경우\n",
    "# => x_test의 변수의 수가 x_train 보다 많은 경우 (혹은 그 반대인 경우)\n",
    "\n",
    "# 원핫인코딩 후 Feature 수가 다를 경우\n",
    "# x_train = pd.get_dummies(x_train)\n",
    "# x_test = pd.get_dummies(x_test)\n",
    "# x_train.info()\n",
    "# x_test.info()\n",
    "\n",
    "# 해결 방법 (x_test의 변수의 수가 더 많은 경우의 코드)\n",
    "# x_train = x_train.reindex(columns = x_test.columns, fill_value = 0)\n",
    "# x_train.info()"
   ]
  },
  {
   "cell_type": "markdown",
   "id": "fd7b4b23",
   "metadata": {},
   "source": [
    "## 데이터 분리"
   ]
  },
  {
   "cell_type": "code",
   "execution_count": 442,
   "id": "475f1619",
   "metadata": {},
   "outputs": [
    {
     "name": "stdout",
     "output_type": "stream",
     "text": [
      "(569, 15)\n",
      "(143, 15)\n",
      "(569,)\n",
      "(143,)\n"
     ]
    }
   ],
   "source": [
    "# 데이터를 훈련 세트와 검증용 세트로 분할 (80% 훈련, 20% 검증용)\n",
    "\n",
    "from sklearn.model_selection import train_test_split\n",
    "x_train, x_val, y_train, y_val = train_test_split(x_train, \n",
    "                                                  y_train['target'], \n",
    "                                                  test_size = 0.2, \n",
    "                                                  stratify = y_train['target'], \n",
    "                                                  random_state = 2023)\n",
    "\n",
    "print(x_train.shape)\n",
    "print(x_val.shape)\n",
    "print(y_train.shape)\n",
    "print(y_val.shape)"
   ]
  },
  {
   "cell_type": "markdown",
   "id": "b7f52c00",
   "metadata": {},
   "source": [
    "# ✅ 4. 모델링 및 성능 평가"
   ]
  },
  {
   "cell_type": "code",
   "execution_count": 443,
   "id": "3216b279",
   "metadata": {},
   "outputs": [
    {
     "data": {
      "text/html": [
       "<style>#sk-container-id-18 {color: black;}#sk-container-id-18 pre{padding: 0;}#sk-container-id-18 div.sk-toggleable {background-color: white;}#sk-container-id-18 label.sk-toggleable__label {cursor: pointer;display: block;width: 100%;margin-bottom: 0;padding: 0.3em;box-sizing: border-box;text-align: center;}#sk-container-id-18 label.sk-toggleable__label-arrow:before {content: \"▸\";float: left;margin-right: 0.25em;color: #696969;}#sk-container-id-18 label.sk-toggleable__label-arrow:hover:before {color: black;}#sk-container-id-18 div.sk-estimator:hover label.sk-toggleable__label-arrow:before {color: black;}#sk-container-id-18 div.sk-toggleable__content {max-height: 0;max-width: 0;overflow: hidden;text-align: left;background-color: #f0f8ff;}#sk-container-id-18 div.sk-toggleable__content pre {margin: 0.2em;color: black;border-radius: 0.25em;background-color: #f0f8ff;}#sk-container-id-18 input.sk-toggleable__control:checked~div.sk-toggleable__content {max-height: 200px;max-width: 100%;overflow: auto;}#sk-container-id-18 input.sk-toggleable__control:checked~label.sk-toggleable__label-arrow:before {content: \"▾\";}#sk-container-id-18 div.sk-estimator input.sk-toggleable__control:checked~label.sk-toggleable__label {background-color: #d4ebff;}#sk-container-id-18 div.sk-label input.sk-toggleable__control:checked~label.sk-toggleable__label {background-color: #d4ebff;}#sk-container-id-18 input.sk-hidden--visually {border: 0;clip: rect(1px 1px 1px 1px);clip: rect(1px, 1px, 1px, 1px);height: 1px;margin: -1px;overflow: hidden;padding: 0;position: absolute;width: 1px;}#sk-container-id-18 div.sk-estimator {font-family: monospace;background-color: #f0f8ff;border: 1px dotted black;border-radius: 0.25em;box-sizing: border-box;margin-bottom: 0.5em;}#sk-container-id-18 div.sk-estimator:hover {background-color: #d4ebff;}#sk-container-id-18 div.sk-parallel-item::after {content: \"\";width: 100%;border-bottom: 1px solid gray;flex-grow: 1;}#sk-container-id-18 div.sk-label:hover label.sk-toggleable__label {background-color: #d4ebff;}#sk-container-id-18 div.sk-serial::before {content: \"\";position: absolute;border-left: 1px solid gray;box-sizing: border-box;top: 0;bottom: 0;left: 50%;z-index: 0;}#sk-container-id-18 div.sk-serial {display: flex;flex-direction: column;align-items: center;background-color: white;padding-right: 0.2em;padding-left: 0.2em;position: relative;}#sk-container-id-18 div.sk-item {position: relative;z-index: 1;}#sk-container-id-18 div.sk-parallel {display: flex;align-items: stretch;justify-content: center;background-color: white;position: relative;}#sk-container-id-18 div.sk-item::before, #sk-container-id-18 div.sk-parallel-item::before {content: \"\";position: absolute;border-left: 1px solid gray;box-sizing: border-box;top: 0;bottom: 0;left: 50%;z-index: -1;}#sk-container-id-18 div.sk-parallel-item {display: flex;flex-direction: column;z-index: 1;position: relative;background-color: white;}#sk-container-id-18 div.sk-parallel-item:first-child::after {align-self: flex-end;width: 50%;}#sk-container-id-18 div.sk-parallel-item:last-child::after {align-self: flex-start;width: 50%;}#sk-container-id-18 div.sk-parallel-item:only-child::after {width: 0;}#sk-container-id-18 div.sk-dashed-wrapped {border: 1px dashed gray;margin: 0 0.4em 0.5em 0.4em;box-sizing: border-box;padding-bottom: 0.4em;background-color: white;}#sk-container-id-18 div.sk-label label {font-family: monospace;font-weight: bold;display: inline-block;line-height: 1.2em;}#sk-container-id-18 div.sk-label-container {text-align: center;}#sk-container-id-18 div.sk-container {/* jupyter's `normalize.less` sets `[hidden] { display: none; }` but bootstrap.min.css set `[hidden] { display: none !important; }` so we also need the `!important` here to be able to override the default hidden behavior on the sphinx rendered scikit-learn.org. See: https://github.com/scikit-learn/scikit-learn/issues/21755 */display: inline-block !important;position: relative;}#sk-container-id-18 div.sk-text-repr-fallback {display: none;}</style><div id=\"sk-container-id-18\" class=\"sk-top-container\"><div class=\"sk-text-repr-fallback\"><pre>RandomForestClassifier(random_state=2023)</pre><b>In a Jupyter environment, please rerun this cell to show the HTML representation or trust the notebook. <br />On GitHub, the HTML representation is unable to render, please try loading this page with nbviewer.org.</b></div><div class=\"sk-container\" hidden><div class=\"sk-item\"><div class=\"sk-estimator sk-toggleable\"><input class=\"sk-toggleable__control sk-hidden--visually\" id=\"sk-estimator-id-18\" type=\"checkbox\" checked><label for=\"sk-estimator-id-18\" class=\"sk-toggleable__label sk-toggleable__label-arrow\">RandomForestClassifier</label><div class=\"sk-toggleable__content\"><pre>RandomForestClassifier(random_state=2023)</pre></div></div></div></div></div>"
      ],
      "text/plain": [
       "RandomForestClassifier(random_state=2023)"
      ]
     },
     "execution_count": 443,
     "metadata": {},
     "output_type": "execute_result"
    }
   ],
   "source": [
    "# 랜덤포레스트 모델 사용 (참고 : 회귀 모델은 RandomForestRegressor)\n",
    "\n",
    "from sklearn.ensemble import RandomForestClassifier\n",
    "model = RandomForestClassifier(random_state = 2023)\n",
    "model.fit(x_train, y_train)"
   ]
  },
  {
   "cell_type": "code",
   "execution_count": 444,
   "id": "dc8b5953",
   "metadata": {},
   "outputs": [],
   "source": [
    "# 모델을 사용하여 테스트 데이터 예측\n",
    "\n",
    "y_pred = model.predict(x_val)"
   ]
  },
  {
   "cell_type": "code",
   "execution_count": 445,
   "id": "20f0cc6a",
   "metadata": {},
   "outputs": [],
   "source": [
    "# 모델 성능 평가 (정확도, F1 score, 민감도, 특이도 등)\n",
    "\n",
    "from sklearn.metrics import accuracy_score, f1_score, roc_auc_score, recall_score, precision_score\n",
    "acc = accuracy_score(y_val, y_pred)             # (실제값, 예측값)\n",
    "f1 = f1_score(y_val, y_pred)                    # (실제값, 예측값)\n",
    "auc = roc_auc_score(y_val, y_pred)              # (실제값, 예측값)"
   ]
  },
  {
   "cell_type": "code",
   "execution_count": 446,
   "id": "e6cc117b",
   "metadata": {},
   "outputs": [
    {
     "name": "stdout",
     "output_type": "stream",
     "text": [
      "0.8531468531468531\n",
      "0.8108108108108109\n",
      "0.8465909090909092\n"
     ]
    }
   ],
   "source": [
    "print(acc) # 정확도(Accuracy)\n",
    "print(f1)  # F1 score\n",
    "print(auc) # AUC"
   ]
  },
  {
   "cell_type": "code",
   "execution_count": 447,
   "id": "3a8c1c1c",
   "metadata": {},
   "outputs": [
    {
     "name": "stdout",
     "output_type": "stream",
     "text": [
      "[[77 11]\n",
      " [10 45]]\n"
     ]
    }
   ],
   "source": [
    "# 참고사항\n",
    "from sklearn.metrics import confusion_matrix\n",
    "cm = confusion_matrix(y_val, y_pred) # (실제값, 예측값)\n",
    "print(cm)\n",
    "\n",
    "# #### 예측\n",
    "# #### 0  1\n",
    "# 실제 0 TN FP\n",
    "# 실제 1 FN TP"
   ]
  },
  {
   "cell_type": "markdown",
   "id": "cb00b632",
   "metadata": {},
   "source": [
    "# 실제 test 셋으로 성능 평가를 한다면?"
   ]
  },
  {
   "cell_type": "code",
   "execution_count": 448,
   "id": "90fa1b0a",
   "metadata": {},
   "outputs": [],
   "source": [
    "# 모델을 사용하여 테스트 데이터 예측\n",
    "y_pred_f = model.predict(x_test)\n",
    "\n",
    "# 모델 성능 평가 (정확도, F1 score, AUC)\n",
    "from sklearn.metrics import accuracy_score, f1_score, roc_auc_score\n",
    "acc_f = accuracy_score(y_test, y_pred_f)        # (실제값, 예측값)\n",
    "f1_f = f1_score(y_test, y_pred_f)               # (실제값, 예측값)\n",
    "auc_f = roc_auc_score(y_test, y_pred_f)         # (실제값, 예측값)"
   ]
  },
  {
   "cell_type": "code",
   "execution_count": 449,
   "id": "1f1d3e50",
   "metadata": {},
   "outputs": [
    {
     "name": "stdout",
     "output_type": "stream",
     "text": [
      "0.7821229050279329\n",
      "0.7153284671532847\n",
      "0.7687088274044797\n"
     ]
    }
   ],
   "source": [
    "print(acc_f) # 정확도(Accuracy)\n",
    "print(f1_f)  # F1 score\n",
    "print(auc_f) # AUC"
   ]
  },
  {
   "cell_type": "markdown",
   "id": "286a3f6b",
   "metadata": {},
   "source": [
    "# Advanced 버전"
   ]
  },
  {
   "cell_type": "markdown",
   "id": "94b89362",
   "metadata": {},
   "source": [
    "⚠️(주의) 전체 코드 실행 시간이 1분으로 제한되어 있으므로, 가능하면 30초 미만으로 할 것!"
   ]
  },
  {
   "cell_type": "code",
   "execution_count": 450,
   "id": "352a876c",
   "metadata": {},
   "outputs": [
    {
     "name": "stdout",
     "output_type": "stream",
     "text": [
      "최적 하이퍼파라미터:  {'max_depth': 10, 'min_samples_leaf': 3, 'n_estimators': 70}\n",
      "Best 예측 정확도:  0.8427034428794992\n"
     ]
    }
   ],
   "source": [
    "# GridSearch CV를 활용한 하이퍼파라미터 최적화\n",
    "# - GridSearch : 격자 탐색\n",
    "# - CV = CrossValidation, 교차 검증\n",
    "\n",
    "# (주의) 별도로 train/val 분리 필요 X\n",
    "from sklearn.model_selection import GridSearchCV\n",
    "from sklearn.ensemble import RandomForestClassifier\n",
    "\n",
    "rf_params = {'n_estimators' : [30, 70, 100], \n",
    "             'max_depth' : [6, 8, 10], \n",
    "             'min_samples_leaf' : [1, 2, 3],\n",
    "            }\n",
    "\n",
    "# n_estimators : tree의 개수\n",
    "# max_depth : tree의 최대 깊이\n",
    "# min_saples_leaf : leaf node (더이상 분할되지 않는 마지막 노드)가 되기 위해 필요한 최소 샘플 수\n",
    "# (이 값보다 작은 수의 샘플이 해당 노드에 있을 경우, 더 이상 분할 X)\n",
    "\n",
    "# RandomForestClassifier 객체 생성 후 GridSearchCV 수행\n",
    "rf = RandomForestClassifier(random_state = 2023)\n",
    "grid_rf = GridSearchCV(rf, param_grid = rf_params, cv = 10)\n",
    "grid_rf.fit(x_train_ad, y_train_ad['target'])\n",
    "# y값 입력 시 주의 (1차원 형태로 들어가야 함)\n",
    "\n",
    "print('최적 하이퍼파라미터: ', grid_rf.best_params_)\n",
    "print('Best 예측 정확도: ', grid_rf.best_score_)"
   ]
  },
  {
   "cell_type": "code",
   "execution_count": 451,
   "id": "d7cfa11c",
   "metadata": {},
   "outputs": [
    {
     "data": {
      "text/html": [
       "<style>#sk-container-id-19 {color: black;}#sk-container-id-19 pre{padding: 0;}#sk-container-id-19 div.sk-toggleable {background-color: white;}#sk-container-id-19 label.sk-toggleable__label {cursor: pointer;display: block;width: 100%;margin-bottom: 0;padding: 0.3em;box-sizing: border-box;text-align: center;}#sk-container-id-19 label.sk-toggleable__label-arrow:before {content: \"▸\";float: left;margin-right: 0.25em;color: #696969;}#sk-container-id-19 label.sk-toggleable__label-arrow:hover:before {color: black;}#sk-container-id-19 div.sk-estimator:hover label.sk-toggleable__label-arrow:before {color: black;}#sk-container-id-19 div.sk-toggleable__content {max-height: 0;max-width: 0;overflow: hidden;text-align: left;background-color: #f0f8ff;}#sk-container-id-19 div.sk-toggleable__content pre {margin: 0.2em;color: black;border-radius: 0.25em;background-color: #f0f8ff;}#sk-container-id-19 input.sk-toggleable__control:checked~div.sk-toggleable__content {max-height: 200px;max-width: 100%;overflow: auto;}#sk-container-id-19 input.sk-toggleable__control:checked~label.sk-toggleable__label-arrow:before {content: \"▾\";}#sk-container-id-19 div.sk-estimator input.sk-toggleable__control:checked~label.sk-toggleable__label {background-color: #d4ebff;}#sk-container-id-19 div.sk-label input.sk-toggleable__control:checked~label.sk-toggleable__label {background-color: #d4ebff;}#sk-container-id-19 input.sk-hidden--visually {border: 0;clip: rect(1px 1px 1px 1px);clip: rect(1px, 1px, 1px, 1px);height: 1px;margin: -1px;overflow: hidden;padding: 0;position: absolute;width: 1px;}#sk-container-id-19 div.sk-estimator {font-family: monospace;background-color: #f0f8ff;border: 1px dotted black;border-radius: 0.25em;box-sizing: border-box;margin-bottom: 0.5em;}#sk-container-id-19 div.sk-estimator:hover {background-color: #d4ebff;}#sk-container-id-19 div.sk-parallel-item::after {content: \"\";width: 100%;border-bottom: 1px solid gray;flex-grow: 1;}#sk-container-id-19 div.sk-label:hover label.sk-toggleable__label {background-color: #d4ebff;}#sk-container-id-19 div.sk-serial::before {content: \"\";position: absolute;border-left: 1px solid gray;box-sizing: border-box;top: 0;bottom: 0;left: 50%;z-index: 0;}#sk-container-id-19 div.sk-serial {display: flex;flex-direction: column;align-items: center;background-color: white;padding-right: 0.2em;padding-left: 0.2em;position: relative;}#sk-container-id-19 div.sk-item {position: relative;z-index: 1;}#sk-container-id-19 div.sk-parallel {display: flex;align-items: stretch;justify-content: center;background-color: white;position: relative;}#sk-container-id-19 div.sk-item::before, #sk-container-id-19 div.sk-parallel-item::before {content: \"\";position: absolute;border-left: 1px solid gray;box-sizing: border-box;top: 0;bottom: 0;left: 50%;z-index: -1;}#sk-container-id-19 div.sk-parallel-item {display: flex;flex-direction: column;z-index: 1;position: relative;background-color: white;}#sk-container-id-19 div.sk-parallel-item:first-child::after {align-self: flex-end;width: 50%;}#sk-container-id-19 div.sk-parallel-item:last-child::after {align-self: flex-start;width: 50%;}#sk-container-id-19 div.sk-parallel-item:only-child::after {width: 0;}#sk-container-id-19 div.sk-dashed-wrapped {border: 1px dashed gray;margin: 0 0.4em 0.5em 0.4em;box-sizing: border-box;padding-bottom: 0.4em;background-color: white;}#sk-container-id-19 div.sk-label label {font-family: monospace;font-weight: bold;display: inline-block;line-height: 1.2em;}#sk-container-id-19 div.sk-label-container {text-align: center;}#sk-container-id-19 div.sk-container {/* jupyter's `normalize.less` sets `[hidden] { display: none; }` but bootstrap.min.css set `[hidden] { display: none !important; }` so we also need the `!important` here to be able to override the default hidden behavior on the sphinx rendered scikit-learn.org. See: https://github.com/scikit-learn/scikit-learn/issues/21755 */display: inline-block !important;position: relative;}#sk-container-id-19 div.sk-text-repr-fallback {display: none;}</style><div id=\"sk-container-id-19\" class=\"sk-top-container\"><div class=\"sk-text-repr-fallback\"><pre>RandomForestClassifier(max_depth=10, min_samples_leaf=3, n_estimators=70,\n",
       "                       random_state=2023)</pre><b>In a Jupyter environment, please rerun this cell to show the HTML representation or trust the notebook. <br />On GitHub, the HTML representation is unable to render, please try loading this page with nbviewer.org.</b></div><div class=\"sk-container\" hidden><div class=\"sk-item\"><div class=\"sk-estimator sk-toggleable\"><input class=\"sk-toggleable__control sk-hidden--visually\" id=\"sk-estimator-id-19\" type=\"checkbox\" checked><label for=\"sk-estimator-id-19\" class=\"sk-toggleable__label sk-toggleable__label-arrow\">RandomForestClassifier</label><div class=\"sk-toggleable__content\"><pre>RandomForestClassifier(max_depth=10, min_samples_leaf=3, n_estimators=70,\n",
       "                       random_state=2023)</pre></div></div></div></div></div>"
      ],
      "text/plain": [
       "RandomForestClassifier(max_depth=10, min_samples_leaf=3, n_estimators=70,\n",
       "                       random_state=2023)"
      ]
     },
     "execution_count": 451,
     "metadata": {},
     "output_type": "execute_result"
    }
   ],
   "source": [
    "# 위의 최적 하이퍼파라미터로 랜덤포레스트 모델 생성\n",
    "\n",
    "from sklearn.ensemble import RandomForestClassifier\n",
    "model_h = RandomForestClassifier(n_estimators = 70, \n",
    "                                 max_depth = 10, \n",
    "                                 min_samples_leaf = 3, \n",
    "                                 random_state = 2023)\n",
    "\n",
    "model_h.fit(x_train_ad, y_train_ad['target']) # y 데이터 입력 시 주의"
   ]
  },
  {
   "cell_type": "code",
   "execution_count": 452,
   "id": "0ab0976d",
   "metadata": {},
   "outputs": [
    {
     "name": "stdout",
     "output_type": "stream",
     "text": [
      "HP 최적화 Acc: 0.7988826815642458\n",
      "HP 최적화 f1: 0.7272727272727272\n",
      "HP 최적화 AUC: 0.7796442687747035\n",
      "기본모델 Acc: 0.7821229050279329\n",
      "기본모델 f1: 0.7153284671532847\n",
      "기본모델 AUC: 0.7687088274044797\n"
     ]
    }
   ],
   "source": [
    "# 모델 성능 평가 (정확도, F1 score, AUC)\n",
    "\n",
    "from sklearn.metrics import accuracy_score, f1_score, roc_auc_score\n",
    "\n",
    "# test 데이터셋으로 성능 평가\n",
    "y_pred_h = model_h.predict(x_test)\n",
    "\n",
    "acc_h = accuracy_score(y_test, y_pred_h) # (실제값, 예측값)\n",
    "f1_h = f1_score(y_test, y_pred_h)\n",
    "auc_h = roc_auc_score(y_test, y_pred_h)\n",
    "\n",
    "print('HP 최적화 Acc:', acc_h)\n",
    "print('HP 최적화 f1:', f1_h)\n",
    "print('HP 최적화 AUC:', auc_h)\n",
    "# HP : Hyperparameter\n",
    "\n",
    "print('기본모델 Acc:', acc_f)\n",
    "print('기본모델 f1:', f1_f)\n",
    "print('기본모델 AUC:', auc_f)"
   ]
  },
  {
   "cell_type": "code",
   "execution_count": 453,
   "id": "bc865bb1",
   "metadata": {},
   "outputs": [],
   "source": [
    "# (참고) help 함수를 통한 함수 사용법 확인\n",
    "\n",
    "# from sklearn.model_selection import GridSearchCV\n",
    "# help(GridSearchCV)\n",
    "\n",
    "# from sklearn.ensemble import RandomForestClassifier\n",
    "# help(RandomForestClassifier)"
   ]
  },
  {
   "cell_type": "markdown",
   "id": "40c05041",
   "metadata": {},
   "source": [
    "# ✅ 5. 예측값 제출"
   ]
  },
  {
   "cell_type": "markdown",
   "id": "4e1b6593",
   "metadata": {},
   "source": [
    "## (주의) x_test 를 모델에 넣어 나온 예측값을 제출해야 함"
   ]
  },
  {
   "cell_type": "code",
   "execution_count": 454,
   "id": "c2e4366e",
   "metadata": {},
   "outputs": [
    {
     "name": "stdout",
     "output_type": "stream",
     "text": [
      "[1 1 0 0 0]\n",
      "[[0.32 0.68]\n",
      " [0.24 0.76]\n",
      " [1.   0.  ]\n",
      " [0.93 0.07]\n",
      " [0.93 0.07]]\n",
      "   result  prob_0\n",
      "0       1    0.32\n",
      "1       1    0.24\n",
      "2       0    1.00\n",
      "3       0    0.93\n",
      "4       0    0.93\n"
     ]
    }
   ],
   "source": [
    "# (실기시험 안내사항)\n",
    "# 아래 코드 예측 변수와 수험번호를 개인별로 변경하여 활용\n",
    "# pd.DataFrame({'result' : y_result}).to_csv('수험번호.csv', index = False)\n",
    "\n",
    "# 모델을 사용하여 테스트 데이터 예측\n",
    "\n",
    "# 1. 특정 클래스로 분류할 경우 (predict)\n",
    "y_result = model.predict(x_test)\n",
    "print(y_result[:5])\n",
    "\n",
    "# 2. 특정 클래스로 분류될 확률을 구할 경우 (predict_proba)\n",
    "y_result_prob = model.predict_proba(x_test)\n",
    "print(y_result_prob[:5])\n",
    "\n",
    "# 이해해보기\n",
    "result_prob = pd.DataFrame({\n",
    "    'result' : y_result,\n",
    "    'prob_0' : y_result_prob[:,0]\n",
    "})\n",
    "\n",
    "# Class 0일 확률 : y_result_prob[:,0]\n",
    "# Class 1일 확률 : y_result_prob[:,1]\n",
    "\n",
    "print(result_prob[:5])"
   ]
  }
 ],
 "metadata": {
  "kernelspec": {
   "display_name": "Python 3 (ipykernel)",
   "language": "python",
   "name": "python3"
  },
  "language_info": {
   "codemirror_mode": {
    "name": "ipython",
    "version": 3
   },
   "file_extension": ".py",
   "mimetype": "text/x-python",
   "name": "python",
   "nbconvert_exporter": "python",
   "pygments_lexer": "ipython3",
   "version": "3.11.5"
  }
 },
 "nbformat": 4,
 "nbformat_minor": 5
}
