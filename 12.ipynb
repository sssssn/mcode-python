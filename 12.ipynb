{
 "cells": [
  {
   "cell_type": "markdown",
   "id": "39f178b9",
   "metadata": {},
   "source": [
    "# 제3유형_다중회귀분석 및 상관분석"
   ]
  },
  {
   "cell_type": "markdown",
   "id": "052aaac7",
   "metadata": {},
   "source": [
    "# ☑️ 다중회귀분석"
   ]
  },
  {
   "cell_type": "code",
   "execution_count": 79,
   "id": "43aa84aa",
   "metadata": {},
   "outputs": [],
   "source": [
    "import pandas as pd\n",
    "import numpy as np"
   ]
  },
  {
   "cell_type": "markdown",
   "id": "c140caa4",
   "metadata": {},
   "source": [
    "### 당뇨병 환자의 질병 진행 정도 데이터셋"
   ]
  },
  {
   "cell_type": "code",
   "execution_count": 80,
   "id": "6cd56783",
   "metadata": {},
   "outputs": [],
   "source": [
    "############### 실기환경 복사 영역 ###############\n",
    "import pandas as pd\n",
    "import numpy as np\n",
    "\n",
    "# 실기 시험 데이터셋으로 셋팅하기\n",
    "from sklearn.datasets import load_diabetes\n",
    "\n",
    "# diabetes 데이터셋 로드\n",
    "diabetes = load_diabetes()\n",
    "x = pd.DataFrame(diabetes.data, columns = diabetes.feature_names)\n",
    "y = pd.DataFrame(diabetes.target)\n",
    "y.columns = ['target']\n",
    "############### 실기환경 복사 영역 ###############"
   ]
  },
  {
   "cell_type": "code",
   "execution_count": 81,
   "id": "6f175d41",
   "metadata": {},
   "outputs": [
    {
     "name": "stdout",
     "output_type": "stream",
     "text": [
      ".. _diabetes_dataset:\n",
      "\n",
      "Diabetes dataset\n",
      "----------------\n",
      "\n",
      "Ten baseline variables, age, sex, body mass index, average blood\n",
      "pressure, and six blood serum measurements were obtained for each of n =\n",
      "442 diabetes patients, as well as the response of interest, a\n",
      "quantitative measure of disease progression one year after baseline.\n",
      "\n",
      "**Data Set Characteristics:**\n",
      "\n",
      "  :Number of Instances: 442\n",
      "\n",
      "  :Number of Attributes: First 10 columns are numeric predictive values\n",
      "\n",
      "  :Target: Column 11 is a quantitative measure of disease progression one year after baseline\n",
      "\n",
      "  :Attribute Information:\n",
      "      - age     age in years\n",
      "      - sex\n",
      "      - bmi     body mass index\n",
      "      - bp      average blood pressure\n",
      "      - s1      tc, total serum cholesterol\n",
      "      - s2      ldl, low-density lipoproteins\n",
      "      - s3      hdl, high-density lipoproteins\n",
      "      - s4      tch, total cholesterol / HDL\n",
      "      - s5      ltg, possibly log of serum triglycerides level\n",
      "      - s6      glu, blood sugar level\n",
      "\n",
      "Note: Each of these 10 feature variables have been mean centered and scaled by the standard deviation times the square root of `n_samples` (i.e. the sum of squares of each column totals 1).\n",
      "\n",
      "Source URL:\n",
      "https://www4.stat.ncsu.edu/~boos/var.select/diabetes.html\n",
      "\n",
      "For more information see:\n",
      "Bradley Efron, Trevor Hastie, Iain Johnstone and Robert Tibshirani (2004) \"Least Angle Regression,\" Annals of Statistics (with discussion), 407-499.\n",
      "(https://web.stanford.edu/~hastie/Papers/LARS/LeastAngle_2002.pdf)\n",
      "\n"
     ]
    }
   ],
   "source": [
    "# 데이터 설명\n",
    "print(diabetes.DESCR)"
   ]
  },
  {
   "cell_type": "markdown",
   "id": "940e4a43",
   "metadata": {},
   "source": [
    "## 1. sklearn 라이브러리 사용"
   ]
  },
  {
   "cell_type": "code",
   "execution_count": 82,
   "id": "8254f549",
   "metadata": {},
   "outputs": [],
   "source": [
    "# sklearn 라이브러리 사용\n",
    "import pandas as pd\n",
    "import numpy as np\n",
    "from sklearn.linear_model import LinearRegression"
   ]
  },
  {
   "cell_type": "code",
   "execution_count": 83,
   "id": "1831f9f4",
   "metadata": {},
   "outputs": [
    {
     "name": "stdout",
     "output_type": "stream",
     "text": [
      "        age       sex       bmi\n",
      "0  0.038076  0.050680  0.061696\n",
      "1 -0.001882 -0.044642 -0.051474\n",
      "2  0.085299  0.050680  0.044451\n",
      "3 -0.089063 -0.044642 -0.011595\n",
      "4  0.005383 -0.044642 -0.036385\n",
      "   target\n",
      "0   151.0\n",
      "1    75.0\n",
      "2   141.0\n",
      "3   206.0\n",
      "4   135.0\n"
     ]
    }
   ],
   "source": [
    "# 독립변수와 종속변수 설정\n",
    "x = x[['age', 'sex', 'bmi']]\n",
    "print(x.head())\n",
    "print(y.head())"
   ]
  },
  {
   "cell_type": "markdown",
   "id": "cf32214d",
   "metadata": {},
   "source": [
    "- 회귀식 : y = b0 + b1x1 + b2x2 + b3x3  \n",
    "(x1 = age, x2 = sex, x3 = bmi)"
   ]
  },
  {
   "cell_type": "code",
   "execution_count": 84,
   "id": "c91a37be",
   "metadata": {},
   "outputs": [
    {
     "data": {
      "text/html": [
       "<style>#sk-container-id-5 {color: black;}#sk-container-id-5 pre{padding: 0;}#sk-container-id-5 div.sk-toggleable {background-color: white;}#sk-container-id-5 label.sk-toggleable__label {cursor: pointer;display: block;width: 100%;margin-bottom: 0;padding: 0.3em;box-sizing: border-box;text-align: center;}#sk-container-id-5 label.sk-toggleable__label-arrow:before {content: \"▸\";float: left;margin-right: 0.25em;color: #696969;}#sk-container-id-5 label.sk-toggleable__label-arrow:hover:before {color: black;}#sk-container-id-5 div.sk-estimator:hover label.sk-toggleable__label-arrow:before {color: black;}#sk-container-id-5 div.sk-toggleable__content {max-height: 0;max-width: 0;overflow: hidden;text-align: left;background-color: #f0f8ff;}#sk-container-id-5 div.sk-toggleable__content pre {margin: 0.2em;color: black;border-radius: 0.25em;background-color: #f0f8ff;}#sk-container-id-5 input.sk-toggleable__control:checked~div.sk-toggleable__content {max-height: 200px;max-width: 100%;overflow: auto;}#sk-container-id-5 input.sk-toggleable__control:checked~label.sk-toggleable__label-arrow:before {content: \"▾\";}#sk-container-id-5 div.sk-estimator input.sk-toggleable__control:checked~label.sk-toggleable__label {background-color: #d4ebff;}#sk-container-id-5 div.sk-label input.sk-toggleable__control:checked~label.sk-toggleable__label {background-color: #d4ebff;}#sk-container-id-5 input.sk-hidden--visually {border: 0;clip: rect(1px 1px 1px 1px);clip: rect(1px, 1px, 1px, 1px);height: 1px;margin: -1px;overflow: hidden;padding: 0;position: absolute;width: 1px;}#sk-container-id-5 div.sk-estimator {font-family: monospace;background-color: #f0f8ff;border: 1px dotted black;border-radius: 0.25em;box-sizing: border-box;margin-bottom: 0.5em;}#sk-container-id-5 div.sk-estimator:hover {background-color: #d4ebff;}#sk-container-id-5 div.sk-parallel-item::after {content: \"\";width: 100%;border-bottom: 1px solid gray;flex-grow: 1;}#sk-container-id-5 div.sk-label:hover label.sk-toggleable__label {background-color: #d4ebff;}#sk-container-id-5 div.sk-serial::before {content: \"\";position: absolute;border-left: 1px solid gray;box-sizing: border-box;top: 0;bottom: 0;left: 50%;z-index: 0;}#sk-container-id-5 div.sk-serial {display: flex;flex-direction: column;align-items: center;background-color: white;padding-right: 0.2em;padding-left: 0.2em;position: relative;}#sk-container-id-5 div.sk-item {position: relative;z-index: 1;}#sk-container-id-5 div.sk-parallel {display: flex;align-items: stretch;justify-content: center;background-color: white;position: relative;}#sk-container-id-5 div.sk-item::before, #sk-container-id-5 div.sk-parallel-item::before {content: \"\";position: absolute;border-left: 1px solid gray;box-sizing: border-box;top: 0;bottom: 0;left: 50%;z-index: -1;}#sk-container-id-5 div.sk-parallel-item {display: flex;flex-direction: column;z-index: 1;position: relative;background-color: white;}#sk-container-id-5 div.sk-parallel-item:first-child::after {align-self: flex-end;width: 50%;}#sk-container-id-5 div.sk-parallel-item:last-child::after {align-self: flex-start;width: 50%;}#sk-container-id-5 div.sk-parallel-item:only-child::after {width: 0;}#sk-container-id-5 div.sk-dashed-wrapped {border: 1px dashed gray;margin: 0 0.4em 0.5em 0.4em;box-sizing: border-box;padding-bottom: 0.4em;background-color: white;}#sk-container-id-5 div.sk-label label {font-family: monospace;font-weight: bold;display: inline-block;line-height: 1.2em;}#sk-container-id-5 div.sk-label-container {text-align: center;}#sk-container-id-5 div.sk-container {/* jupyter's `normalize.less` sets `[hidden] { display: none; }` but bootstrap.min.css set `[hidden] { display: none !important; }` so we also need the `!important` here to be able to override the default hidden behavior on the sphinx rendered scikit-learn.org. See: https://github.com/scikit-learn/scikit-learn/issues/21755 */display: inline-block !important;position: relative;}#sk-container-id-5 div.sk-text-repr-fallback {display: none;}</style><div id=\"sk-container-id-5\" class=\"sk-top-container\"><div class=\"sk-text-repr-fallback\"><pre>LinearRegression()</pre><b>In a Jupyter environment, please rerun this cell to show the HTML representation or trust the notebook. <br />On GitHub, the HTML representation is unable to render, please try loading this page with nbviewer.org.</b></div><div class=\"sk-container\" hidden><div class=\"sk-item\"><div class=\"sk-estimator sk-toggleable\"><input class=\"sk-toggleable__control sk-hidden--visually\" id=\"sk-estimator-id-5\" type=\"checkbox\" checked><label for=\"sk-estimator-id-5\" class=\"sk-toggleable__label sk-toggleable__label-arrow\">LinearRegression</label><div class=\"sk-toggleable__content\"><pre>LinearRegression()</pre></div></div></div></div></div>"
      ],
      "text/plain": [
       "LinearRegression()"
      ]
     },
     "execution_count": 84,
     "metadata": {},
     "output_type": "execute_result"
    }
   ],
   "source": [
    "# 모델링\n",
    "from sklearn.linear_model import LinearRegression\n",
    "model = LinearRegression()\n",
    "model.fit(x, y)"
   ]
  },
  {
   "cell_type": "code",
   "execution_count": 85,
   "id": "8af1a8fa",
   "metadata": {},
   "outputs": [
    {
     "name": "stdout",
     "output_type": "stream",
     "text": [
      "0.35\n"
     ]
    }
   ],
   "source": [
    "# 회귀분석 관련 지표 출력\n",
    "\n",
    "# 1. Rsq(결정계수) : model.score(x, y)\n",
    "model.score(x, y)\n",
    "print(round(model.score(x, y), 2))"
   ]
  },
  {
   "cell_type": "code",
   "execution_count": 86,
   "id": "5debad85",
   "metadata": {},
   "outputs": [
    {
     "name": "stdout",
     "output_type": "stream",
     "text": [
      "[[138.9  -36.14 926.91]]\n",
      "138.9\n",
      "-36.14\n",
      "926.91\n"
     ]
    }
   ],
   "source": [
    "# 2. 회귀계수 출력 : model.coef_\n",
    "print(np.round(model.coef_, 2)) # 전체 회귀계수\n",
    "print(np.round(model.coef_[0, 0], 2)) # x1의 회귀계수\n",
    "print(np.round(model.coef_[0, 1], 2)) # x2의 회귀계수\n",
    "print(np.round(model.coef_[0, 2], 2)) # x3의 회귀계수"
   ]
  },
  {
   "cell_type": "code",
   "execution_count": 87,
   "id": "2eb81021",
   "metadata": {},
   "outputs": [
    {
     "name": "stdout",
     "output_type": "stream",
     "text": [
      "[152.13]\n"
     ]
    }
   ],
   "source": [
    "# 3. 회귀계수(절편) : model.intercept_\n",
    "print(np.round(model.intercept_, 2))"
   ]
  },
  {
   "cell_type": "markdown",
   "id": "06098f0e",
   "metadata": {},
   "source": [
    "- 회귀식 : y = b0 + b1x1 + b2x2 + b3x3  \n",
    "(x1 = age, x2 = sex, x3 = bmi)\n",
    "\n",
    "### 결과 : y = 152.13 + 138.9age - 36.14sex + 926.91bmi"
   ]
  },
  {
   "cell_type": "markdown",
   "id": "cf9c31ec",
   "metadata": {},
   "source": [
    "## \t2. statsmodels 라이브러리 사용"
   ]
  },
  {
   "cell_type": "code",
   "execution_count": 88,
   "id": "36bb475b",
   "metadata": {},
   "outputs": [
    {
     "name": "stdout",
     "output_type": "stream",
     "text": [
      "        age       sex       bmi\n",
      "0  0.038076  0.050680  0.061696\n",
      "1 -0.001882 -0.044642 -0.051474\n",
      "2  0.085299  0.050680  0.044451\n",
      "3 -0.089063 -0.044642 -0.011595\n",
      "4  0.005383 -0.044642 -0.036385\n",
      "   target\n",
      "0   151.0\n",
      "1    75.0\n",
      "2   141.0\n",
      "3   206.0\n",
      "4   135.0\n"
     ]
    }
   ],
   "source": [
    "# statsmodel.formula 활용\n",
    "import statsmodels.api as sm\n",
    "\n",
    "# 독립변수와 종속변수 설정\n",
    "x = x[['age', 'sex', 'bmi']]\n",
    "print(x.head())\n",
    "print(y.head()) "
   ]
  },
  {
   "cell_type": "code",
   "execution_count": 89,
   "id": "c00a7d9b",
   "metadata": {},
   "outputs": [
    {
     "name": "stdout",
     "output_type": "stream",
     "text": [
      "                            OLS Regression Results                            \n",
      "==============================================================================\n",
      "Dep. Variable:                 target   R-squared:                       0.351\n",
      "Model:                            OLS   Adj. R-squared:                  0.346\n",
      "Method:                 Least Squares   F-statistic:                     78.94\n",
      "Date:                Thu, 30 Nov 2023   Prob (F-statistic):           7.77e-41\n",
      "Time:                        06:32:55   Log-Likelihood:                -2451.6\n",
      "No. Observations:                 442   AIC:                             4911.\n",
      "Df Residuals:                     438   BIC:                             4928.\n",
      "Df Model:                           3                                         \n",
      "Covariance Type:            nonrobust                                         \n",
      "==============================================================================\n",
      "                 coef    std err          t      P>|t|      [0.025      0.975]\n",
      "------------------------------------------------------------------------------\n",
      "const        152.1335      2.964     51.321      0.000     146.307     157.960\n",
      "age          138.9039     64.254      2.162      0.031      12.618     265.189\n",
      "sex          -36.1353     63.391     -0.570      0.569    -160.724      88.453\n",
      "bmi          926.9120     63.525     14.591      0.000     802.061    1051.763\n",
      "==============================================================================\n",
      "Omnibus:                       14.687   Durbin-Watson:                   1.851\n",
      "Prob(Omnibus):                  0.001   Jarque-Bera (JB):                8.290\n",
      "Skew:                           0.150   Prob(JB):                       0.0158\n",
      "Kurtosis:                       2.400   Cond. No.                         23.7\n",
      "==============================================================================\n",
      "\n",
      "Notes:\n",
      "[1] Standard Errors assume that the covariance matrix of the errors is correctly specified.\n"
     ]
    }
   ],
   "source": [
    "# 모델링\n",
    "import statsmodels.api as sm\n",
    "\n",
    "x = sm.add_constant(x) # (주의) 상수항 추가\n",
    "model = sm.OLS(y, x).fit() # (주의) 왼쪽이 y\n",
    "# y_pred = model.predict(x)\n",
    "summary = model.summary()\n",
    "print(summary)"
   ]
  },
  {
   "cell_type": "code",
   "execution_count": 90,
   "id": "eddb52d6",
   "metadata": {},
   "outputs": [],
   "source": [
    "# 1. Rsq(결정계수)\n",
    "# r2 = 0.351\n",
    "\n",
    "# 2. 회귀계수\n",
    "# age = 138.9039\n",
    "# sex = -36.1353\n",
    "# bmi = 926.9120\n",
    "\n",
    "# 3. 회귀계수(절편)\n",
    "# const = 152.1335\n",
    "\n",
    "# 4. 회귀식 p-value\n",
    "# p-value = 7.77e-41"
   ]
  },
  {
   "cell_type": "markdown",
   "id": "2b778867",
   "metadata": {},
   "source": [
    "### (결과 비교) 두 라이브러리 모두 같은 결과값 출력\n",
    "\n",
    "- 회귀식 : y = b0 + b1x1 + b2x2 + b3x3  \n",
    "(x1 = age, x2 = sex, x3 = bmi)\n",
    "\n",
    "### 1. sklearn\n",
    "#### y = 152.13 + 138.9age - 36.14sex + 926.91bmi\n",
    "\n",
    "### 2. statsmodels\n",
    "#### y = 152.13 + 138.9age - 36.14sex + 926.91bmi"
   ]
  },
  {
   "cell_type": "markdown",
   "id": "8dff26ef",
   "metadata": {},
   "source": [
    "# ☑️ 상관분석"
   ]
  },
  {
   "cell_type": "code",
   "execution_count": 91,
   "id": "6961f3c1",
   "metadata": {},
   "outputs": [],
   "source": [
    "############### 실기환경 복사 영역 ###############\n",
    "import pandas as pd\n",
    "import numpy as np\n",
    "\n",
    "# 실기 시험 데이터셋으로 셋팅하기\n",
    "from sklearn.datasets import load_diabetes\n",
    "\n",
    "# diabetes 데이터셋 로드\n",
    "diabetes = load_diabetes()\n",
    "x = pd.DataFrame(diabetes.data, columns = diabetes.feature_names)\n",
    "y = pd.DataFrame(diabetes.target)\n",
    "y.columns = ['target']\n",
    "############### 실기환경 복사 영역 ###############"
   ]
  },
  {
   "cell_type": "code",
   "execution_count": 92,
   "id": "509ea6ee",
   "metadata": {},
   "outputs": [
    {
     "name": "stdout",
     "output_type": "stream",
     "text": [
      "0    0.061696\n",
      "1   -0.051474\n",
      "2    0.044451\n",
      "3   -0.011595\n",
      "4   -0.036385\n",
      "Name: bmi, dtype: float64\n",
      "0    151.0\n",
      "1     75.0\n",
      "2    141.0\n",
      "3    206.0\n",
      "4    135.0\n",
      "Name: target, dtype: float64\n"
     ]
    }
   ],
   "source": [
    "# 2가지 변수 설정\n",
    "x = x['bmi']\n",
    "y = y['target']\n",
    "print(x.head())\n",
    "print(y.head())"
   ]
  },
  {
   "cell_type": "code",
   "execution_count": 93,
   "id": "4140186a",
   "metadata": {},
   "outputs": [
    {
     "name": "stdout",
     "output_type": "stream",
     "text": [
      "0.59\n",
      "0.0\n",
      "15.19\n"
     ]
    }
   ],
   "source": [
    "# 라이브러리 불러오기\n",
    "from scipy.stats import pearsonr\n",
    "\n",
    "# 상관계수에 대한 검정\n",
    "r, pvalue = pearsonr(x, y)\n",
    "\n",
    "# 가설 검정\n",
    "# H0 : 두 변수간 선형 관계가 존재하지 않는다.\n",
    "# H1 : 두 변수간 선형 관계가 존재한다.\n",
    "\n",
    "# 1. 상관계수\n",
    "print(round(r, 2))\n",
    "\n",
    "# 2. p-value\n",
    "print(round(pvalue, 2))\n",
    "\n",
    "# 3. 검정통계량\n",
    "# 통계량은 별도로 구해야 함 (T = r * root(n - 2) / root(1 - r2))\n",
    "# r = 상관계수\n",
    "# n = 데이터의 개수\n",
    "\n",
    "n = len(x) # 데이터 수\n",
    "r2 = r**2 # 상관계수의 제곱\n",
    "statistic = r * ((n - 2) ** 0.5) / ((1 - r2) ** 0.5)\n",
    "\n",
    "print(round(statistic, 2))\n",
    "\n",
    "# 4. 귀무가설 기각 여부 결정 (채택/기각)\n",
    "# p-value 값이 0.05보다 작기 때문에(0) 귀무가설 기각\n",
    "# 즉, 두 변수간 선형 관계가 존재하지 않는다고 할 수 없다.\n",
    "\n",
    "# 답 : 기각"
   ]
  }
 ],
 "metadata": {
  "kernelspec": {
   "display_name": "Python 3 (ipykernel)",
   "language": "python",
   "name": "python3"
  },
  "language_info": {
   "codemirror_mode": {
    "name": "ipython",
    "version": 3
   },
   "file_extension": ".py",
   "mimetype": "text/x-python",
   "name": "python",
   "nbconvert_exporter": "python",
   "pygments_lexer": "ipython3",
   "version": "3.11.5"
  }
 },
 "nbformat": 4,
 "nbformat_minor": 5
}
